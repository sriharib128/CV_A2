{
 "cells": [
  {
   "cell_type": "code",
   "execution_count": 1,
   "id": "15921a3d-0cce-4731-8420-c9e131dda5bd",
   "metadata": {},
   "outputs": [],
   "source": [
    "import torch"
   ]
  },
  {
   "cell_type": "code",
   "execution_count": 2,
   "id": "0040ce15-0178-479e-aaa4-d94a52e4d6a4",
   "metadata": {},
   "outputs": [
    {
     "data": {
      "text/plain": [
       "True"
      ]
     },
     "execution_count": 2,
     "metadata": {},
     "output_type": "execute_result"
    }
   ],
   "source": [
    "torch.cuda.is_available()"
   ]
  },
  {
   "cell_type": "code",
   "execution_count": 3,
   "id": "c7470850-b2e4-4832-b8d8-f49b8e4e9e37",
   "metadata": {},
   "outputs": [
    {
     "name": "stdout",
     "output_type": "stream",
     "text": [
      "--2024-04-24 21:45:30--  https://www.kaggle.com/code/dhvananrangrej/image-segmentation-with-unet-pytorch/notebook\n",
      "Resolving www.kaggle.com (www.kaggle.com)... 35.244.233.98\n",
      "Connecting to www.kaggle.com (www.kaggle.com)|35.244.233.98|:443... connected.\n",
      "HTTP request sent, awaiting response... 200 OK\n",
      "Length: unspecified [text/html]\n",
      "Saving to: ‘image_segmentation_unet.ipynb’\n",
      "\n",
      "image_segmentation_     [ <=>                ]   8.55K  --.-KB/s    in 0.007s  \n",
      "\n",
      "2024-04-24 21:45:30 (1.12 MB/s) - ‘image_segmentation_unet.ipynb’ saved [8754]\n",
      "\n"
     ]
    }
   ],
   "source": [
    "!wget -O image_segmentation_unet.ipynb https://www.kaggle.com/code/dhvananrangrej/image-segmentation-with-unet-pytorch/notebook"
   ]
  },
  {
   "cell_type": "code",
   "execution_count": null,
   "id": "95acc92e-7453-48f4-af6c-0b309e3b4cb0",
   "metadata": {},
   "outputs": [],
   "source": []
  }
 ],
 "metadata": {
  "kernelspec": {
   "display_name": "Python 3 (ipykernel)",
   "language": "python",
   "name": "python3"
  },
  "language_info": {
   "codemirror_mode": {
    "name": "ipython",
    "version": 3
   },
   "file_extension": ".py",
   "mimetype": "text/x-python",
   "name": "python",
   "nbconvert_exporter": "python",
   "pygments_lexer": "ipython3",
   "version": "3.12.2"
  }
 },
 "nbformat": 4,
 "nbformat_minor": 5
}
