{
 "cells": [
  {
   "cell_type": "code",
   "execution_count": 1,
   "id": "16162968-85c1-45dc-89af-53ac0fd1470a",
   "metadata": {},
   "outputs": [],
   "source": [
    "import cv2\n",
    "import time\n",
    "import numpy as np\n",
    "import os"
   ]
  },
  {
   "cell_type": "markdown",
   "id": "f47943e5-dc19-4277-9b37-84face84c714",
   "metadata": {},
   "source": [
    "# Q1: Face detection and association-based tracking [4.5 points]"
   ]
  },
  {
   "cell_type": "markdown",
   "id": "d6b0e591-cbff-4173-b087-161bd51de18a",
   "metadata": {},
   "source": [
    "## 1. [0.5 points] Data preparation."
   ]
  },
  {
   "cell_type": "raw",
   "id": "0933e43b-d1f4-4d54-8869-3c1657c38341",
   "metadata": {},
   "source": [
    "#!/bin/bash\n",
    "\n",
    "# Download the video using youtube-dl\n",
    "VIDEO_URL=\"https://www.youtube.com/watch?v=bSMxl1V8FSg\"\n",
    "yt-dlp -f 'best[height<=480]' -o video.mp4 \"$VIDEO_URL\"\n",
    "# youtube-dl -f 'best[height<=480]' -o video.mp4 \"$VIDEO_URL\"\n",
    "\n",
    "# Extract frames using ffmpeg\n",
    "mkdir frames\n",
    "ffmpeg -i video.mp4 -vf fps=25 -t 30 frames/frame_%04d.jpg\n"
   ]
  },
  {
   "cell_type": "markdown",
   "id": "0b177ff4-51ce-4258-8460-2fea1d7822c8",
   "metadata": {},
   "source": [
    "## 2. [1.5 points] Face detection. "
   ]
  },
  {
   "cell_type": "code",
   "execution_count": 2,
   "id": "3ccfb992-4aab-4394-a4c7-2a5922e5ebb1",
   "metadata": {},
   "outputs": [],
   "source": [
    "# face_cascade = cv2.CascadeClassifier('./haarcascade_frontalface_default.xml')"
   ]
  },
  {
   "cell_type": "code",
   "execution_count": 3,
   "id": "f893c910-d664-47d2-82c7-764a40f5ddbc",
   "metadata": {},
   "outputs": [],
   "source": [
    "# img = cv2.imread(f\"./frames/output_1.jpg\")\n",
    "# gray = cv2.cvtColor(img,cv2.COLOR_BGR2GRAY)\n",
    "\n",
    "# start = time.time()\n",
    "# faces = face_cascade.detectMultiScale(gray, scaleFactor=1.1, minNeighbors=5, minSize=(30, 30))\n",
    "# print(time.time()-start)"
   ]
  },
  {
   "cell_type": "code",
   "execution_count": null,
   "id": "1adcd700-5b5f-43fd-a260-3e8ba2fc8839",
   "metadata": {},
   "outputs": [],
   "source": []
  },
  {
   "cell_type": "markdown",
   "id": "c0824324-b926-438f-8150-e344d51b9d6c",
   "metadata": {},
   "source": [
    "## 3. [1 point] Face detection visualization."
   ]
  },
  {
   "cell_type": "code",
   "execution_count": 4,
   "id": "2def9755-a49d-44e9-a61a-3ce2114fcc53",
   "metadata": {},
   "outputs": [],
   "source": [
    "# if not os.path.exists('output.mp4'):\n",
    "#     video_path = 'video.mp4'\n",
    "#     cap = cv2.VideoCapture(video_path)\n",
    "#     fps = cap.get(cv2.CAP_PROP_FPS)\n",
    "#     frame_width = int(cap.get(cv2.CAP_PROP_FRAME_WIDTH))\n",
    "#     frame_height = int(cap.get(cv2.CAP_PROP_FRAME_HEIGHT))\n",
    "#     cap.release()\n",
    "    \n",
    "#     fourcc = cv2.VideoWriter_fourcc(*'mp4v')\n",
    "#     out_path = 'output.mp4'\n",
    "#     video_writer = cv2.VideoWriter(out_path, fourcc, fps,(frame_width,frame_height))\n",
    "    \n",
    "#     for i in range(720):\n",
    "#         img = cv2.imread(f\"./frames/output_{i+1}.jpg\")\n",
    "#         gray = cv2.cvtColor(img,cv2.COLOR_BGR2GRAY)\n",
    "    \n",
    "#         faces = face_cascade.detectMultiScale(gray, scaleFactor=1.1, minNeighbors=5, minSize=(30, 30))\n",
    "#         for (x, y, w, h) in faces:\n",
    "#             cv2.rectangle(img, (x, y), (x+w, y+h), (255, 0, 0), 2)\n",
    "#         video_writer.write(img)\n",
    "    \n",
    "#         # cv2.imshow('Face Detection', img)\n",
    "#         # key = cv2.waitKey(0) # goes to next image only when we press smtg\n",
    "#         # # key = cv2.waitKey(1) # goes to next image automatically\n",
    "    \n",
    "#         # if key == ord('q'):  # 'Esc' key\n",
    "#         #     cv2.destroyAllWindows()\n",
    "#         #     break\n",
    "    \n",
    "#     # Release the capture\n",
    "#     video_writer.release()\n",
    "#     cv2.destroyAllWindows()"
   ]
  },
  {
   "cell_type": "markdown",
   "id": "6bc471d7-fc37-4472-9b47-3eb8bfde42f7",
   "metadata": {},
   "source": [
    "## 4. [1.5 point] Association-based tracking"
   ]
  },
  {
   "cell_type": "code",
   "execution_count": 5,
   "id": "cab3b832-a7fe-48e2-aace-feb7070f1d80",
   "metadata": {},
   "outputs": [],
   "source": [
    "class Tracker:\n",
    "    \n",
    "    def __init__(self):\n",
    "        self.tracker = {\n",
    "            \"bbox\" : [],\n",
    "            \"id\": [],\n",
    "            \"last_uniq_id\": -1\n",
    "        }\n",
    "    \n",
    "    def get_IOU(self,bbox1, bbox2):\n",
    "        \n",
    "        x1, y1, w1, h1 = bbox1\n",
    "        x2, y2, w2, h2 = bbox2\n",
    "    \n",
    "        x_left = max(x1, x2)\n",
    "        y_top = max(y1, y2)\n",
    "        x_right = min(x1 + w1, x2 + w2)\n",
    "        y_bottom = min(y1 + h1, y2 + h2)\n",
    "    \n",
    "        if x_right < x_left or y_bottom < y_top:\n",
    "            return 0.0\n",
    "    \n",
    "        intersection_area = (x_right - x_left) * (y_bottom - y_top)\n",
    "    \n",
    "        # Calculate areas of the bounding boxes\n",
    "        bbox1_area = w1 * h1\n",
    "        bbox2_area = w2 * h2\n",
    "    \n",
    "        # Calculate union area\n",
    "        union_area = bbox1_area + bbox2_area - intersection_area\n",
    "    \n",
    "        # Calculate IoU\n",
    "        iou = intersection_area / union_area\n",
    "    \n",
    "        return iou\n",
    "\n",
    "    def update(self,cur_bboxes):\n",
    "        # print(cur_bboxes,self.tracker)\n",
    "        temp = self.tracker[\"bbox\"].copy()\n",
    "        # for id,bbox in enumerate(self.tracker[\"bbox\"]):\n",
    "        a=0\n",
    "        for id,bbox in enumerate(temp):\n",
    "            # print(id,bbox)\n",
    "            max_iou,max_index = -1,-1\n",
    "            for index,cur_bbox in enumerate(cur_bboxes):\n",
    "                iou = self.get_IOU(bbox,cur_bbox)\n",
    "                if (iou>max_iou):\n",
    "                    max_iou = iou\n",
    "                    max_index = index\n",
    "                \n",
    "            if max_iou < 0.5:\n",
    "                # print(\"no max_iou\")\n",
    "                self.tracker[\"bbox\"].pop(id-a)\n",
    "                self.tracker[\"id\"].pop(id-a)\n",
    "                a+=1\n",
    "            else:\n",
    "                # print(\"max_iou found\",max_index)\n",
    "                self.tracker[\"bbox\"][id-a] = cur_bboxes[max_index]\n",
    "                cur_bboxes = np.delete(cur_bboxes,max_index,axis=0)\n",
    "            # print(cur_bboxes,self.tracker)\n",
    "        while len(cur_bboxes)!=0:\n",
    "            self.tracker[\"last_uniq_id\"]+=1\n",
    "            self.tracker[\"bbox\"].append(cur_bboxes[0])\n",
    "            self.tracker[\"id\"].append(self.tracker[\"last_uniq_id\"])\n",
    "            cur_bboxes=np.delete(cur_bboxes,0,axis=0)\n",
    "        return self.tracker"
   ]
  },
  {
   "cell_type": "code",
   "execution_count": 6,
   "id": "20fbaea8-caeb-4105-87cb-47c7c9e095a1",
   "metadata": {},
   "outputs": [],
   "source": [
    "# if not os.path.exists('track_id.mp4'):\n",
    "#     no_uniq_tracks = 0\n",
    "#     track_vid = Tracker()\n",
    "    \n",
    "#     # Video Writing Part\n",
    "#     video_path = 'video.mp4'\n",
    "#     cap = cv2.VideoCapture(video_path)\n",
    "#     fps = cap.get(cv2.CAP_PROP_FPS)\n",
    "#     frame_width = int(cap.get(cv2.CAP_PROP_FRAME_WIDTH))\n",
    "#     frame_height = int(cap.get(cv2.CAP_PROP_FRAME_HEIGHT))\n",
    "#     cap.release()\n",
    "#     fourcc = cv2.VideoWriter_fourcc(*'mp4v')\n",
    "#     out_path = 'track_id.mp4'\n",
    "#     video_writer = cv2.VideoWriter(out_path, fourcc, fps,(frame_width,frame_height))\n",
    "    \n",
    "#     for i in range(720):\n",
    "#         img = cv2.imread(f\"./frames/output_{i+1}.jpg\")\n",
    "#         gray = cv2.cvtColor(img,cv2.COLOR_BGR2GRAY)\n",
    "    \n",
    "#         faces = face_cascade.detectMultiScale(gray, scaleFactor=1.1, minNeighbors=5, minSize=(30, 30))\n",
    "        \n",
    "#         # print(faces)\n",
    "        \n",
    "#         tracker = track_vid.update(faces)\n",
    "        \n",
    "#         # print(\"==============\",i)\n",
    "        \n",
    "#         for index,bbox in enumerate(tracker[\"bbox\"]):\n",
    "            \n",
    "#             # print(bbox,type(bbox))\n",
    "#             x, y, w, h = bbox[0],bbox[1],bbox[2],bbox[3]\n",
    "#             x_min,y_min = x,y\n",
    "#             x_max,y_max = x+w,y+h\n",
    "            \n",
    "#             cv2.rectangle(img, (int(x_min), int(y_min)), (int(x_max), int(y_max)), (0, 255, 0), 2)\n",
    "#             # Put unique ID text\n",
    "#             cv2.putText(img, str(tracker[\"id\"][index]), (int(x_min), int(y_min) - 5), cv2.FONT_HERSHEY_SIMPLEX, 0.5, (255, 255, 255), 2)\n",
    "#         cv2.imwrite(f\"./frames_track/img_{i}.jpg\",img)\n",
    "#         video_writer.write(img)\n",
    "#         no_uniq_tracks = tracker[\"last_uniq_id\"]\n",
    "\n",
    "#     print(no_uniq_tracks)\n",
    "#     # Release the capture\n",
    "#     video_writer.release()\n",
    "#     cv2.destroyAllWindows()"
   ]
  },
  {
   "cell_type": "markdown",
   "id": "59854b7d-2f0e-420e-80b8-5238b97b5ea2",
   "metadata": {},
   "source": [
    "# Q2: YOLO Object Detection [5.5 points]"
   ]
  },
  {
   "cell_type": "markdown",
   "id": "f1d06c54-a355-42f0-bc8c-cf53837d76a4",
   "metadata": {},
   "source": [
    "## 1. [0.5 point] Data preparation."
   ]
  },
  {
   "cell_type": "code",
   "execution_count": 7,
   "id": "694f3193-7867-4db5-8c50-9df35c797269",
   "metadata": {},
   "outputs": [],
   "source": [
    "# !pip install kaggle\n",
    "# !kaggle datasets download -d haziqasajid5122/yolov8-finetuning-dataset-ducks\n",
    "# !unzip yolov8-finetuning-dataset-ducks.zip"
   ]
  },
  {
   "cell_type": "markdown",
   "id": "8602de04-b75d-49bc-bc52-998b4e10c111",
   "metadata": {},
   "source": [
    "**Training and Validation Data:**\n",
    "\n",
    "1. train/images: This folder contains the training images (e.g., *.jpg files).\n",
    "2. train/labels: This folder contains the annotation files (e.g., *.txt files) corresponding to the training images.\n",
    "3. valid/images: This folder contains the validation (or test) images.\n",
    "4. valid/labels: This folder contains the annotation files corresponding to the validation images."
   ]
  },
  {
   "cell_type": "markdown",
   "id": "ebceac08-29b4-480e-a4a0-1adea338ef0e",
   "metadata": {},
   "source": [
    "## 2. [1 point] Understanding YOLO object detector."
   ]
  },
  {
   "cell_type": "markdown",
   "id": "14acef73-f16f-4db2-a49e-6ffee86c05ee",
   "metadata": {},
   "source": [
    "The YOLO object detector is a pioneering deep learning-based approach for real-time object detection in images and video. Unlike traditional methods that use region proposal networks (like R-CNN series), YOLO is a single-shot detector. This means it predicts bounding boxes and class probabilities for these boxes directly from the full image in one evaluation, making it extremely fast.\n",
    "\n",
    "**Difference between YOLO and R-CNN Series:**\n",
    "\n",
    "1. **Single-shot vs. Two-stage Detection**:\n",
    "   - YOLO is a single-shot detector, meaning it processes the entire image at once to predict bounding boxes and class probabilities. It doesn't require a separate region proposal step.\n",
    "   - R-CNN series (like Faster R-CNN) are two-stage detectors. They first propose regions of interest (RoIs) using a region proposal network (RPN) and then use a classifier to classify these proposed regions.\n",
    "\n",
    "2. **Speed and Simplicity**:\n",
    "   - YOLO is faster compared to the R-CNN series because it doesn't need multiple passes through the network for region proposals and classification.\n",
    "   - R-CNN series, although accurate, are slower due to their two-stage process involving region proposals and subsequent classification.\n",
    "\n",
    "3. **End-to-End Learning**:\n",
    "   - YOLO learns to detect objects in an end-to-end manner. The loss function considers both localization and classification tasks jointly during training.\n",
    "   - R-CNN series typically train region proposal and classification networks separately, which can make the training process more complex.\n",
    "\n",
    "**Different Versions of YOLO:**\n",
    "\n",
    "1. **YOLOv1**:\n",
    "   - The original YOLO model introduced the concept of dividing the input image into a grid and predicting bounding boxes and class probabilities directly from this grid. It had limitations in handling small objects and suffered from localization errors.\n",
    "\n",
    "2. **YOLOv3**:\n",
    "   - YOLOv3 addressed the limitations of YOLOv1 by introducing improvements like feature pyramid network (FPN) for multi-scale feature extraction, bounding box regression using logistic regression, and the use of anchor boxes to handle different aspect ratios.\n",
    "\n",
    "3. **YOLOv4**:\n",
    "   - YOLOv4 further improved speed and accuracy by incorporating advanced techniques like the use of bag-of-freebies (data augmentation, multi-scale training), bag-of-specials (Mish activation, PANet feature pyramid), and optimized architecture design (CSPDarknet53 as backbone)."
   ]
  },
  {
   "cell_type": "markdown",
   "id": "7251eebc-6024-4acb-af91-94ce3f0e2a2c",
   "metadata": {},
   "source": [
    "## 3. [1 points] Hands on with ultralytics."
   ]
  },
  {
   "cell_type": "code",
   "execution_count": 8,
   "id": "00b0d56a-e7da-4427-9213-44a36846ab84",
   "metadata": {
    "scrolled": true
   },
   "outputs": [],
   "source": [
    "import random\n",
    "import os\n",
    "import glob\n",
    "import shutil\n",
    "import yaml\n",
    "import torch\n",
    "from ultralytics import YOLO"
   ]
  },
  {
   "cell_type": "code",
   "execution_count": 9,
   "id": "73cc4676-c750-4b56-9370-2dab6b9474e0",
   "metadata": {},
   "outputs": [
    {
     "name": "stdout",
     "output_type": "stream",
     "text": [
      "Total Parameters: 3157200\n",
      "Number of Convolutional Layers: 64\n"
     ]
    }
   ],
   "source": [
    "model = YOLO('yolov8n.yaml')  # build a new model from YAML\n",
    "\n",
    "# Print the total number of parameters\n",
    "print(f\"Total Parameters: {sum(p.numel() for p in model.parameters())}\")\n",
    "\n",
    "# Count the convolutional layers (excluding BatchNorm2d and other non-convolutional layers)\n",
    "num_conv_layers = 0\n",
    "for name, module in model.named_modules():\n",
    "    if isinstance(module, torch.nn.Conv2d):\n",
    "        num_conv_layers += 1\n",
    "\n",
    "print(f\"Number of Convolutional Layers: {num_conv_layers}\")"
   ]
  },
  {
   "cell_type": "code",
   "execution_count": 10,
   "id": "4b47c451-c6bc-4ab7-90cf-d350d4fd9c33",
   "metadata": {},
   "outputs": [
    {
     "name": "stdout",
     "output_type": "stream",
     "text": [
      "Total Parameters: 25902640\n",
      "Number of Convolutional Layers: 84\n"
     ]
    }
   ],
   "source": [
    "model = YOLO('yolov8m.yaml')  # build a new model from YAML\n",
    "\n",
    "# Print the total number of parameters\n",
    "print(f\"Total Parameters: {sum(p.numel() for p in model.parameters())}\")\n",
    "\n",
    "# Count the convolutional layers (excluding BatchNorm2d and other non-convolutional layers)\n",
    "num_conv_layers = 0\n",
    "for name, module in model.named_modules():\n",
    "    if isinstance(module, torch.nn.Conv2d):\n",
    "        num_conv_layers += 1\n",
    "\n",
    "print(f\"Number of Convolutional Layers: {num_conv_layers}\")"
   ]
  },
  {
   "cell_type": "markdown",
   "id": "6edf9b7e-2568-45a1-9c1e-15300896419f",
   "metadata": {},
   "source": [
    "## 4. [2 points] Training YOLO variants."
   ]
  },
  {
   "cell_type": "markdown",
   "id": "b1febc98-9103-4ce6-a824-58fa836a6183",
   "metadata": {},
   "source": [
    "#### (i) Create two versions of the training dataset"
   ]
  },
  {
   "cell_type": "code",
   "execution_count": 11,
   "id": "1fd90ced-eece-4d5d-8fb4-f8b7ba833f55",
   "metadata": {},
   "outputs": [
    {
     "name": "stdout",
     "output_type": "stream",
     "text": [
      "400\n"
     ]
    }
   ],
   "source": [
    "def is_image_file(filename):\n",
    "    image_extensions = ['.jpg', '.jpeg', '.png', '.gif', '.bmp']\n",
    "    _, ext = os.path.splitext(filename)\n",
    "    return ext.lower() in image_extensions\n",
    "    \n",
    "def get_image_paths(directory):\n",
    "    image_paths = []\n",
    "    \n",
    "    for file in os.listdir(directory):\n",
    "        if os.path.isfile(os.path.join(directory, file)):\n",
    "            if is_image_file(file):\n",
    "                image_paths.append(os.path.join(directory, file))    \n",
    "    return image_paths\n",
    "\n",
    "image_paths = get_image_paths(\"./datasets/archive/images/train\")\n",
    "print(len(image_paths))"
   ]
  },
  {
   "cell_type": "raw",
   "id": "8cc146e7-65a7-4d60-8e23-f4af1981cf12",
   "metadata": {},
   "source": [
    "# Randomly select 100 images for train1\n",
    "train1_images = random.sample(image_paths, 100)\n",
    "\n",
    "train1_dir = \"./archive/images/train1\"\n",
    "train2_dir = \"./archive/images/train\"\n",
    "val_dir = \"./archive/images/val\"\n",
    "\n",
    "with open(\"./archive/config.yaml\", \"r\") as f:\n",
    "    config_content = f.read()\n",
    "\n",
    "# Modify data paths for train1\n",
    "with open(\"./archive/train1_config.yaml\", \"w\") as f:\n",
    "    modified_content = config_content.replace(\n",
    "        \"train: images/train\", f\"train: images/train1\"\n",
    "    )\n",
    "    f.write(modified_content)"
   ]
  },
  {
   "cell_type": "raw",
   "id": "f35941b6-63d8-4f67-add5-13b0c8c37fd8",
   "metadata": {},
   "source": [
    "for image_path in train1_images:\n",
    "    !cp \"{image_path}\" ./archive/images/train1\n",
    "\n",
    "image_paths = get_image_paths(\"./datasets/archive/images/train1\")\n",
    "for image_path in image_paths:\n",
    "    text = image_path.split(\"/\")[-1][:-4] +\".txt\"\n",
    "    text_path_source = \"./datasets/archive/labels/train/\"+text\n",
    "    text_path_dest = \"./datasets/archive/labels/train1/\"+text\n",
    "    !cp {text_path_source} {text_path_dest}"
   ]
  },
  {
   "cell_type": "markdown",
   "id": "0fc100c2-8738-4167-b579-50e5851f469a",
   "metadata": {},
   "source": [
    "#### (ii) train three variants of the Yolo v8 models"
   ]
  },
  {
   "cell_type": "code",
   "execution_count": 12,
   "id": "2fe2e51a-becb-4680-9f3d-cbbf62d20655",
   "metadata": {},
   "outputs": [],
   "source": [
    "def remove_cache_files(directory):\n",
    "    # Iterate through all the directories and files\n",
    "    for root, dirs, files in os.walk(directory):\n",
    "        for file in files:\n",
    "            if file.endswith('.cache'):\n",
    "                # Construct the full path to the file\n",
    "                file_path = os.path.join(root, file)\n",
    "                try:\n",
    "                    # Attempt to remove the file\n",
    "                    os.remove(file_path)\n",
    "                    print(f\"Removed: {file_path}\")\n",
    "                except OSError as e:\n",
    "                    print(f\"Error: {file_path} - {e}\")"
   ]
  },
  {
   "cell_type": "code",
   "execution_count": 13,
   "id": "7d4b13ba-53de-4399-9c91-e9c4e6f8703a",
   "metadata": {},
   "outputs": [],
   "source": [
    "def train_model(model_name, config_path, epochs):\n",
    "\n",
    "    if \"train1\" in config_path:\n",
    "        project = \"yolov8_100img\"\n",
    "    else:\n",
    "        project = \"yolov8_400img\"\n",
    "        \n",
    "    pretrained=True\n",
    "    if \"yaml\" in model_name:\n",
    "        name = \"8n_scratch\"\n",
    "        pretrained=False\n",
    "    elif \"8n.pt\" in model_name:\n",
    "        name = \"8n_pretrained\"\n",
    "    elif \"8m.pt\" in model_name:\n",
    "        name = \"8m_pretrained\"\n",
    "\n",
    "\n",
    "    destination = f\"./{name}_{project[-6:]}.pt\"\n",
    "\n",
    "    if not os.path.exists(destination):\n",
    "        model = YOLO(model_name)\n",
    "        results = model.train(data=config_path, epochs=epochs, project=project, name=name, exist_ok=True,pretrained=pretrained,workers=8)\n",
    "        source = f\"./{project}/{name}/weights/best.pt\"\n",
    "        shutil.move(source, destination)\n",
    "        !rm -rf {project}\n",
    "        !rm -rf {\"wandb/\"}\n",
    "        remove_cache_files(\"./datasets/\")\n",
    "        return results\n",
    "    else:\n",
    "        print(\"already trained\")\n",
    "        return None"
   ]
  },
  {
   "cell_type": "code",
   "execution_count": 14,
   "id": "95be24e6-fe68-4c48-99de-54458d59c4d7",
   "metadata": {},
   "outputs": [
    {
     "name": "stdout",
     "output_type": "stream",
     "text": [
      "Training: yolov8n.yaml\n",
      "already trained\n",
      "Training: yolov8n.pt\n",
      "already trained\n",
      "Training: yolov8m.pt\n",
      "already trained\n",
      "Training: yolov8n.yaml\n",
      "already trained\n",
      "Training: yolov8n.pt\n",
      "already trained\n",
      "Training: yolov8m.pt\n",
      "already trained\n"
     ]
    }
   ],
   "source": [
    "# Train each variant\n",
    "variants = [\n",
    "    (\"yolov8n.yaml\", \"./datasets/archive/train1_config.yaml\", 20),\n",
    "    (\"yolov8n.pt\", \"./datasets/archive/train1_config.yaml\", 20),\n",
    "    (\"yolov8m.pt\", \"./datasets/archive/train1_config.yaml\", 20),\n",
    "    (\"yolov8n.yaml\", \"./datasets/archive/config.yaml\", 20),\n",
    "    (\"yolov8n.pt\", \"./datasets/archive/config.yaml\", 20),\n",
    "    (\"yolov8m.pt\", \"./datasets/archive/config.yaml\", 20),\n",
    "]\n",
    "\n",
    "results=[]\n",
    "for variant_name, config_path, epochs in variants:\n",
    "    print(f\"Training: {variant_name}\")\n",
    "    results.append(train_model(variant_name, config_path, epochs))"
   ]
  },
  {
   "cell_type": "markdown",
   "id": "3d8f4ba5-9c45-494e-889b-99704938d010",
   "metadata": {},
   "source": [
    "#### (iii) Report and compare the results (AP50)"
   ]
  },
  {
   "cell_type": "code",
   "execution_count": 15,
   "id": "9df88b1c-6d93-4ecc-acf5-ed2ded3d5a89",
   "metadata": {},
   "outputs": [
    {
     "name": "stdout",
     "output_type": "stream",
     "text": [
      "['./8m_pretrained_100img.pt', './8m_pretrained_400img.pt', './8n_pretrained_100img.pt', './8n_pretrained_400img.pt', './8n_scratch_100img.pt', './8n_scratch_400img.pt']\n"
     ]
    }
   ],
   "source": [
    "def is_weights_file(filename):\n",
    "    # image_extensions = ['.jpg', '.jpeg', '.png', '.gif', '.bmp']\n",
    "    weights_extensions = [\".pt\"]\n",
    "    _, ext = os.path.splitext(filename)\n",
    "    return ext.lower() in weights_extensions\n",
    "    \n",
    "def get_weights_paths(directory):\n",
    "    image_paths = []\n",
    "    \n",
    "    for file in os.listdir(directory):\n",
    "        if os.path.isfile(os.path.join(directory, file)):\n",
    "            if is_weights_file(file):\n",
    "                if(\"img\") in file:\n",
    "                    image_paths.append(os.path.join(directory, file))    \n",
    "    return image_paths\n",
    "\n",
    "weight_paths = get_weights_paths(\"./\")\n",
    "weight_paths.sort()\n",
    "print(weight_paths)"
   ]
  },
  {
   "cell_type": "code",
   "execution_count": 20,
   "id": "cd43be91-747e-4b6a-a91c-9b3d09ade249",
   "metadata": {
    "scrolled": true
   },
   "outputs": [],
   "source": [
    "if not os.path.exists(\"./results.yaml\"):\n",
    "    results = {}\n",
    "    \n",
    "    for weight in weight_paths:\n",
    "        model = YOLO(weight)\n",
    "        \n",
    "        temp = \"train1\" if \"100\" in weight else \"train\"\n",
    "        \n",
    "        with open(\"./datasets/archive/config.yaml\", 'r') as file:\n",
    "            config = yaml.safe_load(file)\n",
    "            config['val'] = f\"images/{temp}\"\n",
    "        \n",
    "        with open(\"./datasets/archive/val_config.yaml\", 'w') as new_file:\n",
    "            yaml.dump(config, new_file)\n",
    "    \n",
    "        remove_cache_files(\"./datasets/\")\n",
    "        val_map50 = model.val(data='./datasets/archive/config.yaml',workers=8).box.map50\n",
    "        remove_cache_files(\"./datasets/\")\n",
    "        train_map50 = model.val(data='./datasets/archive/val_config.yaml',workers=8).box.map50 \n",
    "        \n",
    "        results[weight] = {\n",
    "            'train_map50': str(train_map50),\n",
    "            'val_map50': str(val_map50)\n",
    "        }\n",
    "    \n",
    "    with open('results.yaml', 'w') as results_file:\n",
    "        yaml.dump(results, results_file, default_flow_style=False)\n",
    "    \n",
    "    print(\"Results saved to results.yaml file.\")\n",
    "else:\n",
    "    with open(\"./results.yaml\", 'r') as file:\n",
    "        results = yaml.safe_load(file)"
   ]
  },
  {
   "cell_type": "code",
   "execution_count": 21,
   "id": "416a0f30-95a5-4cf0-bee0-46d8027bd950",
   "metadata": {},
   "outputs": [
    {
     "data": {
      "text/plain": [
       "{'./8m_pretrained_100img.pt': {'train_map50': '0.5145641148451473',\n",
       "  'val_map50': '0.7650654444444815'},\n",
       " './8m_pretrained_400img.pt': {'train_map50': '0.6341431052263113',\n",
       "  'val_map50': '0.6824602386564481'},\n",
       " './8n_pretrained_100img.pt': {'train_map50': '0.3933532849826364',\n",
       "  'val_map50': '0.6196120870840143'},\n",
       " './8n_pretrained_400img.pt': {'train_map50': '0.7191097542662153',\n",
       "  'val_map50': '0.7451942051689854'},\n",
       " './8n_scratch_100img.pt': {'train_map50': '0.004443553390401636',\n",
       "  'val_map50': '0.01331078806616563'},\n",
       " './8n_scratch_400img.pt': {'train_map50': '0.1710272651327212',\n",
       "  'val_map50': '0.23190925440902255'}}"
      ]
     },
     "execution_count": 21,
     "metadata": {},
     "output_type": "execute_result"
    }
   ],
   "source": [
    "results"
   ]
  },
  {
   "cell_type": "markdown",
   "id": "6926f3ca-0afd-41e9-ad9e-41ad3f3c932b",
   "metadata": {},
   "source": [
    "(a) Increasing dataset size generally improves model performance. For `yolov8m` (larger model), there's a slight decrease in validation mAP@50 (from `0.765` to `0.682`) when moving from 100 to 400 images, potentially due to overfitting. In contrast, `yolov8n` (smaller model) shows significant improvement (`0.620` to `0.745`) with more data, indicating better generalization.\n",
    "\n",
    "(b) The larger model (`yolov8m`) outperforms the smaller model (`yolov8n`) in most cases. `yolov8m` achieves higher validation mAP@50 (`0.765` for 100 images and `0.682` for 400 images) compared to `yolov8n` (`0.620` for 100 images and `0.745` for 400 images). This is likely due to `yolov8m`'s increased capacity to learn complex patterns, though it may suffer from overfitting with smaller datasets."
   ]
  },
  {
   "cell_type": "markdown",
   "id": "d60d2b25-bdef-4b9d-9b04-b4be73175410",
   "metadata": {},
   "source": [
    "#### (iv) Visualize"
   ]
  },
  {
   "cell_type": "code",
   "execution_count": 29,
   "id": "43166f1f-f375-4628-a2d4-5c7e2d605e49",
   "metadata": {},
   "outputs": [],
   "source": [
    "model = YOLO(\"./8m_pretrained_100img.pt\")"
   ]
  },
  {
   "cell_type": "code",
   "execution_count": 30,
   "id": "155fcb0e-9b0d-4d34-83dd-02d7da14899d",
   "metadata": {},
   "outputs": [
    {
     "name": "stdout",
     "output_type": "stream",
     "text": [
      "50\n"
     ]
    }
   ],
   "source": [
    "image_paths = get_image_paths(\"./datasets/archive/images/val\")\n",
    "print(len(image_paths))"
   ]
  },
  {
   "cell_type": "code",
   "execution_count": 32,
   "id": "07f7535a-c2c1-4563-884e-2e6f05404384",
   "metadata": {},
   "outputs": [
    {
     "name": "stdout",
     "output_type": "stream",
     "text": [
      "\n",
      "0: 640x640 2 ducks, 10.1ms\n",
      "1: 640x640 1 duck, 10.1ms\n",
      "2: 640x640 2 ducks, 10.1ms\n",
      "3: 640x640 1 duck, 10.1ms\n",
      "Speed: 2.9ms preprocess, 10.1ms inference, 1.0ms postprocess per image at shape (1, 3, 640, 640)\n"
     ]
    }
   ],
   "source": [
    "train1_images = random.sample(image_paths, 4)\n",
    "results = model.predict(train1_images)"
   ]
  },
  {
   "cell_type": "code",
   "execution_count": 40,
   "id": "4e9e10db-b8b6-46b7-8173-87323ac817d8",
   "metadata": {},
   "outputs": [],
   "source": [
    "# import matplotlib.pyplot as plt\n",
    "for i,result in enumerate(results):\n",
    "    result.save(f\"result{i}.png\")"
   ]
  },
  {
   "cell_type": "code",
   "execution_count": null,
   "id": "3768f49c-f830-410b-a211-7db37df3eb2c",
   "metadata": {},
   "outputs": [],
   "source": []
  }
 ],
 "metadata": {
  "kernelspec": {
   "display_name": "Python 3 (ipykernel)",
   "language": "python",
   "name": "python3"
  },
  "language_info": {
   "codemirror_mode": {
    "name": "ipython",
    "version": 3
   },
   "file_extension": ".py",
   "mimetype": "text/x-python",
   "name": "python",
   "nbconvert_exporter": "python",
   "pygments_lexer": "ipython3",
   "version": "3.8.18"
  }
 },
 "nbformat": 4,
 "nbformat_minor": 5
}
