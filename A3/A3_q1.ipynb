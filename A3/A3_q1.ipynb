{
 "cells": [
  {
   "cell_type": "code",
   "execution_count": 1,
   "id": "16162968-85c1-45dc-89af-53ac0fd1470a",
   "metadata": {},
   "outputs": [],
   "source": [
    "import cv2\n",
    "import time\n",
    "import numpy as np\n",
    "import os"
   ]
  },
  {
   "cell_type": "markdown",
   "id": "f47943e5-dc19-4277-9b37-84face84c714",
   "metadata": {},
   "source": [
    "# Q1: Face detection and association-based tracking [4.5 points]"
   ]
  },
  {
   "cell_type": "markdown",
   "id": "d6b0e591-cbff-4173-b087-161bd51de18a",
   "metadata": {},
   "source": [
    "## 1. [0.5 points] Data preparation."
   ]
  },
  {
   "cell_type": "raw",
   "id": "0933e43b-d1f4-4d54-8869-3c1657c38341",
   "metadata": {},
   "source": [
    "#!/bin/bash\n",
    "\n",
    "# Download the video using youtube-dl\n",
    "VIDEO_URL=\"https://www.youtube.com/watch?v=bSMxl1V8FSg\"\n",
    "yt-dlp -f 'best[height<=480]' -o video.mp4 \"$VIDEO_URL\"\n",
    "# youtube-dl -f 'best[height<=480]' -o video.mp4 \"$VIDEO_URL\"\n",
    "\n",
    "# Extract frames using ffmpeg\n",
    "mkdir frames\n",
    "ffmpeg -i video.mp4 -vf fps=25 -t 30 frames/frame_%04d.jpg\n"
   ]
  },
  {
   "cell_type": "markdown",
   "id": "0b177ff4-51ce-4258-8460-2fea1d7822c8",
   "metadata": {},
   "source": [
    "## 2. [1.5 points] Face detection. "
   ]
  },
  {
   "cell_type": "code",
   "execution_count": 2,
   "id": "3ccfb992-4aab-4394-a4c7-2a5922e5ebb1",
   "metadata": {},
   "outputs": [],
   "source": [
    "face_cascade = cv2.CascadeClassifier('./haarcascade_frontalface_default.xml')"
   ]
  },
  {
   "cell_type": "code",
   "execution_count": 3,
   "id": "f893c910-d664-47d2-82c7-764a40f5ddbc",
   "metadata": {},
   "outputs": [
    {
     "name": "stdout",
     "output_type": "stream",
     "text": [
      "0.031328439712524414\n"
     ]
    }
   ],
   "source": [
    "img = cv2.imread(f\"./frames/output_1.jpg\")\n",
    "gray = cv2.cvtColor(img,cv2.COLOR_BGR2GRAY)\n",
    "\n",
    "start = time.time()\n",
    "faces = face_cascade.detectMultiScale(gray, scaleFactor=1.1, minNeighbors=5, minSize=(30, 30))\n",
    "print(time.time()-start)"
   ]
  },
  {
   "cell_type": "code",
   "execution_count": null,
   "id": "1adcd700-5b5f-43fd-a260-3e8ba2fc8839",
   "metadata": {},
   "outputs": [],
   "source": []
  },
  {
   "cell_type": "markdown",
   "id": "c0824324-b926-438f-8150-e344d51b9d6c",
   "metadata": {},
   "source": [
    "## 3. [1 point] Face detection visualization."
   ]
  },
  {
   "cell_type": "code",
   "execution_count": 4,
   "id": "2def9755-a49d-44e9-a61a-3ce2114fcc53",
   "metadata": {},
   "outputs": [],
   "source": [
    "if not os.path.exists('output.mp4'):\n",
    "    video_path = 'video.mp4'\n",
    "    cap = cv2.VideoCapture(video_path)\n",
    "    fps = cap.get(cv2.CAP_PROP_FPS)\n",
    "    frame_width = int(cap.get(cv2.CAP_PROP_FRAME_WIDTH))\n",
    "    frame_height = int(cap.get(cv2.CAP_PROP_FRAME_HEIGHT))\n",
    "    cap.release()\n",
    "    \n",
    "    fourcc = cv2.VideoWriter_fourcc(*'mp4v')\n",
    "    out_path = 'output.mp4'\n",
    "    video_writer = cv2.VideoWriter(out_path, fourcc, fps,(frame_width,frame_height))\n",
    "    \n",
    "    for i in range(720):\n",
    "        img = cv2.imread(f\"./frames/output_{i+1}.jpg\")\n",
    "        gray = cv2.cvtColor(img,cv2.COLOR_BGR2GRAY)\n",
    "    \n",
    "        faces = face_cascade.detectMultiScale(gray, scaleFactor=1.1, minNeighbors=5, minSize=(30, 30))\n",
    "        for (x, y, w, h) in faces:\n",
    "            cv2.rectangle(img, (x, y), (x+w, y+h), (255, 0, 0), 2)\n",
    "        video_writer.write(img)\n",
    "    \n",
    "        # cv2.imshow('Face Detection', img)\n",
    "        # key = cv2.waitKey(0) # goes to next image only when we press smtg\n",
    "        # # key = cv2.waitKey(1) # goes to next image automatically\n",
    "    \n",
    "        # if key == ord('q'):  # 'Esc' key\n",
    "        #     cv2.destroyAllWindows()\n",
    "        #     break\n",
    "    \n",
    "    # Release the capture\n",
    "    video_writer.release()\n",
    "    cv2.destroyAllWindows()"
   ]
  },
  {
   "cell_type": "markdown",
   "id": "6bc471d7-fc37-4472-9b47-3eb8bfde42f7",
   "metadata": {},
   "source": [
    "## 4. [1.5 point] Association-based tracking"
   ]
  },
  {
   "cell_type": "code",
   "execution_count": 5,
   "id": "cab3b832-a7fe-48e2-aace-feb7070f1d80",
   "metadata": {},
   "outputs": [],
   "source": [
    "class Tracker:\n",
    "    \n",
    "    def __init__(self):\n",
    "        self.tracker = {\n",
    "            \"bbox\" : [],\n",
    "            \"id\": [],\n",
    "            \"last_uniq_id\": -1\n",
    "        }\n",
    "    \n",
    "    def get_IOU(self,bbox1, bbox2):\n",
    "        \n",
    "        x1, y1, w1, h1 = bbox1\n",
    "        x2, y2, w2, h2 = bbox2\n",
    "    \n",
    "        x_left = max(x1, x2)\n",
    "        y_top = max(y1, y2)\n",
    "        x_right = min(x1 + w1, x2 + w2)\n",
    "        y_bottom = min(y1 + h1, y2 + h2)\n",
    "    \n",
    "        if x_right < x_left or y_bottom < y_top:\n",
    "            return 0.0\n",
    "    \n",
    "        intersection_area = (x_right - x_left) * (y_bottom - y_top)\n",
    "    \n",
    "        # Calculate areas of the bounding boxes\n",
    "        bbox1_area = w1 * h1\n",
    "        bbox2_area = w2 * h2\n",
    "    \n",
    "        # Calculate union area\n",
    "        union_area = bbox1_area + bbox2_area - intersection_area\n",
    "    \n",
    "        # Calculate IoU\n",
    "        iou = intersection_area / union_area\n",
    "    \n",
    "        return iou\n",
    "\n",
    "    def update(self,cur_bboxes):\n",
    "        # print(cur_bboxes,self.tracker)\n",
    "        temp = self.tracker[\"bbox\"].copy()\n",
    "        # for id,bbox in enumerate(self.tracker[\"bbox\"]):\n",
    "        a=0\n",
    "        for id,bbox in enumerate(temp):\n",
    "            # print(id,bbox)\n",
    "            max_iou,max_index = -1,-1\n",
    "            for index,cur_bbox in enumerate(cur_bboxes):\n",
    "                iou = self.get_IOU(bbox,cur_bbox)\n",
    "                if (iou>max_iou):\n",
    "                    max_iou = iou\n",
    "                    max_index = index\n",
    "                \n",
    "            if max_iou < 0.5:\n",
    "                # print(\"no max_iou\")\n",
    "                self.tracker[\"bbox\"].pop(id-a)\n",
    "                self.tracker[\"id\"].pop(id-a)\n",
    "                a+=1\n",
    "            else:\n",
    "                # print(\"max_iou found\",max_index)\n",
    "                self.tracker[\"bbox\"][id-a] = cur_bboxes[max_index]\n",
    "                cur_bboxes = np.delete(cur_bboxes,max_index,axis=0)\n",
    "            # print(cur_bboxes,self.tracker)\n",
    "        while len(cur_bboxes)!=0:\n",
    "            self.tracker[\"last_uniq_id\"]+=1\n",
    "            self.tracker[\"bbox\"].append(cur_bboxes[0])\n",
    "            self.tracker[\"id\"].append(self.tracker[\"last_uniq_id\"])\n",
    "            cur_bboxes=np.delete(cur_bboxes,0,axis=0)\n",
    "        return self.tracker"
   ]
  },
  {
   "cell_type": "code",
   "execution_count": 6,
   "id": "20fbaea8-caeb-4105-87cb-47c7c9e095a1",
   "metadata": {},
   "outputs": [],
   "source": [
    "if not os.path.exists('track_id.mp4'):\n",
    "    no_uniq_tracks = 0\n",
    "    track_vid = Tracker()\n",
    "    \n",
    "    # Video Writing Part\n",
    "    video_path = 'video.mp4'\n",
    "    cap = cv2.VideoCapture(video_path)\n",
    "    fps = cap.get(cv2.CAP_PROP_FPS)\n",
    "    frame_width = int(cap.get(cv2.CAP_PROP_FRAME_WIDTH))\n",
    "    frame_height = int(cap.get(cv2.CAP_PROP_FRAME_HEIGHT))\n",
    "    cap.release()\n",
    "    fourcc = cv2.VideoWriter_fourcc(*'mp4v')\n",
    "    out_path = 'track_id.mp4'\n",
    "    video_writer = cv2.VideoWriter(out_path, fourcc, fps,(frame_width,frame_height))\n",
    "    \n",
    "    for i in range(720):\n",
    "        img = cv2.imread(f\"./frames/output_{i+1}.jpg\")\n",
    "        gray = cv2.cvtColor(img,cv2.COLOR_BGR2GRAY)\n",
    "    \n",
    "        faces = face_cascade.detectMultiScale(gray, scaleFactor=1.1, minNeighbors=5, minSize=(30, 30))\n",
    "        \n",
    "        # print(faces)\n",
    "        \n",
    "        tracker = track_vid.update(faces)\n",
    "        \n",
    "        # print(\"==============\",i)\n",
    "        \n",
    "        for index,bbox in enumerate(tracker[\"bbox\"]):\n",
    "            \n",
    "            # print(bbox,type(bbox))\n",
    "            x, y, w, h = bbox[0],bbox[1],bbox[2],bbox[3]\n",
    "            x_min,y_min = x,y\n",
    "            x_max,y_max = x+w,y+h\n",
    "            \n",
    "            cv2.rectangle(img, (int(x_min), int(y_min)), (int(x_max), int(y_max)), (0, 255, 0), 2)\n",
    "            # Put unique ID text\n",
    "            cv2.putText(img, str(tracker[\"id\"][index]), (int(x_min), int(y_min) - 5), cv2.FONT_HERSHEY_SIMPLEX, 0.5, (255, 255, 255), 2)\n",
    "        cv2.imwrite(f\"./frames_track/img_{i}.jpg\",img)\n",
    "        video_writer.write(img)\n",
    "        no_uniq_tracks = tracker[\"last_uniq_id\"]\n",
    "\n",
    "    print(no_uniq_tracks)\n",
    "    # Release the capture\n",
    "    video_writer.release()\n",
    "    cv2.destroyAllWindows()"
   ]
  },
  {
   "cell_type": "markdown",
   "id": "59854b7d-2f0e-420e-80b8-5238b97b5ea2",
   "metadata": {},
   "source": [
    "# Q2: YOLO Object Detection [5.5 points]"
   ]
  },
  {
   "cell_type": "markdown",
   "id": "f1d06c54-a355-42f0-bc8c-cf53837d76a4",
   "metadata": {},
   "source": [
    "## 1. [0.5 point] Data preparation."
   ]
  },
  {
   "cell_type": "markdown",
   "id": "8602de04-b75d-49bc-bc52-998b4e10c111",
   "metadata": {},
   "source": [
    "**Training and Validation Data:**\n",
    "\n",
    "1. train/images: This folder contains the training images (e.g., *.jpg files).\n",
    "2. train/labels: This folder contains the annotation files (e.g., *.txt files) corresponding to the training images.\n",
    "3. valid/images: This folder contains the validation (or test) images.\n",
    "4. valid/labels: This folder contains the annotation files corresponding to the validation images."
   ]
  },
  {
   "cell_type": "markdown",
   "id": "ebceac08-29b4-480e-a4a0-1adea338ef0e",
   "metadata": {},
   "source": [
    "## 2. [1 point] Understanding YOLO object detector."
   ]
  },
  {
   "cell_type": "markdown",
   "id": "14acef73-f16f-4db2-a49e-6ffee86c05ee",
   "metadata": {},
   "source": [
    "The YOLO object detector is a pioneering deep learning-based approach for real-time object detection in images and video. Unlike traditional methods that use region proposal networks (like R-CNN series), YOLO is a single-shot detector. This means it predicts bounding boxes and class probabilities for these boxes directly from the full image in one evaluation, making it extremely fast.\n",
    "\n",
    "**Difference between YOLO and R-CNN Series:**\n",
    "\n",
    "1. **Single-shot vs. Two-stage Detection**:\n",
    "   - YOLO is a single-shot detector, meaning it processes the entire image at once to predict bounding boxes and class probabilities. It doesn't require a separate region proposal step.\n",
    "   - R-CNN series (like Faster R-CNN) are two-stage detectors. They first propose regions of interest (RoIs) using a region proposal network (RPN) and then use a classifier to classify these proposed regions.\n",
    "\n",
    "2. **Speed and Simplicity**:\n",
    "   - YOLO is faster compared to the R-CNN series because it doesn't need multiple passes through the network for region proposals and classification.\n",
    "   - R-CNN series, although accurate, are slower due to their two-stage process involving region proposals and subsequent classification.\n",
    "\n",
    "3. **End-to-End Learning**:\n",
    "   - YOLO learns to detect objects in an end-to-end manner. The loss function considers both localization and classification tasks jointly during training.\n",
    "   - R-CNN series typically train region proposal and classification networks separately, which can make the training process more complex.\n",
    "\n",
    "**Different Versions of YOLO:**\n",
    "\n",
    "1. **YOLOv1**:\n",
    "   - The original YOLO model introduced the concept of dividing the input image into a grid and predicting bounding boxes and class probabilities directly from this grid. It had limitations in handling small objects and suffered from localization errors.\n",
    "\n",
    "2. **YOLOv3**:\n",
    "   - YOLOv3 addressed the limitations of YOLOv1 by introducing improvements like feature pyramid network (FPN) for multi-scale feature extraction, bounding box regression using logistic regression, and the use of anchor boxes to handle different aspect ratios.\n",
    "\n",
    "3. **YOLOv4**:\n",
    "   - YOLOv4 further improved speed and accuracy by incorporating advanced techniques like the use of bag-of-freebies (data augmentation, multi-scale training), bag-of-specials (Mish activation, PANet feature pyramid), and optimized architecture design (CSPDarknet53 as backbone)."
   ]
  },
  {
   "cell_type": "markdown",
   "id": "7251eebc-6024-4acb-af91-94ce3f0e2a2c",
   "metadata": {},
   "source": [
    "## 3. [1 points] Hands on with ultralytics."
   ]
  },
  {
   "cell_type": "code",
   "execution_count": null,
   "id": "00b0d56a-e7da-4427-9213-44a36846ab84",
   "metadata": {},
   "outputs": [],
   "source": []
  }
 ],
 "metadata": {
  "kernelspec": {
   "display_name": "Python 3 (ipykernel)",
   "language": "python",
   "name": "python3"
  },
  "language_info": {
   "codemirror_mode": {
    "name": "ipython",
    "version": 3
   },
   "file_extension": ".py",
   "mimetype": "text/x-python",
   "name": "python",
   "nbconvert_exporter": "python",
   "pygments_lexer": "ipython3",
   "version": "3.11.7"
  }
 },
 "nbformat": 4,
 "nbformat_minor": 5
}
