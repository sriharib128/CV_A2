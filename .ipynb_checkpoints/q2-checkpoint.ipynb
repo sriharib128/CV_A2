{
 "cells": [
  {
   "cell_type": "markdown",
   "id": "e384797e-5ee5-4b5a-8046-8b5989ef5614",
   "metadata": {},
   "source": [
    "# Q2 CNNs and Transformers [6 points]"
   ]
  },
  {
   "cell_type": "code",
   "execution_count": 1,
   "id": "5b2cb97a-4691-4cef-95f6-488a09921997",
   "metadata": {},
   "outputs": [],
   "source": [
    "# import cv2\n",
    "import numpy as np\n",
    "import matplotlib.pyplot as plt\n",
    "import pickle\n",
    "import os\n",
    "# import multiprocessing\n",
    "\n",
    "from sklearn.metrics import accuracy_score\n",
    "\n",
    "import torch\n",
    "import torchvision\n",
    "\n",
    "# PyTorch TensorBoard support\n",
    "# from torch.utils.tensorboard import SummaryWriter\n",
    "from datetime import datetime"
   ]
  },
  {
   "cell_type": "code",
   "execution_count": null,
   "id": "3ff1c3d9-2a43-4bed-8e2f-267a7aa1fb04",
   "metadata": {},
   "outputs": [],
   "source": []
  },
  {
   "cell_type": "code",
   "execution_count": 2,
   "id": "c8d05a0e-bac7-440b-9669-fbbd99bc51ef",
   "metadata": {},
   "outputs": [
    {
     "data": {
      "text/plain": [
       "('cuda', '1.13.1', 1)"
      ]
     },
     "execution_count": 2,
     "metadata": {},
     "output_type": "execute_result"
    }
   ],
   "source": [
    "device = \"cuda\" if torch.cuda.is_available() else \"cpu\"\n",
    "device,torch.__version__,torch.cuda.device_count()"
   ]
  },
  {
   "cell_type": "code",
   "execution_count": 3,
   "id": "501ce963-e54a-40a9-8285-3994b2a41dfe",
   "metadata": {},
   "outputs": [],
   "source": [
    "# GPU operations have a separate seed we also want to set\n",
    "if torch.cuda.is_available():\n",
    "    torch.cuda.manual_seed(42)\n",
    "    torch.cuda.manual_seed_all(42)\n",
    "\n",
    "# Additionally, some operations on a GPU are implemented stochastic for efficiency\n",
    "# We want to ensure that all operations are deterministic on GPU (if used) for reproducibility\n",
    "torch.backends.cudnn.deterministic = True\n",
    "torch.backends.cudnn.benchmark = False"
   ]
  },
  {
   "cell_type": "code",
   "execution_count": 4,
   "id": "29ac7902-dfc7-4d8e-9b1a-d6f792c4e43a",
   "metadata": {},
   "outputs": [
    {
     "name": "stdout",
     "output_type": "stream",
     "text": [
      "Thu Mar  7 12:20:31 2024       \n",
      "+---------------------------------------------------------------------------------------+\n",
      "| NVIDIA-SMI 530.30.02              Driver Version: 530.30.02    CUDA Version: 12.1     |\n",
      "|-----------------------------------------+----------------------+----------------------+\n",
      "| GPU  Name                  Persistence-M| Bus-Id        Disp.A | Volatile Uncorr. ECC |\n",
      "| Fan  Temp  Perf            Pwr:Usage/Cap|         Memory-Usage | GPU-Util  Compute M. |\n",
      "|                                         |                      |               MIG M. |\n",
      "|=========================================+======================+======================|\n",
      "|   0  NVIDIA GeForce RTX 2080 Ti      On | 00000000:02:00.0 Off |                  N/A |\n",
      "| 36%   29C    P8               36W / 250W|    955MiB / 11264MiB |      0%      Default |\n",
      "|                                         |                      |                  N/A |\n",
      "+-----------------------------------------+----------------------+----------------------+\n",
      "                                                                                         \n",
      "+---------------------------------------------------------------------------------------+\n",
      "| Processes:                                                                            |\n",
      "|  GPU   GI   CI        PID   Type   Process name                            GPU Memory |\n",
      "|        ID   ID                                                             Usage      |\n",
      "|=======================================================================================|\n",
      "|    0   N/A  N/A     33358      C   ...zal/miniforge3/envs/cong/bin/python      952MiB |\n",
      "+---------------------------------------------------------------------------------------+\n"
     ]
    }
   ],
   "source": [
    "!nvidia-smi"
   ]
  },
  {
   "cell_type": "markdown",
   "id": "acccd668-db0f-4f26-93dd-1915988b75df",
   "metadata": {},
   "source": [
    "## CNN"
   ]
  },
  {
   "cell_type": "markdown",
   "id": "f7d02883-dabe-4deb-af92-ab216acf1297",
   "metadata": {},
   "source": [
    "### Dataset and Dataloader"
   ]
  },
  {
   "cell_type": "code",
   "execution_count": 5,
   "id": "6f09aa70-013a-4309-b436-9845c627c356",
   "metadata": {},
   "outputs": [],
   "source": [
    "import torchvision.transforms as transforms\n",
    "from torchvision import datasets\n",
    "\n",
    "def data_get_load(batch_size=64):\n",
    "    transform = transforms.Compose(\n",
    "        [transforms.ToTensor(),\n",
    "        transforms.Normalize((0.5,), (0.5,))])\n",
    "    \n",
    "    # Create datasets for training & validation, download if necessary\n",
    "    training_set = datasets.MNIST('./data', train=True, transform=transform, download=True)\n",
    "    validation_set = datasets.MNIST('./data', train=False, transform=transform, download=True)\n",
    "    \n",
    "    # Create data loaders for our datasets; shuffle for training, not for validation\n",
    "    training_loader = torch.utils.data.DataLoader(training_set, batch_size=batch_size, shuffle=True)\n",
    "    validation_loader = torch.utils.data.DataLoader(validation_set, batch_size=batch_size, shuffle=False)\n",
    "    \n",
    "    # Report split sizes\n",
    "    print('Training set has {} instances'.format(len(training_set)))\n",
    "    print('Validation set has {} instances'.format(len(validation_set)))\n",
    "\n",
    "    return training_loader,validation_loader"
   ]
  },
  {
   "cell_type": "code",
   "execution_count": 6,
   "id": "249586ab-eddb-4b82-9b4d-cbb0c01fdecb",
   "metadata": {},
   "outputs": [
    {
     "name": "stdout",
     "output_type": "stream",
     "text": [
      "Training set has 60000 instances\n",
      "Validation set has 10000 instances\n",
      "8  3  0  6  4  5  6  3\n"
     ]
    },
    {
     "data": {
      "image/png": "[encoded data removed]",
      "text/plain": [
       "<Figure size 640x480 with 1 Axes>"
      ]
     },
     "metadata": {},
     "output_type": "display_data"
    }
   ],
   "source": [
    "import matplotlib.pyplot as plt\n",
    "import numpy as np\n",
    "\n",
    "# Helper function for inline image display\n",
    "def matplotlib_imshow(img, one_channel=False):\n",
    "    if one_channel:\n",
    "        img = img.mean(dim=0)\n",
    "    img = img / 2 + 0.5     # unnormalize\n",
    "    npimg = img.numpy()\n",
    "    if one_channel:\n",
    "        plt.imshow(npimg, cmap=\"Greys\")\n",
    "    else:\n",
    "        plt.imshow(np.transpose(npimg, (1, 2, 0)))\n",
    "\n",
    "training_loader,validation_loader = data_get_load(8)\n",
    "\n",
    "dataiter = iter(training_loader)\n",
    "images, labels = next(dataiter)\n",
    "\n",
    "# Create a grid from the images and show them\n",
    "img_grid = torchvision.utils.make_grid(images)\n",
    "matplotlib_imshow(img_grid, one_channel=True)\n",
    "print('  '.join(str(labels[j].numpy()) for j in range(8)))"
   ]
  },
  {
   "cell_type": "code",
   "execution_count": null,
   "id": "8fd631d0-62aa-47a2-8cd2-0d24ca9d25a2",
   "metadata": {},
   "outputs": [],
   "source": []
  },
  {
   "cell_type": "markdown",
   "id": "9ff4c509-7280-4f46-b85f-6eeb3447a13d",
   "metadata": {},
   "source": [
    "### Model"
   ]
  },
  {
   "cell_type": "code",
   "execution_count": 7,
   "id": "e82946a1-d836-4eaf-a60b-1f44197f75fe",
   "metadata": {},
   "outputs": [
    {
     "data": {
      "text/plain": [
       "LeNet(\n",
       "  (conv1): Conv2d(1, 6, kernel_size=(5, 5), stride=(1, 1))\n",
       "  (pool): MaxPool2d(kernel_size=2, stride=2, padding=0, dilation=1, ceil_mode=False)\n",
       "  (conv2): Conv2d(6, 16, kernel_size=(5, 5), stride=(1, 1))\n",
       "  (fc1): Linear(in_features=256, out_features=120, bias=True)\n",
       "  (fc2): Linear(in_features=120, out_features=84, bias=True)\n",
       "  (fc3): Linear(in_features=84, out_features=10, bias=True)\n",
       ")"
      ]
     },
     "execution_count": 7,
     "metadata": {},
     "output_type": "execute_result"
    }
   ],
   "source": [
    "import torch.nn as nn\n",
    "import torch.nn.functional as F\n",
    "\n",
    "# PyTorch models inherit from torch.nn.Module\n",
    "class LeNet(nn.Module):\n",
    "    def __init__(self):\n",
    "        super(LeNet, self).__init__()\n",
    "        self.conv1 = nn.Conv2d(1, 6, 5)\n",
    "        self.pool = nn.MaxPool2d(2, 2)\n",
    "        self.conv2 = nn.Conv2d(6, 16, 5)\n",
    "        self.fc1 = nn.Linear(16 * 4 * 4, 120)\n",
    "        self.fc2 = nn.Linear(120, 84)\n",
    "        self.fc3 = nn.Linear(84, 10)\n",
    "\n",
    "    def forward(self, x):\n",
    "        x = self.pool(F.relu(self.conv1(x)))\n",
    "        x = self.pool(F.relu(self.conv2(x)))\n",
    "        x = x.view(-1, 16 * 4 * 4)\n",
    "        x = F.relu(self.fc1(x))\n",
    "        x = F.relu(self.fc2(x))\n",
    "        x = self.fc3(x)\n",
    "        return x\n",
    "\n",
    "model = LeNet()\n",
    "model.to(device)"
   ]
  },
  {
   "cell_type": "code",
   "execution_count": 8,
   "id": "2eefac2e-0f44-4a98-9015-dbe78b8ab9a2",
   "metadata": {},
   "outputs": [],
   "source": [
    "loss_fn = torch.nn.CrossEntropyLoss()"
   ]
  },
  {
   "cell_type": "code",
   "execution_count": 9,
   "id": "ff719b28-9097-4abf-9679-72962d42598b",
   "metadata": {},
   "outputs": [],
   "source": [
    "optimizer = torch.optim.Adam(model.parameters())"
   ]
  },
  {
   "cell_type": "markdown",
   "id": "8ff4df74-f3d2-48f6-9ab4-dcc003fd15fc",
   "metadata": {},
   "source": [
    "### Trainer"
   ]
  },
  {
   "cell_type": "code",
   "execution_count": 10,
   "id": "c780668f-daac-4ade-8c0c-74afa3563c18",
   "metadata": {},
   "outputs": [],
   "source": [
    "# train One epoch\n",
    "\n",
    "def train_one_epoch(model,train_loader,loss_fn,optimizer,device,epoch_index,tb_writer,wandb=None,write = True):\n",
    "\n",
    "    # Make sure gradient tracking is on, and do a pass over the data\n",
    "    model.train(True)\n",
    "    running_loss =0\n",
    "    last_loss = 0\n",
    "    losses=[]\n",
    "    for i,data in enumerate(training_loader):\n",
    "        inputs,labels = data\n",
    "        inputs,labels = inputs.to(device), labels.to(device)\n",
    "        optimizer.zero_grad()        \n",
    "        outputs=model(inputs)\n",
    "        loss = loss_fn(outputs,labels)\n",
    "        loss.backward()\n",
    "        optimizer.step()\n",
    "        if wandb != None:\n",
    "            wandb.log({\"train_loss\": loss.item()})\n",
    "        running_loss +=loss.item()\n",
    "        losses.append(loss.item())\n",
    "        if i%1000 == 990:\n",
    "            last_loss = running_loss/100\n",
    "            print(f\"{i+1}th batch => {last_loss}\")\n",
    "            if(write):\n",
    "                tb_x = epoch_index * len(training_loader)\n",
    "                tb_writer.add_scalar('Loss/train', last_loss, tb_x)\n",
    "            running_loss = 0.\n",
    "    if last_loss==0:\n",
    "        return np.mean(np.array(losses))\n",
    "    return last_loss"
   ]
  },
  {
   "cell_type": "code",
   "execution_count": 11,
   "id": "0d84144d-e92b-43b1-8256-b1f146edf00d",
   "metadata": {},
   "outputs": [],
   "source": [
    "# test one epoch\n",
    "def test_one_epoch(model,test_loader,loss_fn,device,wandb=None):\n",
    "\n",
    "    # Set the model to evaluation mode, disabling dropout and using population\n",
    "    # statistics for batch normalization.\n",
    "    model.eval()\n",
    "    running_loss =0\n",
    "    last_loss = 0\n",
    "    correct = 0\n",
    "    with torch.no_grad():\n",
    "        for i,data in enumerate(test_loader):\n",
    "            inputs,labels = data\n",
    "            inputs,labels = inputs.to(device), labels.to(device)\n",
    "\n",
    "            outputs=model(inputs)\n",
    "            \n",
    "            loss = loss_fn(outputs,labels)\n",
    "            running_loss +=loss.item()\n",
    "            _,preds = torch.max(outputs,1)\n",
    "            correct += (preds == labels).sum().item()\n",
    "            # if wandb!=None:\n",
    "                \n",
    "                # Accuracy(preds, labels)\n",
    "                # # precision(preds, labels)\n",
    "                # # recall(preds, labels)\n",
    "                # # f1(preds, labels)\n",
    "                # # wandb.log({\"accuracy\": accuracy.compute(), \"precision\": precision.compute(), \"recall\": recall.compute(), \"f1\": f1.compute()})\n",
    "                # wandb.log({\"vloss\":loss.item(),\"accuracy\": ((preds == labels).sum())/len(labels).compute()})\n",
    "    \n",
    "                # # Reset metrics\n",
    "                # Accuracy.reset()\n",
    "                # # precision.reset()\n",
    "                # # recall.reset()\n",
    "                # # f1.reset()\n",
    "    accuracy = correct/len(test_loader.dataset)\n",
    "    return running_loss/len(test_loader.dataset) , accuracy    "
   ]
  },
  {
   "cell_type": "code",
   "execution_count": 12,
   "id": "5de2445f-7bd0-40e1-8065-0223e76fbef7",
   "metadata": {},
   "outputs": [],
   "source": [
    "# # Initializing in a separate cell so we can easily add more epochs to the same run\n",
    "# timestamp = datetime.now().strftime('%Y%m%d_%H%M%S')\n",
    "# writer = SummaryWriter('runs/mnist_trainer_{}'.format(timestamp))\n",
    "# epoch_number = 0\n",
    "\n",
    "# EPOCHS = 2\n",
    "\n",
    "# best_vloss = 1_000_000.\n",
    "\n",
    "# for epoch in range(EPOCHS):\n",
    "    \n",
    "#     print('EPOCH {}:'.format(epoch_number + 1))\n",
    "    \n",
    "#     avg_loss = train_one_epoch(model,training_loader,loss_fn,optimizer,device,epoch_number, writer)\n",
    "#     avg_vloss,v_acc = test_one_epoch(model,validation_loader,loss_fn,device)\n",
    "    \n",
    "#     print('LOSS train {} valid {}'.format(avg_loss, avg_vloss))\n",
    "\n",
    "#     # Log the running loss averaged per batch\n",
    "#     # for both training and validation\n",
    "#     writer.add_scalars('Training vs. Validation Loss',\n",
    "#                     { 'Training' : avg_loss, 'Validation' : avg_vloss },\n",
    "#                     epoch_number + 1)\n",
    "#     writer.flush()\n",
    "\n",
    "#     # Track best performance, and save the model's state\n",
    "#     if avg_vloss < best_vloss:\n",
    "#         best_vloss = avg_vloss\n",
    "#         model_path = './models/model_{}_{}'.format(timestamp, epoch_number)\n",
    "#         torch.save(model.state_dict(), model_path)\n",
    "\n",
    "#     epoch_number += 1"
   ]
  },
  {
   "cell_type": "code",
   "execution_count": 13,
   "id": "bc07d593-9712-4552-8602-cd837151ecb0",
   "metadata": {},
   "outputs": [
    {
     "data": {
      "text/plain": [
       "LeNet(\n",
       "  (conv1): Conv2d(1, 6, kernel_size=(5, 5), stride=(1, 1))\n",
       "  (pool): MaxPool2d(kernel_size=2, stride=2, padding=0, dilation=1, ceil_mode=False)\n",
       "  (conv2): Conv2d(6, 16, kernel_size=(5, 5), stride=(1, 1))\n",
       "  (fc1): Linear(in_features=256, out_features=120, bias=True)\n",
       "  (fc2): Linear(in_features=120, out_features=84, bias=True)\n",
       "  (fc3): Linear(in_features=84, out_features=10, bias=True)\n",
       ")"
      ]
     },
     "execution_count": 13,
     "metadata": {},
     "output_type": "execute_result"
    }
   ],
   "source": [
    "saved_model = LeNet()\n",
    "saved_model.load_state_dict(torch.load(\"./models/model_20240306_121901_0\", map_location=device))\n",
    "saved_model.to(device)"
   ]
  },
  {
   "cell_type": "code",
   "execution_count": 14,
   "id": "9c2ab5f9-b5d3-4cc6-909a-b72f0056c280",
   "metadata": {},
   "outputs": [
    {
     "name": "stdout",
     "output_type": "stream",
     "text": [
      "0.987\n"
     ]
    }
   ],
   "source": [
    "saved_model.eval()\n",
    "\n",
    "correct =0\n",
    "# Disable gradient computation and reduce memory consumption.\n",
    "with torch.no_grad():\n",
    "    for i, vdata in enumerate(validation_loader):\n",
    "        vinputs, vlabels = vdata\n",
    "        vinputs,vlabels=vinputs.to(device),vlabels.to(device)\n",
    "        voutputs = saved_model(vinputs)\n",
    "\n",
    "        _,predicted = torch.max(voutputs,1)\n",
    "        correct += (predicted == vlabels).sum().item()\n",
    "accuracy = correct/len(validation_loader.dataset)\n",
    "print(accuracy)"
   ]
  },
  {
   "cell_type": "markdown",
   "id": "720f2ba0-14a1-40d2-99fa-37dfbef96e65",
   "metadata": {},
   "source": [
    "### wandb"
   ]
  },
  {
   "cell_type": "code",
   "execution_count": 15,
   "id": "351df866-985a-4f60-8740-fedb77e1105a",
   "metadata": {},
   "outputs": [],
   "source": [
    "import wandb\n",
    "from pprint import pprint"
   ]
  },
  {
   "cell_type": "code",
   "execution_count": 16,
   "id": "cfd9626f-b1ed-461f-bfd0-30d807d96399",
   "metadata": {},
   "outputs": [
    {
     "name": "stderr",
     "output_type": "stream",
     "text": [
      "Failed to detect the name of this notebook, you can set it manually with the WANDB_NOTEBOOK_NAME environment variable to enable code saving.\n",
      "\u001b[34m\u001b[1mwandb\u001b[0m: Currently logged in as: \u001b[33msriharib128\u001b[0m. Use \u001b[1m`wandb login --relogin`\u001b[0m to force relogin\n"
     ]
    },
    {
     "data": {
      "text/plain": [
       "True"
      ]
     },
     "execution_count": 16,
     "metadata": {},
     "output_type": "execute_result"
    }
   ],
   "source": [
    "wandb.login()"
   ]
  },
  {
   "cell_type": "code",
   "execution_count": 17,
   "id": "5159602c-3897-4202-ac25-16d6b92fa475",
   "metadata": {
    "scrolled": true
   },
   "outputs": [
    {
     "data": {
      "text/html": [
       "Tracking run with wandb version 0.16.4"
      ],
      "text/plain": [
       "<IPython.core.display.HTML object>"
      ]
     },
     "metadata": {},
     "output_type": "display_data"
    },
    {
     "data": {
      "text/html": [
       "Run data is saved locally in <code>/home2/surya_ravindra/CV_A2/wandb/run-20240307_005445-0mx4xqk9</code>"
      ],
      "text/plain": [
       "<IPython.core.display.HTML object>"
      ]
     },
     "metadata": {},
     "output_type": "display_data"
    },
    {
     "data": {
      "text/html": [
       "Syncing run <strong><a href='https://wandb.ai/sriharib128/CV_A1_Q2/runs/0mx4xqk9' target=\"_blank\">1st run</a></strong> to <a href='https://wandb.ai/sriharib128/CV_A1_Q2' target=\"_blank\">Weights & Biases</a> (<a href='https://wandb.me/run' target=\"_blank\">docs</a>)<br/>"
      ],
      "text/plain": [
       "<IPython.core.display.HTML object>"
      ]
     },
     "metadata": {},
     "output_type": "display_data"
    },
    {
     "data": {
      "text/html": [
       " View project at <a href='https://wandb.ai/sriharib128/CV_A1_Q2' target=\"_blank\">https://wandb.ai/sriharib128/CV_A1_Q2</a>"
      ],
      "text/plain": [
       "<IPython.core.display.HTML object>"
      ]
     },
     "metadata": {},
     "output_type": "display_data"
    },
    {
     "data": {
      "text/html": [
       " View run at <a href='https://wandb.ai/sriharib128/CV_A1_Q2/runs/0mx4xqk9' target=\"_blank\">https://wandb.ai/sriharib128/CV_A1_Q2/runs/0mx4xqk9</a>"
      ],
      "text/plain": [
       "<IPython.core.display.HTML object>"
      ]
     },
     "metadata": {},
     "output_type": "display_data"
    },
    {
     "name": "stdout",
     "output_type": "stream",
     "text": [
      "{'learning_rate': 0.001, 'batch_size': 64, 'epoch': 10, 'optimizer': 'adam'}\n"
     ]
    }
   ],
   "source": [
    "run = wandb.init(project=\"CV_A1_Q2\",name = \"1st run\")\n",
    "wandb.config.learning_rate = 0.001\n",
    "wandb.config.batch_size = 64\n",
    "wandb.config.epoch = 10\n",
    "wandb.config.optimizer = \"adam\"\n",
    "pprint(wandb.config)"
   ]
  },
  {
   "cell_type": "code",
   "execution_count": 18,
   "id": "88529caf-8115-47fd-93ae-ee35fbe63b1a",
   "metadata": {},
   "outputs": [],
   "source": [
    "model = LeNet()\n",
    "model.to(device)\n",
    "loss_fn = torch.nn.CrossEntropyLoss()\n",
    "optimizer = torch.optim.Adam(model.parameters(),lr=wandb.config.learning_rate)"
   ]
  },
  {
   "cell_type": "code",
   "execution_count": 19,
   "id": "45986e65-ab18-452e-882f-9544d5a29bb5",
   "metadata": {},
   "outputs": [
    {
     "name": "stdout",
     "output_type": "stream",
     "text": [
      "Training set has 60000 instances\n",
      "Validation set has 10000 instances\n"
     ]
    }
   ],
   "source": [
    "training_loader,validation_loader = data_get_load(wandb.config.batch_size)"
   ]
  },
  {
   "cell_type": "code",
   "execution_count": 20,
   "id": "af0facb2-2cc9-476b-9fc4-5d6a8b51e982",
   "metadata": {},
   "outputs": [
    {
     "data": {
      "text/plain": [
       "157"
      ]
     },
     "execution_count": 20,
     "metadata": {},
     "output_type": "execute_result"
    }
   ],
   "source": [
    "len(validation_loader)"
   ]
  },
  {
   "cell_type": "code",
   "execution_count": 21,
   "id": "0af116e7-c477-484a-a7b9-d563434416b6",
   "metadata": {},
   "outputs": [],
   "source": [
    "# from torchmetrics import Accuracy, Precision, Recall, F1Score\n",
    "# # Initialize metrics\n",
    "# num_classes = 10\n",
    "# accuracy = Accuracy(task='multiclass',num_classes=num_classes).to(device)\n",
    "# precision = Precision(task='multiclass', average='macro', num_classes=num_classes).to(device)\n",
    "# recall = Recall(task='multiclass', average='macro', num_classes=num_classes).to(device)\n",
    "# f1 = F1Score(task='multiclass', average='macro', num_classes=num_classes).to(device)"
   ]
  },
  {
   "cell_type": "code",
   "execution_count": 22,
   "id": "fcb208d3-46bf-4e03-97ec-19ebf2b1ca3a",
   "metadata": {
    "scrolled": true
   },
   "outputs": [
    {
     "name": "stdout",
     "output_type": "stream",
     "text": [
      "EPOCH 1:\n",
      "100th batch => 1.0806842792034148\n",
      "200th batch => 0.278742106705904\n",
      "300th batch => 0.18545835487544537\n",
      "400th batch => 0.14566997803747653\n",
      "500th batch => 0.13438145775347948\n",
      "600th batch => 0.12050811596214771\n",
      "700th batch => 0.10242413160391152\n",
      "800th batch => 0.09857013694010675\n",
      "900th batch => 0.07522635676898062\n",
      "LOSS train 0.07522635676898062 valid 0.0011488795249490068 ACC 0.9773\n",
      "saved model to ./models/model_20240307_005452_0\n",
      "EPOCH 2:\n",
      "100th batch => 0.07315306286327541\n",
      "200th batch => 0.0692412838852033\n",
      "300th batch => 0.07584246435202659\n",
      "400th batch => 0.06203115314245224\n",
      "500th batch => 0.05894677390344441\n",
      "600th batch => 0.06735840604756958\n",
      "700th batch => 0.06499053363222629\n",
      "800th batch => 0.05043961589224637\n",
      "900th batch => 0.05441587164299563\n",
      "LOSS train 0.05441587164299563 valid 0.0006031600922862708 ACC 0.9875\n",
      "saved model to ./models/model_20240307_005452_1\n",
      "EPOCH 3:\n",
      "100th batch => 0.04953925197711215\n",
      "200th batch => 0.04277902920497581\n",
      "300th batch => 0.047060423730872575\n",
      "400th batch => 0.050112640890292826\n",
      "500th batch => 0.04921356723061763\n",
      "600th batch => 0.04804431633092463\n",
      "700th batch => 0.04559210575185716\n",
      "800th batch => 0.045744238218758254\n",
      "900th batch => 0.04957385607762262\n",
      "LOSS train 0.04957385607762262 valid 0.0006373461486466113 ACC 0.9867\n",
      "EPOCH 4:\n",
      "100th batch => 0.041501562644261865\n",
      "200th batch => 0.035342449942836536\n",
      "300th batch => 0.040666455181781205\n",
      "400th batch => 0.026963507924228906\n",
      "500th batch => 0.038618263983516955\n",
      "600th batch => 0.03658815311617218\n",
      "700th batch => 0.04200099469991983\n",
      "800th batch => 0.04037315160734579\n",
      "900th batch => 0.04039193350588903\n",
      "LOSS train 0.04039193350588903 valid 0.000556967630636791 ACC 0.9891\n",
      "saved model to ./models/model_20240307_005452_3\n",
      "EPOCH 5:\n",
      "100th batch => 0.029779715249314904\n",
      "200th batch => 0.02958809327916242\n",
      "300th batch => 0.03289693955070106\n",
      "400th batch => 0.029721929390216246\n",
      "500th batch => 0.031577791229356084\n",
      "600th batch => 0.03326537270564586\n",
      "700th batch => 0.026227957928786055\n",
      "800th batch => 0.029052968479227274\n",
      "900th batch => 0.041706203952198845\n",
      "LOSS train 0.041706203952198845 valid 0.0005829974255015259 ACC 0.9881\n",
      "EPOCH 6:\n",
      "100th batch => 0.02394347518318682\n",
      "200th batch => 0.025245543562923557\n",
      "300th batch => 0.025452126353629864\n",
      "400th batch => 0.027232928211742547\n",
      "500th batch => 0.025104002834996208\n",
      "600th batch => 0.026831148330238648\n",
      "700th batch => 0.022383243995718657\n",
      "800th batch => 0.03188643878791481\n",
      "900th batch => 0.030003490957606117\n",
      "LOSS train 0.030003490957606117 valid 0.0005089329073649423 ACC 0.9902\n",
      "saved model to ./models/model_20240307_005452_5\n",
      "EPOCH 7:\n",
      "100th batch => 0.0146178188174963\n",
      "200th batch => 0.02285477012526826\n",
      "300th batch => 0.01780804051537416\n",
      "400th batch => 0.02344394206185825\n",
      "500th batch => 0.023272965565847698\n",
      "600th batch => 0.019978840225667226\n",
      "700th batch => 0.0243521542972303\n",
      "800th batch => 0.02616809210710926\n",
      "900th batch => 0.024292778473463842\n",
      "LOSS train 0.024292778473463842 valid 0.0006769239096813863 ACC 0.9859\n",
      "EPOCH 8:\n",
      "100th batch => 0.014285356395703275\n",
      "200th batch => 0.016153448617696995\n",
      "300th batch => 0.01768790515823639\n",
      "400th batch => 0.021795592312992086\n",
      "500th batch => 0.026784162430558353\n",
      "600th batch => 0.017895941608585417\n",
      "700th batch => 0.0224620886874618\n",
      "800th batch => 0.018434233612642858\n",
      "900th batch => 0.02508223578595789\n",
      "LOSS train 0.02508223578595789 valid 0.0006178392633700242 ACC 0.9888\n",
      "EPOCH 9:\n",
      "100th batch => 0.011523913509809063\n",
      "200th batch => 0.01816022731254634\n",
      "300th batch => 0.018368499268835877\n",
      "400th batch => 0.012892301012179815\n",
      "500th batch => 0.01815614751103567\n",
      "600th batch => 0.020386460278823505\n",
      "700th batch => 0.0169969653392036\n",
      "800th batch => 0.020206842198967935\n",
      "900th batch => 0.01937909243395552\n",
      "LOSS train 0.01937909243395552 valid 0.0005488996852256605 ACC 0.9907\n",
      "EPOCH 10:\n",
      "100th batch => 0.011555877961509396\n",
      "200th batch => 0.017742109104437985\n",
      "300th batch => 0.010086576569738099\n",
      "400th batch => 0.013399425078750938\n",
      "500th batch => 0.01648278219392523\n",
      "600th batch => 0.019791832459468424\n",
      "700th batch => 0.020497193938936106\n",
      "800th batch => 0.015867773562349613\n",
      "900th batch => 0.018336129262315808\n",
      "LOSS train 0.018336129262315808 valid 0.0005751876987380456 ACC 0.9906\n"
     ]
    },
    {
     "name": "stderr",
     "output_type": "stream",
     "text": [
      "wandb: WARNING Source type is set to 'repo' but some required information is missing from the environment. A job will not be created from this run. See https://docs.wandb.ai/guides/launch/create-job\n"
     ]
    },
    {
     "data": {
      "application/vnd.jupyter.widget-view+json": {
       "model_id": "",
       "version_major": 2,
       "version_minor": 0
      },
      "text/plain": [
       "VBox(children=(Label(value='0.005 MB of 0.005 MB uploaded\\r'), FloatProgress(value=1.0, max=1.0)))"
      ]
     },
     "metadata": {},
     "output_type": "display_data"
    },
    {
     "data": {
      "text/html": [
       "<style>\n",
       "    table.wandb td:nth-child(1) { padding: 0 10px; text-align: left ; width: auto;} td:nth-child(2) {text-align: left ; width: 100%}\n",
       "    .wandb-row { display: flex; flex-direction: row; flex-wrap: wrap; justify-content: flex-start; width: 100% }\n",
       "    .wandb-col { display: flex; flex-direction: column; flex-basis: 100%; flex: 1; padding: 10px; }\n",
       "    </style>\n",
       "<div class=\"wandb-row\"><div class=\"wandb-col\"><h3>Run history:</h3><br/><table class=\"wandb\"><tr><td>accuracy</td><td>▁▆▆▇▇█▅▇██</td></tr><tr><td>train_loss</td><td>█▅▅▄▄▂▂▂▁▁</td></tr><tr><td>vloss</td><td>█▂▂▂▂▁▃▂▁▂</td></tr></table><br/></div><div class=\"wandb-col\"><h3>Run summary:</h3><br/><table class=\"wandb\"><tr><td>accuracy</td><td>0.9906</td></tr><tr><td>train_loss</td><td>0.01834</td></tr><tr><td>vloss</td><td>0.00058</td></tr></table><br/></div></div>"
      ],
      "text/plain": [
       "<IPython.core.display.HTML object>"
      ]
     },
     "metadata": {},
     "output_type": "display_data"
    },
    {
     "data": {
      "text/html": [
       " View run <strong style=\"color:#cdcd00\">1st run</strong> at: <a href='https://wandb.ai/sriharib128/CV_A1_Q2/runs/0mx4xqk9' target=\"_blank\">https://wandb.ai/sriharib128/CV_A1_Q2/runs/0mx4xqk9</a><br/>Synced 6 W&B file(s), 0 media file(s), 0 artifact file(s) and 0 other file(s)"
      ],
      "text/plain": [
       "<IPython.core.display.HTML object>"
      ]
     },
     "metadata": {},
     "output_type": "display_data"
    },
    {
     "data": {
      "text/html": [
       "Find logs at: <code>./wandb/run-20240307_005445-0mx4xqk9/logs</code>"
      ],
      "text/plain": [
       "<IPython.core.display.HTML object>"
      ]
     },
     "metadata": {},
     "output_type": "display_data"
    }
   ],
   "source": [
    "timestamp = datetime.now().strftime('%Y%m%d_%H%M%S')\n",
    "best_vloss = 1_000_000.\n",
    "# Training loop\n",
    "for epoch_number in range(wandb.config.epoch):  # Number of epochs\n",
    "    correct = 0\n",
    "    total = 0\n",
    "    print('EPOCH {}:'.format(epoch_number + 1))\n",
    "    avg_loss = train_one_epoch(model,training_loader,loss_fn,optimizer,device,epoch_number,None,None,write=False)\n",
    "    avg_vloss,v_acc = test_one_epoch(model,validation_loader,loss_fn,device,None)\n",
    "\n",
    "    wandb.log({\"train_loss\":avg_loss,\"vloss\":avg_vloss,\"accuracy\":v_acc})\n",
    "    \n",
    "    print('LOSS train {} valid {} ACC {}'.format(avg_loss, avg_vloss,v_acc))\n",
    "\n",
    "    if avg_vloss < best_vloss:\n",
    "        best_vloss = avg_vloss\n",
    "        model_path = './models/model_{}_{}'.format(timestamp, epoch_number)\n",
    "        torch.save(model.state_dict(), model_path)\n",
    "        print(f\"saved model to {model_path}\")\n",
    "\n",
    "# exort to ONNX and save in Netron for Vizualization\n",
    "wandb.save(\"model.pth\")\n",
    "\n",
    "# Finish the run\n",
    "run.finish()"
   ]
  },
  {
   "cell_type": "markdown",
   "id": "b66509d4-1b6c-4bae-b223-58b1722178ac",
   "metadata": {},
   "source": [
    "## Hyperparameter tuning"
   ]
  },
  {
   "cell_type": "code",
   "execution_count": 20,
   "id": "31a1128a-1b02-4b5d-95f2-c692d8aa7063",
   "metadata": {},
   "outputs": [],
   "source": [
    "def build_optimizer(model, optimizer, learning_rate):\n",
    "    if optimizer == \"sgd\":\n",
    "        optimizer = torch.optim.SGD(model.parameters(),\n",
    "                              lr=learning_rate, momentum=0.9)\n",
    "    elif optimizer == \"adam\":\n",
    "        optimizer = torch.optim.Adam(model.parameters(),\n",
    "                               lr=learning_rate)\n",
    "    return optimizer"
   ]
  },
  {
   "cell_type": "code",
   "execution_count": 22,
   "id": "253ef343-8cc9-43db-8268-c3a372df04ef",
   "metadata": {},
   "outputs": [],
   "source": [
    "configs_sweep=[]\n",
    "accuracies_sweep=[]\n",
    "def train(config=None):\n",
    "    # Initialize a new wandb run\n",
    "    with wandb.init(config=config):\n",
    "        # If called by wandb.agent, as below,\n",
    "        # this config will be set by Sweep Controller\n",
    "        config = wandb.config\n",
    "        pprint(wandb.config)\n",
    "        \n",
    "        device = torch.device(\"cuda\" if torch.cuda.is_available() else \"cpu\")\n",
    "        training_loader,validation_loader = data_get_load(wandb.config.batch_size)\n",
    "        \n",
    "        model = LeNet()\n",
    "        model.to(device)\n",
    "        loss_fn = torch.nn.CrossEntropyLoss()\n",
    "        optimizer = build_optimizer(model, config.optimizer, config.learning_rate)\n",
    "\n",
    "        for epoch_number in range(config.epochs):\n",
    "            avg_loss = train_one_epoch(model,training_loader,loss_fn,optimizer,device,epoch_number,None,None,write=False)\n",
    "            avg_vloss,v_acc = test_one_epoch(model,validation_loader,loss_fn,device,None)\n",
    "            print('EPOCH {}  LOSS train {} valid {} ACC {}'.format(epoch_number,avg_loss, avg_vloss,v_acc))\n",
    "        \n",
    "            wandb.log({\"train_loss\":avg_loss,\"vloss\":avg_vloss,\"accuracy\":v_acc})\n",
    "        configs_sweep.append(wandb.config)\n",
    "        accuracies_sweep.append(v_acc)"
   ]
  },
  {
   "cell_type": "code",
   "execution_count": 23,
   "id": "a3545231-bf00-46f3-8e4a-3f6f15b1fb1a",
   "metadata": {},
   "outputs": [],
   "source": [
    "# Sweep Configuration\n",
    "sweep_config = {\n",
    "    'method': 'random', # Use random search strategy\n",
    "    'metric': { # The metric that you want to optimize\n",
    "        'name': 'v_loss',\n",
    "        'goal': 'minimize'\n",
    "    },\n",
    "    'parameters': { # The hyperparameters to tune\n",
    "        'learning_rate': {  # Learning rate for the optimizer\n",
    "            'values': [0.001,  0.01,  0.1]\n",
    "        },\n",
    "        'optimizer': {  # The optimizer to use\n",
    "            'values': ['sgd', 'adam']\n",
    "        },\n",
    "        # 'dropout': {    # The dropout to use\n",
    "        #     'values': [0.2,  0.3,  0.5]\n",
    "        # },\n",
    "        'batch_size': {    # The batch size\n",
    "            'values': [8, 32,  64,  128]\n",
    "        },\n",
    "        'epochs': {    # The number of epochs\n",
    "            'values': [1, 2, 5]}\n",
    "    }\n",
    "}"
   ]
  },
  {
   "cell_type": "code",
   "execution_count": 24,
   "id": "20da1acb-db5a-40e9-aca5-08308f3b02fb",
   "metadata": {},
   "outputs": [
    {
     "name": "stdout",
     "output_type": "stream",
     "text": [
      "Create sweep with ID: n67d31si\n",
      "Sweep URL: https://wandb.ai/sriharib128/CV_A1_Q2/sweeps/n67d31si\n"
     ]
    }
   ],
   "source": [
    "# Initialize the sweep\n",
    "sweep_id = wandb.sweep(sweep_config, project=\"CV_A1_Q2\")"
   ]
  },
  {
   "cell_type": "code",
   "execution_count": 25,
   "id": "38f1c9c6-7b27-471b-9f8b-d71ca755616f",
   "metadata": {
    "scrolled": true
   },
   "outputs": [
    {
     "name": "stderr",
     "output_type": "stream",
     "text": [
      "\u001b[34m\u001b[1mwandb\u001b[0m: Agent Starting Run: sde5nc2g with config:\n",
      "\u001b[34m\u001b[1mwandb\u001b[0m: \tbatch_size: 8\n",
      "\u001b[34m\u001b[1mwandb\u001b[0m: \tepochs: 2\n",
      "\u001b[34m\u001b[1mwandb\u001b[0m: \tlearning_rate: 0.01\n",
      "\u001b[34m\u001b[1mwandb\u001b[0m: \toptimizer: sgd\n",
      "Failed to detect the name of this notebook, you can set it manually with the WANDB_NOTEBOOK_NAME environment variable to enable code saving.\n"
     ]
    },
    {
     "data": {
      "text/html": [
       "Tracking run with wandb version 0.16.4"
      ],
      "text/plain": [
       "<IPython.core.display.HTML object>"
      ]
     },
     "metadata": {},
     "output_type": "display_data"
    },
    {
     "data": {
      "text/html": [
       "Run data is saved locally in <code>/home2/surya_ravindra/CV_A2/wandb/run-20240307_073228-sde5nc2g</code>"
      ],
      "text/plain": [
       "<IPython.core.display.HTML object>"
      ]
     },
     "metadata": {},
     "output_type": "display_data"
    },
    {
     "data": {
      "text/html": [
       "Syncing run <strong><a href='https://wandb.ai/sriharib128/CV_A1_Q2/runs/sde5nc2g' target=\"_blank\">crisp-sweep-1</a></strong> to <a href='https://wandb.ai/sriharib128/CV_A1_Q2' target=\"_blank\">Weights & Biases</a> (<a href='https://wandb.me/run' target=\"_blank\">docs</a>)<br/>Sweep page: <a href='https://wandb.ai/sriharib128/CV_A1_Q2/sweeps/n67d31si' target=\"_blank\">https://wandb.ai/sriharib128/CV_A1_Q2/sweeps/n67d31si</a>"
      ],
      "text/plain": [
       "<IPython.core.display.HTML object>"
      ]
     },
     "metadata": {},
     "output_type": "display_data"
    },
    {
     "data": {
      "text/html": [
       " View project at <a href='https://wandb.ai/sriharib128/CV_A1_Q2' target=\"_blank\">https://wandb.ai/sriharib128/CV_A1_Q2</a>"
      ],
      "text/plain": [
       "<IPython.core.display.HTML object>"
      ]
     },
     "metadata": {},
     "output_type": "display_data"
    },
    {
     "data": {
      "text/html": [
       " View sweep at <a href='https://wandb.ai/sriharib128/CV_A1_Q2/sweeps/n67d31si' target=\"_blank\">https://wandb.ai/sriharib128/CV_A1_Q2/sweeps/n67d31si</a>"
      ],
      "text/plain": [
       "<IPython.core.display.HTML object>"
      ]
     },
     "metadata": {},
     "output_type": "display_data"
    },
    {
     "data": {
      "text/html": [
       " View run at <a href='https://wandb.ai/sriharib128/CV_A1_Q2/runs/sde5nc2g' target=\"_blank\">https://wandb.ai/sriharib128/CV_A1_Q2/runs/sde5nc2g</a>"
      ],
      "text/plain": [
       "<IPython.core.display.HTML object>"
      ]
     },
     "metadata": {},
     "output_type": "display_data"
    },
    {
     "name": "stdout",
     "output_type": "stream",
     "text": [
      "{'batch_size': 8, 'epochs': 2, 'learning_rate': 0.01, 'optimizer': 'sgd'}\n",
      "Training set has 60000 instances\n",
      "Validation set has 10000 instances\n",
      "991th batch => 6.199817708885821\n",
      "1991th batch => 1.9512392409095447\n",
      "2991th batch => 1.4760686647960757\n",
      "3991th batch => 1.4342516511253416\n",
      "4991th batch => 1.363316169644786\n",
      "5991th batch => 1.0689968463997501\n",
      "6991th batch => 0.9770755575004568\n",
      "EPOCH 0  LOSS train 0.9770755575004568 valid 0.009310698428575875 ACC 0.9801\n",
      "991th batch => 0.8658552823110471\n",
      "1991th batch => 0.9081417675380521\n",
      "2991th batch => 0.8081263348053176\n",
      "3991th batch => 0.8740566581206304\n",
      "4991th batch => 0.8828560253883018\n",
      "5991th batch => 0.6761636387081168\n",
      "6991th batch => 0.7688354334256431\n",
      "EPOCH 1  LOSS train 0.7688354334256431 valid 0.010729170000831527 ACC 0.9772\n"
     ]
    },
    {
     "data": {
      "application/vnd.jupyter.widget-view+json": {
       "model_id": "",
       "version_major": 2,
       "version_minor": 0
      },
      "text/plain": [
       "VBox(children=(Label(value='0.005 MB of 0.005 MB uploaded\\r'), FloatProgress(value=1.0, max=1.0)))"
      ]
     },
     "metadata": {},
     "output_type": "display_data"
    },
    {
     "data": {
      "text/html": [
       "<style>\n",
       "    table.wandb td:nth-child(1) { padding: 0 10px; text-align: left ; width: auto;} td:nth-child(2) {text-align: left ; width: 100%}\n",
       "    .wandb-row { display: flex; flex-direction: row; flex-wrap: wrap; justify-content: flex-start; width: 100% }\n",
       "    .wandb-col { display: flex; flex-direction: column; flex-basis: 100%; flex: 1; padding: 10px; }\n",
       "    </style>\n",
       "<div class=\"wandb-row\"><div class=\"wandb-col\"><h3>Run history:</h3><br/><table class=\"wandb\"><tr><td>accuracy</td><td>█▁</td></tr><tr><td>train_loss</td><td>█▁</td></tr><tr><td>vloss</td><td>▁█</td></tr></table><br/></div><div class=\"wandb-col\"><h3>Run summary:</h3><br/><table class=\"wandb\"><tr><td>accuracy</td><td>0.9772</td></tr><tr><td>train_loss</td><td>0.76884</td></tr><tr><td>vloss</td><td>0.01073</td></tr></table><br/></div></div>"
      ],
      "text/plain": [
       "<IPython.core.display.HTML object>"
      ]
     },
     "metadata": {},
     "output_type": "display_data"
    },
    {
     "data": {
      "text/html": [
       " View run <strong style=\"color:#cdcd00\">crisp-sweep-1</strong> at: <a href='https://wandb.ai/sriharib128/CV_A1_Q2/runs/sde5nc2g' target=\"_blank\">https://wandb.ai/sriharib128/CV_A1_Q2/runs/sde5nc2g</a><br/>Synced 6 W&B file(s), 0 media file(s), 0 artifact file(s) and 0 other file(s)"
      ],
      "text/plain": [
       "<IPython.core.display.HTML object>"
      ]
     },
     "metadata": {},
     "output_type": "display_data"
    },
    {
     "data": {
      "text/html": [
       "Find logs at: <code>./wandb/run-20240307_073228-sde5nc2g/logs</code>"
      ],
      "text/plain": [
       "<IPython.core.display.HTML object>"
      ]
     },
     "metadata": {},
     "output_type": "display_data"
    },
    {
     "name": "stderr",
     "output_type": "stream",
     "text": [
      "\u001b[34m\u001b[1mwandb\u001b[0m: Agent Starting Run: 5d5sx3tb with config:\n",
      "\u001b[34m\u001b[1mwandb\u001b[0m: \tbatch_size: 64\n",
      "\u001b[34m\u001b[1mwandb\u001b[0m: \tepochs: 2\n",
      "\u001b[34m\u001b[1mwandb\u001b[0m: \tlearning_rate: 0.01\n",
      "\u001b[34m\u001b[1mwandb\u001b[0m: \toptimizer: adam\n",
      "Failed to detect the name of this notebook, you can set it manually with the WANDB_NOTEBOOK_NAME environment variable to enable code saving.\n"
     ]
    },
    {
     "data": {
      "text/html": [
       "Tracking run with wandb version 0.16.4"
      ],
      "text/plain": [
       "<IPython.core.display.HTML object>"
      ]
     },
     "metadata": {},
     "output_type": "display_data"
    },
    {
     "data": {
      "text/html": [
       "Run data is saved locally in <code>/home2/surya_ravindra/CV_A2/wandb/run-20240307_073419-5d5sx3tb</code>"
      ],
      "text/plain": [
       "<IPython.core.display.HTML object>"
      ]
     },
     "metadata": {},
     "output_type": "display_data"
    },
    {
     "data": {
      "text/html": [
       "Syncing run <strong><a href='https://wandb.ai/sriharib128/CV_A1_Q2/runs/5d5sx3tb' target=\"_blank\">volcanic-sweep-2</a></strong> to <a href='https://wandb.ai/sriharib128/CV_A1_Q2' target=\"_blank\">Weights & Biases</a> (<a href='https://wandb.me/run' target=\"_blank\">docs</a>)<br/>Sweep page: <a href='https://wandb.ai/sriharib128/CV_A1_Q2/sweeps/n67d31si' target=\"_blank\">https://wandb.ai/sriharib128/CV_A1_Q2/sweeps/n67d31si</a>"
      ],
      "text/plain": [
       "<IPython.core.display.HTML object>"
      ]
     },
     "metadata": {},
     "output_type": "display_data"
    },
    {
     "data": {
      "text/html": [
       " View project at <a href='https://wandb.ai/sriharib128/CV_A1_Q2' target=\"_blank\">https://wandb.ai/sriharib128/CV_A1_Q2</a>"
      ],
      "text/plain": [
       "<IPython.core.display.HTML object>"
      ]
     },
     "metadata": {},
     "output_type": "display_data"
    },
    {
     "data": {
      "text/html": [
       " View sweep at <a href='https://wandb.ai/sriharib128/CV_A1_Q2/sweeps/n67d31si' target=\"_blank\">https://wandb.ai/sriharib128/CV_A1_Q2/sweeps/n67d31si</a>"
      ],
      "text/plain": [
       "<IPython.core.display.HTML object>"
      ]
     },
     "metadata": {},
     "output_type": "display_data"
    },
    {
     "data": {
      "text/html": [
       " View run at <a href='https://wandb.ai/sriharib128/CV_A1_Q2/runs/5d5sx3tb' target=\"_blank\">https://wandb.ai/sriharib128/CV_A1_Q2/runs/5d5sx3tb</a>"
      ],
      "text/plain": [
       "<IPython.core.display.HTML object>"
      ]
     },
     "metadata": {},
     "output_type": "display_data"
    },
    {
     "name": "stdout",
     "output_type": "stream",
     "text": [
      "{'batch_size': 64, 'epochs': 2, 'learning_rate': 0.01, 'optimizer': 'adam'}\n",
      "Training set has 60000 instances\n",
      "Validation set has 10000 instances\n",
      "991th batch => 5.9535355256717954\n",
      "1991th batch => 3.643395198010767\n",
      "2991th batch => 3.246582798172531\n",
      "3991th batch => 3.1055301993461852\n",
      "4991th batch => 2.992721924104635\n",
      "5991th batch => 3.450461768097903\n",
      "6991th batch => 2.782694114650494\n",
      "EPOCH 0  LOSS train 2.782694114650494 valid 0.004004671387956477 ACC 0.9382\n",
      "991th batch => 2.464102068541033\n",
      "1991th batch => 2.6414060895377394\n",
      "2991th batch => 3.8021285598175405\n",
      "3991th batch => 2.8518025973479326\n",
      "4991th batch => 2.76539727376934\n",
      "5991th batch => 2.435629045981859\n",
      "6991th batch => 2.917860223295287\n",
      "EPOCH 1  LOSS train 2.917860223295287 valid 0.00445732772985939 ACC 0.9338\n"
     ]
    },
    {
     "data": {
      "application/vnd.jupyter.widget-view+json": {
       "model_id": "",
       "version_major": 2,
       "version_minor": 0
      },
      "text/plain": [
       "VBox(children=(Label(value='0.005 MB of 0.005 MB uploaded\\r'), FloatProgress(value=1.0, max=1.0)))"
      ]
     },
     "metadata": {},
     "output_type": "display_data"
    },
    {
     "data": {
      "text/html": [
       "<style>\n",
       "    table.wandb td:nth-child(1) { padding: 0 10px; text-align: left ; width: auto;} td:nth-child(2) {text-align: left ; width: 100%}\n",
       "    .wandb-row { display: flex; flex-direction: row; flex-wrap: wrap; justify-content: flex-start; width: 100% }\n",
       "    .wandb-col { display: flex; flex-direction: column; flex-basis: 100%; flex: 1; padding: 10px; }\n",
       "    </style>\n",
       "<div class=\"wandb-row\"><div class=\"wandb-col\"><h3>Run history:</h3><br/><table class=\"wandb\"><tr><td>accuracy</td><td>█▁</td></tr><tr><td>train_loss</td><td>▁█</td></tr><tr><td>vloss</td><td>▁█</td></tr></table><br/></div><div class=\"wandb-col\"><h3>Run summary:</h3><br/><table class=\"wandb\"><tr><td>accuracy</td><td>0.9338</td></tr><tr><td>train_loss</td><td>2.91786</td></tr><tr><td>vloss</td><td>0.00446</td></tr></table><br/></div></div>"
      ],
      "text/plain": [
       "<IPython.core.display.HTML object>"
      ]
     },
     "metadata": {},
     "output_type": "display_data"
    },
    {
     "data": {
      "text/html": [
       " View run <strong style=\"color:#cdcd00\">volcanic-sweep-2</strong> at: <a href='https://wandb.ai/sriharib128/CV_A1_Q2/runs/5d5sx3tb' target=\"_blank\">https://wandb.ai/sriharib128/CV_A1_Q2/runs/5d5sx3tb</a><br/>Synced 6 W&B file(s), 0 media file(s), 0 artifact file(s) and 0 other file(s)"
      ],
      "text/plain": [
       "<IPython.core.display.HTML object>"
      ]
     },
     "metadata": {},
     "output_type": "display_data"
    },
    {
     "data": {
      "text/html": [
       "Find logs at: <code>./wandb/run-20240307_073419-5d5sx3tb/logs</code>"
      ],
      "text/plain": [
       "<IPython.core.display.HTML object>"
      ]
     },
     "metadata": {},
     "output_type": "display_data"
    },
    {
     "name": "stderr",
     "output_type": "stream",
     "text": [
      "\u001b[34m\u001b[1mwandb\u001b[0m: Agent Starting Run: gskk3bky with config:\n",
      "\u001b[34m\u001b[1mwandb\u001b[0m: \tbatch_size: 8\n",
      "\u001b[34m\u001b[1mwandb\u001b[0m: \tepochs: 5\n",
      "\u001b[34m\u001b[1mwandb\u001b[0m: \tlearning_rate: 0.01\n",
      "\u001b[34m\u001b[1mwandb\u001b[0m: \toptimizer: sgd\n",
      "Failed to detect the name of this notebook, you can set it manually with the WANDB_NOTEBOOK_NAME environment variable to enable code saving.\n"
     ]
    },
    {
     "data": {
      "application/vnd.jupyter.widget-view+json": {
       "model_id": "28882d5eb3fd4466ad8d86796d55403f",
       "version_major": 2,
       "version_minor": 0
      },
      "text/plain": [
       "VBox(children=(Label(value='Waiting for wandb.init()...\\r'), FloatProgress(value=0.01111341691058543, max=1.0)…"
      ]
     },
     "metadata": {},
     "output_type": "display_data"
    },
    {
     "data": {
      "text/html": [
       "Tracking run with wandb version 0.16.4"
      ],
      "text/plain": [
       "<IPython.core.display.HTML object>"
      ]
     },
     "metadata": {},
     "output_type": "display_data"
    },
    {
     "data": {
      "text/html": [
       "Run data is saved locally in <code>/home2/surya_ravindra/CV_A2/wandb/run-20240307_073606-gskk3bky</code>"
      ],
      "text/plain": [
       "<IPython.core.display.HTML object>"
      ]
     },
     "metadata": {},
     "output_type": "display_data"
    },
    {
     "data": {
      "text/html": [
       "Syncing run <strong><a href='https://wandb.ai/sriharib128/CV_A1_Q2/runs/gskk3bky' target=\"_blank\">jolly-sweep-3</a></strong> to <a href='https://wandb.ai/sriharib128/CV_A1_Q2' target=\"_blank\">Weights & Biases</a> (<a href='https://wandb.me/run' target=\"_blank\">docs</a>)<br/>Sweep page: <a href='https://wandb.ai/sriharib128/CV_A1_Q2/sweeps/n67d31si' target=\"_blank\">https://wandb.ai/sriharib128/CV_A1_Q2/sweeps/n67d31si</a>"
      ],
      "text/plain": [
       "<IPython.core.display.HTML object>"
      ]
     },
     "metadata": {},
     "output_type": "display_data"
    },
    {
     "data": {
      "text/html": [
       " View project at <a href='https://wandb.ai/sriharib128/CV_A1_Q2' target=\"_blank\">https://wandb.ai/sriharib128/CV_A1_Q2</a>"
      ],
      "text/plain": [
       "<IPython.core.display.HTML object>"
      ]
     },
     "metadata": {},
     "output_type": "display_data"
    },
    {
     "data": {
      "text/html": [
       " View sweep at <a href='https://wandb.ai/sriharib128/CV_A1_Q2/sweeps/n67d31si' target=\"_blank\">https://wandb.ai/sriharib128/CV_A1_Q2/sweeps/n67d31si</a>"
      ],
      "text/plain": [
       "<IPython.core.display.HTML object>"
      ]
     },
     "metadata": {},
     "output_type": "display_data"
    },
    {
     "data": {
      "text/html": [
       " View run at <a href='https://wandb.ai/sriharib128/CV_A1_Q2/runs/gskk3bky' target=\"_blank\">https://wandb.ai/sriharib128/CV_A1_Q2/runs/gskk3bky</a>"
      ],
      "text/plain": [
       "<IPython.core.display.HTML object>"
      ]
     },
     "metadata": {},
     "output_type": "display_data"
    },
    {
     "name": "stdout",
     "output_type": "stream",
     "text": [
      "{'batch_size': 8, 'epochs': 5, 'learning_rate': 0.01, 'optimizer': 'sgd'}\n",
      "Training set has 60000 instances\n",
      "Validation set has 10000 instances\n",
      "991th batch => 5.555144281192334\n",
      "1991th batch => 1.9606740361348238\n",
      "2991th batch => 1.6434143149103055\n",
      "3991th batch => 1.3617520053270709\n",
      "4991th batch => 1.2111913919699646\n",
      "5991th batch => 1.0585869540745398\n",
      "6991th batch => 0.9975825737698892\n",
      "EPOCH 0  LOSS train 0.9975825737698892 valid 0.011156678332335133 ACC 0.9759\n",
      "991th batch => 0.8965585691227651\n",
      "1991th batch => 0.8465718136889282\n",
      "2991th batch => 0.875246096716833\n",
      "3991th batch => 1.0381276281927228\n",
      "4991th batch => 0.8737072891670356\n",
      "5991th batch => 0.8787772647239762\n",
      "6991th batch => 0.7612336578960313\n",
      "EPOCH 1  LOSS train 0.7612336578960313 valid 0.01093846969395756 ACC 0.9752\n",
      "991th batch => 0.7473053605409187\n",
      "1991th batch => 0.7602576802508585\n",
      "2991th batch => 0.7190579896600253\n",
      "3991th batch => 0.7655185304154587\n",
      "4991th batch => 0.7775383908089682\n",
      "5991th batch => 0.8670465260989808\n",
      "6991th batch => 0.8775461859817191\n",
      "EPOCH 2  LOSS train 0.8775461859817191 valid 0.009886846086517284 ACC 0.9822\n",
      "991th batch => 0.6617416968536658\n",
      "1991th batch => 0.6730620270224813\n",
      "2991th batch => 0.6123757271146465\n",
      "3991th batch => 0.7992551562870334\n",
      "4991th batch => 0.8119759058800247\n",
      "5991th batch => 0.7199726748297043\n",
      "6991th batch => 0.6037503071599518\n",
      "EPOCH 3  LOSS train 0.6037503071599518 valid 0.009049788737061628 ACC 0.9811\n",
      "991th batch => 0.5883445367136872\n",
      "1991th batch => 0.6705109417385156\n",
      "2991th batch => 0.6789249165392988\n",
      "3991th batch => 0.8184097768142717\n",
      "4991th batch => 0.6468772242757487\n",
      "5991th batch => 0.6570493834599516\n",
      "6991th batch => 0.7737156943993029\n",
      "EPOCH 4  LOSS train 0.7737156943993029 valid 0.010331586618186544 ACC 0.9817\n"
     ]
    },
    {
     "data": {
      "application/vnd.jupyter.widget-view+json": {
       "model_id": "",
       "version_major": 2,
       "version_minor": 0
      },
      "text/plain": [
       "VBox(children=(Label(value='0.005 MB of 0.005 MB uploaded\\r'), FloatProgress(value=1.0, max=1.0)))"
      ]
     },
     "metadata": {},
     "output_type": "display_data"
    },
    {
     "data": {
      "text/html": [
       "<style>\n",
       "    table.wandb td:nth-child(1) { padding: 0 10px; text-align: left ; width: auto;} td:nth-child(2) {text-align: left ; width: 100%}\n",
       "    .wandb-row { display: flex; flex-direction: row; flex-wrap: wrap; justify-content: flex-start; width: 100% }\n",
       "    .wandb-col { display: flex; flex-direction: column; flex-basis: 100%; flex: 1; padding: 10px; }\n",
       "    </style>\n",
       "<div class=\"wandb-row\"><div class=\"wandb-col\"><h3>Run history:</h3><br/><table class=\"wandb\"><tr><td>accuracy</td><td>▂▁█▇▇</td></tr><tr><td>train_loss</td><td>█▄▆▁▄</td></tr><tr><td>vloss</td><td>█▇▄▁▅</td></tr></table><br/></div><div class=\"wandb-col\"><h3>Run summary:</h3><br/><table class=\"wandb\"><tr><td>accuracy</td><td>0.9817</td></tr><tr><td>train_loss</td><td>0.77372</td></tr><tr><td>vloss</td><td>0.01033</td></tr></table><br/></div></div>"
      ],
      "text/plain": [
       "<IPython.core.display.HTML object>"
      ]
     },
     "metadata": {},
     "output_type": "display_data"
    },
    {
     "data": {
      "text/html": [
       " View run <strong style=\"color:#cdcd00\">jolly-sweep-3</strong> at: <a href='https://wandb.ai/sriharib128/CV_A1_Q2/runs/gskk3bky' target=\"_blank\">https://wandb.ai/sriharib128/CV_A1_Q2/runs/gskk3bky</a><br/>Synced 6 W&B file(s), 0 media file(s), 0 artifact file(s) and 0 other file(s)"
      ],
      "text/plain": [
       "<IPython.core.display.HTML object>"
      ]
     },
     "metadata": {},
     "output_type": "display_data"
    },
    {
     "data": {
      "text/html": [
       "Find logs at: <code>./wandb/run-20240307_073606-gskk3bky/logs</code>"
      ],
      "text/plain": [
       "<IPython.core.display.HTML object>"
      ]
     },
     "metadata": {},
     "output_type": "display_data"
    },
    {
     "name": "stderr",
     "output_type": "stream",
     "text": [
      "\u001b[34m\u001b[1mwandb\u001b[0m: Agent Starting Run: md0ua9ae with config:\n",
      "\u001b[34m\u001b[1mwandb\u001b[0m: \tbatch_size: 128\n",
      "\u001b[34m\u001b[1mwandb\u001b[0m: \tepochs: 2\n",
      "\u001b[34m\u001b[1mwandb\u001b[0m: \tlearning_rate: 0.001\n",
      "\u001b[34m\u001b[1mwandb\u001b[0m: \toptimizer: sgd\n",
      "Failed to detect the name of this notebook, you can set it manually with the WANDB_NOTEBOOK_NAME environment variable to enable code saving.\n"
     ]
    },
    {
     "data": {
      "text/html": [
       "Tracking run with wandb version 0.16.4"
      ],
      "text/plain": [
       "<IPython.core.display.HTML object>"
      ]
     },
     "metadata": {},
     "output_type": "display_data"
    },
    {
     "data": {
      "text/html": [
       "Run data is saved locally in <code>/home2/surya_ravindra/CV_A2/wandb/run-20240307_073938-md0ua9ae</code>"
      ],
      "text/plain": [
       "<IPython.core.display.HTML object>"
      ]
     },
     "metadata": {},
     "output_type": "display_data"
    },
    {
     "data": {
      "text/html": [
       "Syncing run <strong><a href='https://wandb.ai/sriharib128/CV_A1_Q2/runs/md0ua9ae' target=\"_blank\">leafy-sweep-4</a></strong> to <a href='https://wandb.ai/sriharib128/CV_A1_Q2' target=\"_blank\">Weights & Biases</a> (<a href='https://wandb.me/run' target=\"_blank\">docs</a>)<br/>Sweep page: <a href='https://wandb.ai/sriharib128/CV_A1_Q2/sweeps/n67d31si' target=\"_blank\">https://wandb.ai/sriharib128/CV_A1_Q2/sweeps/n67d31si</a>"
      ],
      "text/plain": [
       "<IPython.core.display.HTML object>"
      ]
     },
     "metadata": {},
     "output_type": "display_data"
    },
    {
     "data": {
      "text/html": [
       " View project at <a href='https://wandb.ai/sriharib128/CV_A1_Q2' target=\"_blank\">https://wandb.ai/sriharib128/CV_A1_Q2</a>"
      ],
      "text/plain": [
       "<IPython.core.display.HTML object>"
      ]
     },
     "metadata": {},
     "output_type": "display_data"
    },
    {
     "data": {
      "text/html": [
       " View sweep at <a href='https://wandb.ai/sriharib128/CV_A1_Q2/sweeps/n67d31si' target=\"_blank\">https://wandb.ai/sriharib128/CV_A1_Q2/sweeps/n67d31si</a>"
      ],
      "text/plain": [
       "<IPython.core.display.HTML object>"
      ]
     },
     "metadata": {},
     "output_type": "display_data"
    },
    {
     "data": {
      "text/html": [
       " View run at <a href='https://wandb.ai/sriharib128/CV_A1_Q2/runs/md0ua9ae' target=\"_blank\">https://wandb.ai/sriharib128/CV_A1_Q2/runs/md0ua9ae</a>"
      ],
      "text/plain": [
       "<IPython.core.display.HTML object>"
      ]
     },
     "metadata": {},
     "output_type": "display_data"
    },
    {
     "name": "stdout",
     "output_type": "stream",
     "text": [
      "{'batch_size': 128, 'epochs': 2, 'learning_rate': 0.001, 'optimizer': 'sgd'}\n",
      "Training set has 60000 instances\n",
      "Validation set has 10000 instances\n",
      "991th batch => 18.251741362810137\n",
      "1991th batch => 3.6916667104233056\n",
      "2991th batch => 2.225923065857496\n",
      "3991th batch => 1.6432018884108401\n",
      "4991th batch => 1.3863097810960607\n",
      "5991th batch => 1.262583292920026\n",
      "6991th batch => 1.0538932435296011\n",
      "EPOCH 0  LOSS train 1.0538932435296011 valid 0.0005787050933082355 ACC 0.9766\n",
      "991th batch => 0.8185956264671403\n",
      "1991th batch => 0.8079232912659791\n",
      "2991th batch => 0.7871296330192127\n",
      "3991th batch => 0.8793787902929762\n",
      "4991th batch => 0.8212653600725752\n",
      "5991th batch => 0.7263649462335888\n",
      "6991th batch => 0.6841008702052204\n",
      "EPOCH 1  LOSS train 0.6841008702052204 valid 0.0004645774460863322 ACC 0.9808\n"
     ]
    },
    {
     "data": {
      "application/vnd.jupyter.widget-view+json": {
       "model_id": "",
       "version_major": 2,
       "version_minor": 0
      },
      "text/plain": [
       "VBox(children=(Label(value='0.005 MB of 0.005 MB uploaded\\r'), FloatProgress(value=1.0, max=1.0)))"
      ]
     },
     "metadata": {},
     "output_type": "display_data"
    },
    {
     "data": {
      "text/html": [
       "<style>\n",
       "    table.wandb td:nth-child(1) { padding: 0 10px; text-align: left ; width: auto;} td:nth-child(2) {text-align: left ; width: 100%}\n",
       "    .wandb-row { display: flex; flex-direction: row; flex-wrap: wrap; justify-content: flex-start; width: 100% }\n",
       "    .wandb-col { display: flex; flex-direction: column; flex-basis: 100%; flex: 1; padding: 10px; }\n",
       "    </style>\n",
       "<div class=\"wandb-row\"><div class=\"wandb-col\"><h3>Run history:</h3><br/><table class=\"wandb\"><tr><td>accuracy</td><td>▁█</td></tr><tr><td>train_loss</td><td>█▁</td></tr><tr><td>vloss</td><td>█▁</td></tr></table><br/></div><div class=\"wandb-col\"><h3>Run summary:</h3><br/><table class=\"wandb\"><tr><td>accuracy</td><td>0.9808</td></tr><tr><td>train_loss</td><td>0.6841</td></tr><tr><td>vloss</td><td>0.00046</td></tr></table><br/></div></div>"
      ],
      "text/plain": [
       "<IPython.core.display.HTML object>"
      ]
     },
     "metadata": {},
     "output_type": "display_data"
    },
    {
     "data": {
      "text/html": [
       " View run <strong style=\"color:#cdcd00\">leafy-sweep-4</strong> at: <a href='https://wandb.ai/sriharib128/CV_A1_Q2/runs/md0ua9ae' target=\"_blank\">https://wandb.ai/sriharib128/CV_A1_Q2/runs/md0ua9ae</a><br/>Synced 6 W&B file(s), 0 media file(s), 0 artifact file(s) and 0 other file(s)"
      ],
      "text/plain": [
       "<IPython.core.display.HTML object>"
      ]
     },
     "metadata": {},
     "output_type": "display_data"
    },
    {
     "data": {
      "text/html": [
       "Find logs at: <code>./wandb/run-20240307_073938-md0ua9ae/logs</code>"
      ],
      "text/plain": [
       "<IPython.core.display.HTML object>"
      ]
     },
     "metadata": {},
     "output_type": "display_data"
    },
    {
     "name": "stderr",
     "output_type": "stream",
     "text": [
      "\u001b[34m\u001b[1mwandb\u001b[0m: Sweep Agent: Waiting for job.\n",
      "\u001b[34m\u001b[1mwandb\u001b[0m: Job received.\n",
      "\u001b[34m\u001b[1mwandb\u001b[0m: Agent Starting Run: cle36q8b with config:\n",
      "\u001b[34m\u001b[1mwandb\u001b[0m: \tbatch_size: 32\n",
      "\u001b[34m\u001b[1mwandb\u001b[0m: \tepochs: 5\n",
      "\u001b[34m\u001b[1mwandb\u001b[0m: \tlearning_rate: 0.1\n",
      "\u001b[34m\u001b[1mwandb\u001b[0m: \toptimizer: adam\n",
      "Failed to detect the name of this notebook, you can set it manually with the WANDB_NOTEBOOK_NAME environment variable to enable code saving.\n"
     ]
    },
    {
     "data": {
      "application/vnd.jupyter.widget-view+json": {
       "model_id": "a5266f2e38924057bcc8b858c0d5965c",
       "version_major": 2,
       "version_minor": 0
      },
      "text/plain": [
       "VBox(children=(Label(value='Waiting for wandb.init()...\\r'), FloatProgress(value=0.011113519438852866, max=1.0…"
      ]
     },
     "metadata": {},
     "output_type": "display_data"
    },
    {
     "data": {
      "text/html": [
       "Tracking run with wandb version 0.16.4"
      ],
      "text/plain": [
       "<IPython.core.display.HTML object>"
      ]
     },
     "metadata": {},
     "output_type": "display_data"
    },
    {
     "data": {
      "text/html": [
       "Run data is saved locally in <code>/home2/surya_ravindra/CV_A2/wandb/run-20240307_074119-cle36q8b</code>"
      ],
      "text/plain": [
       "<IPython.core.display.HTML object>"
      ]
     },
     "metadata": {},
     "output_type": "display_data"
    },
    {
     "data": {
      "text/html": [
       "Syncing run <strong><a href='https://wandb.ai/sriharib128/CV_A1_Q2/runs/cle36q8b' target=\"_blank\">misunderstood-sweep-5</a></strong> to <a href='https://wandb.ai/sriharib128/CV_A1_Q2' target=\"_blank\">Weights & Biases</a> (<a href='https://wandb.me/run' target=\"_blank\">docs</a>)<br/>Sweep page: <a href='https://wandb.ai/sriharib128/CV_A1_Q2/sweeps/n67d31si' target=\"_blank\">https://wandb.ai/sriharib128/CV_A1_Q2/sweeps/n67d31si</a>"
      ],
      "text/plain": [
       "<IPython.core.display.HTML object>"
      ]
     },
     "metadata": {},
     "output_type": "display_data"
    },
    {
     "data": {
      "text/html": [
       " View project at <a href='https://wandb.ai/sriharib128/CV_A1_Q2' target=\"_blank\">https://wandb.ai/sriharib128/CV_A1_Q2</a>"
      ],
      "text/plain": [
       "<IPython.core.display.HTML object>"
      ]
     },
     "metadata": {},
     "output_type": "display_data"
    },
    {
     "data": {
      "text/html": [
       " View sweep at <a href='https://wandb.ai/sriharib128/CV_A1_Q2/sweeps/n67d31si' target=\"_blank\">https://wandb.ai/sriharib128/CV_A1_Q2/sweeps/n67d31si</a>"
      ],
      "text/plain": [
       "<IPython.core.display.HTML object>"
      ]
     },
     "metadata": {},
     "output_type": "display_data"
    },
    {
     "data": {
      "text/html": [
       " View run at <a href='https://wandb.ai/sriharib128/CV_A1_Q2/runs/cle36q8b' target=\"_blank\">https://wandb.ai/sriharib128/CV_A1_Q2/runs/cle36q8b</a>"
      ],
      "text/plain": [
       "<IPython.core.display.HTML object>"
      ]
     },
     "metadata": {},
     "output_type": "display_data"
    },
    {
     "name": "stdout",
     "output_type": "stream",
     "text": [
      "{'batch_size': 32, 'epochs': 5, 'learning_rate': 0.1, 'optimizer': 'adam'}\n",
      "Training set has 60000 instances\n",
      "Validation set has 10000 instances\n",
      "991th batch => 43.176880449056625\n",
      "1991th batch => 23.25671637058258\n",
      "2991th batch => 23.26226585149765\n",
      "3991th batch => 23.29083756685257\n",
      "4991th batch => 23.300664513111116\n",
      "5991th batch => 23.28980432987213\n",
      "6991th batch => 23.253890569210053\n",
      "EPOCH 0  LOSS train 23.253890569210053 valid 0.07289276967048645 ACC 0.0974\n",
      "991th batch => 23.04339464187622\n",
      "1991th batch => 23.26725379943848\n",
      "2991th batch => 23.270063302516938\n",
      "3991th batch => 23.266925988197325\n",
      "4991th batch => 23.293243842124937\n",
      "5991th batch => 23.286218147277832\n",
      "6991th batch => 23.263929541110993\n",
      "EPOCH 1  LOSS train 23.263929541110993 valid 0.0730980437040329 ACC 0.1009\n",
      "991th batch => 23.04179944753647\n",
      "1991th batch => 23.270401695966722\n",
      "2991th batch => 23.290198802947998\n",
      "3991th batch => 23.2828069460392\n",
      "4991th batch => 23.284330325126646\n",
      "5991th batch => 23.26169182538986\n",
      "6991th batch => 23.278207147121428\n",
      "EPOCH 2  LOSS train 23.278207147121428 valid 0.07326645541191101 ACC 0.0974\n",
      "991th batch => 23.050361878871918\n",
      "1991th batch => 23.2461879491806\n",
      "2991th batch => 23.273120167255403\n",
      "3991th batch => 23.317230825424193\n",
      "4991th batch => 23.28665799856186\n",
      "5991th batch => 23.28820059299469\n",
      "6991th batch => 23.255355541706084\n",
      "EPOCH 3  LOSS train 23.255355541706084 valid 0.07278175203800201 ACC 0.1032\n",
      "991th batch => 23.094008643627166\n",
      "1991th batch => 23.288456163406373\n",
      "2991th batch => 23.25646839618683\n",
      "3991th batch => 23.295311245918274\n",
      "4991th batch => 23.2604195189476\n",
      "5991th batch => 23.26433340549469\n",
      "6991th batch => 23.318084907531738\n",
      "EPOCH 4  LOSS train 23.318084907531738 valid 0.07273831684589387 ACC 0.0958\n"
     ]
    },
    {
     "data": {
      "application/vnd.jupyter.widget-view+json": {
       "model_id": "5235c60cd9254fc3b80f57484639139f",
       "version_major": 2,
       "version_minor": 0
      },
      "text/plain": [
       "VBox(children=(Label(value='0.005 MB of 0.005 MB uploaded\\r'), FloatProgress(value=1.0, max=1.0)))"
      ]
     },
     "metadata": {},
     "output_type": "display_data"
    },
    {
     "data": {
      "text/html": [
       "<style>\n",
       "    table.wandb td:nth-child(1) { padding: 0 10px; text-align: left ; width: auto;} td:nth-child(2) {text-align: left ; width: 100%}\n",
       "    .wandb-row { display: flex; flex-direction: row; flex-wrap: wrap; justify-content: flex-start; width: 100% }\n",
       "    .wandb-col { display: flex; flex-direction: column; flex-basis: 100%; flex: 1; padding: 10px; }\n",
       "    </style>\n",
       "<div class=\"wandb-row\"><div class=\"wandb-col\"><h3>Run history:</h3><br/><table class=\"wandb\"><tr><td>accuracy</td><td>▃▆▃█▁</td></tr><tr><td>train_loss</td><td>▁▂▄▁█</td></tr><tr><td>vloss</td><td>▃▆█▂▁</td></tr></table><br/></div><div class=\"wandb-col\"><h3>Run summary:</h3><br/><table class=\"wandb\"><tr><td>accuracy</td><td>0.0958</td></tr><tr><td>train_loss</td><td>23.31808</td></tr><tr><td>vloss</td><td>0.07274</td></tr></table><br/></div></div>"
      ],
      "text/plain": [
       "<IPython.core.display.HTML object>"
      ]
     },
     "metadata": {},
     "output_type": "display_data"
    },
    {
     "data": {
      "text/html": [
       " View run <strong style=\"color:#cdcd00\">misunderstood-sweep-5</strong> at: <a href='https://wandb.ai/sriharib128/CV_A1_Q2/runs/cle36q8b' target=\"_blank\">https://wandb.ai/sriharib128/CV_A1_Q2/runs/cle36q8b</a><br/>Synced 6 W&B file(s), 0 media file(s), 0 artifact file(s) and 0 other file(s)"
      ],
      "text/plain": [
       "<IPython.core.display.HTML object>"
      ]
     },
     "metadata": {},
     "output_type": "display_data"
    },
    {
     "data": {
      "text/html": [
       "Find logs at: <code>./wandb/run-20240307_074119-cle36q8b/logs</code>"
      ],
      "text/plain": [
       "<IPython.core.display.HTML object>"
      ]
     },
     "metadata": {},
     "output_type": "display_data"
    },
    {
     "name": "stderr",
     "output_type": "stream",
     "text": [
      "\u001b[34m\u001b[1mwandb\u001b[0m: Agent Starting Run: 7wvjejpc with config:\n",
      "\u001b[34m\u001b[1mwandb\u001b[0m: \tbatch_size: 8\n",
      "\u001b[34m\u001b[1mwandb\u001b[0m: \tepochs: 5\n",
      "\u001b[34m\u001b[1mwandb\u001b[0m: \tlearning_rate: 0.001\n",
      "\u001b[34m\u001b[1mwandb\u001b[0m: \toptimizer: sgd\n",
      "Failed to detect the name of this notebook, you can set it manually with the WANDB_NOTEBOOK_NAME environment variable to enable code saving.\n"
     ]
    },
    {
     "data": {
      "text/html": [
       "Tracking run with wandb version 0.16.4"
      ],
      "text/plain": [
       "<IPython.core.display.HTML object>"
      ]
     },
     "metadata": {},
     "output_type": "display_data"
    },
    {
     "data": {
      "text/html": [
       "Run data is saved locally in <code>/home2/surya_ravindra/CV_A2/wandb/run-20240307_074520-7wvjejpc</code>"
      ],
      "text/plain": [
       "<IPython.core.display.HTML object>"
      ]
     },
     "metadata": {},
     "output_type": "display_data"
    },
    {
     "data": {
      "text/html": [
       "Syncing run <strong><a href='https://wandb.ai/sriharib128/CV_A1_Q2/runs/7wvjejpc' target=\"_blank\">trim-sweep-6</a></strong> to <a href='https://wandb.ai/sriharib128/CV_A1_Q2' target=\"_blank\">Weights & Biases</a> (<a href='https://wandb.me/run' target=\"_blank\">docs</a>)<br/>Sweep page: <a href='https://wandb.ai/sriharib128/CV_A1_Q2/sweeps/n67d31si' target=\"_blank\">https://wandb.ai/sriharib128/CV_A1_Q2/sweeps/n67d31si</a>"
      ],
      "text/plain": [
       "<IPython.core.display.HTML object>"
      ]
     },
     "metadata": {},
     "output_type": "display_data"
    },
    {
     "data": {
      "text/html": [
       " View project at <a href='https://wandb.ai/sriharib128/CV_A1_Q2' target=\"_blank\">https://wandb.ai/sriharib128/CV_A1_Q2</a>"
      ],
      "text/plain": [
       "<IPython.core.display.HTML object>"
      ]
     },
     "metadata": {},
     "output_type": "display_data"
    },
    {
     "data": {
      "text/html": [
       " View sweep at <a href='https://wandb.ai/sriharib128/CV_A1_Q2/sweeps/n67d31si' target=\"_blank\">https://wandb.ai/sriharib128/CV_A1_Q2/sweeps/n67d31si</a>"
      ],
      "text/plain": [
       "<IPython.core.display.HTML object>"
      ]
     },
     "metadata": {},
     "output_type": "display_data"
    },
    {
     "data": {
      "text/html": [
       " View run at <a href='https://wandb.ai/sriharib128/CV_A1_Q2/runs/7wvjejpc' target=\"_blank\">https://wandb.ai/sriharib128/CV_A1_Q2/runs/7wvjejpc</a>"
      ],
      "text/plain": [
       "<IPython.core.display.HTML object>"
      ]
     },
     "metadata": {},
     "output_type": "display_data"
    },
    {
     "name": "stdout",
     "output_type": "stream",
     "text": [
      "{'batch_size': 8, 'epochs': 5, 'learning_rate': 0.001, 'optimizer': 'sgd'}\n",
      "Training set has 60000 instances\n",
      "Validation set has 10000 instances\n",
      "991th batch => 19.726857138574122\n",
      "1991th batch => 3.814682405143976\n",
      "2991th batch => 2.160127644990571\n",
      "3991th batch => 1.648054756843485\n",
      "4991th batch => 1.395670606972999\n",
      "5991th batch => 1.26193905666325\n",
      "6991th batch => 1.017983746008831\n",
      "EPOCH 0  LOSS train 1.017983746008831 valid 0.009516581569721166 ACC 0.9754\n",
      "991th batch => 0.7380682827746204\n",
      "1991th batch => 0.8154659192747203\n",
      "2991th batch => 0.7667398886381125\n",
      "3991th batch => 0.7661959799614851\n",
      "4991th batch => 0.6901234278800257\n",
      "5991th batch => 0.6469269450075807\n",
      "6991th batch => 0.6675393139977314\n",
      "EPOCH 1  LOSS train 0.6675393139977314 valid 0.005608304884928657 ACC 0.9837\n",
      "991th batch => 0.6015153157677924\n",
      "1991th batch => 0.5060312783921836\n",
      "2991th batch => 0.4802379263797411\n",
      "3991th batch => 0.5308238622986391\n",
      "4991th batch => 0.52842489370978\n",
      "5991th batch => 0.49618744035564305\n",
      "6991th batch => 0.48734701479028447\n",
      "EPOCH 2  LOSS train 0.48734701479028447 valid 0.004863912858832919 ACC 0.9875\n",
      "991th batch => 0.39806243007652936\n",
      "1991th batch => 0.36421483871907184\n",
      "2991th batch => 0.460744151133149\n",
      "3991th batch => 0.38017746783380973\n",
      "4991th batch => 0.3894086594177588\n",
      "5991th batch => 0.4110230622038398\n",
      "6991th batch => 0.4470828945476205\n",
      "EPOCH 3  LOSS train 0.4470828945476205 valid 0.004356926870960842 ACC 0.9887\n",
      "991th batch => 0.29121266348109204\n",
      "1991th batch => 0.30018314111801375\n",
      "2991th batch => 0.3331000683323782\n",
      "3991th batch => 0.36571788512814235\n",
      "4991th batch => 0.312846156973269\n",
      "5991th batch => 0.29497438327000963\n",
      "6991th batch => 0.38530146169720864\n",
      "EPOCH 4  LOSS train 0.38530146169720864 valid 0.004267055402634696 ACC 0.989\n"
     ]
    },
    {
     "data": {
      "application/vnd.jupyter.widget-view+json": {
       "model_id": "fc3d151c683f455a9b03b144514f6d6e",
       "version_major": 2,
       "version_minor": 0
      },
      "text/plain": [
       "VBox(children=(Label(value='0.005 MB of 0.005 MB uploaded\\r'), FloatProgress(value=1.0, max=1.0)))"
      ]
     },
     "metadata": {},
     "output_type": "display_data"
    },
    {
     "data": {
      "text/html": [
       "<style>\n",
       "    table.wandb td:nth-child(1) { padding: 0 10px; text-align: left ; width: auto;} td:nth-child(2) {text-align: left ; width: 100%}\n",
       "    .wandb-row { display: flex; flex-direction: row; flex-wrap: wrap; justify-content: flex-start; width: 100% }\n",
       "    .wandb-col { display: flex; flex-direction: column; flex-basis: 100%; flex: 1; padding: 10px; }\n",
       "    </style>\n",
       "<div class=\"wandb-row\"><div class=\"wandb-col\"><h3>Run history:</h3><br/><table class=\"wandb\"><tr><td>accuracy</td><td>▁▅▇██</td></tr><tr><td>train_loss</td><td>█▄▂▂▁</td></tr><tr><td>vloss</td><td>█▃▂▁▁</td></tr></table><br/></div><div class=\"wandb-col\"><h3>Run summary:</h3><br/><table class=\"wandb\"><tr><td>accuracy</td><td>0.989</td></tr><tr><td>train_loss</td><td>0.3853</td></tr><tr><td>vloss</td><td>0.00427</td></tr></table><br/></div></div>"
      ],
      "text/plain": [
       "<IPython.core.display.HTML object>"
      ]
     },
     "metadata": {},
     "output_type": "display_data"
    },
    {
     "data": {
      "text/html": [
       " View run <strong style=\"color:#cdcd00\">trim-sweep-6</strong> at: <a href='https://wandb.ai/sriharib128/CV_A1_Q2/runs/7wvjejpc' target=\"_blank\">https://wandb.ai/sriharib128/CV_A1_Q2/runs/7wvjejpc</a><br/>Synced 6 W&B file(s), 0 media file(s), 0 artifact file(s) and 0 other file(s)"
      ],
      "text/plain": [
       "<IPython.core.display.HTML object>"
      ]
     },
     "metadata": {},
     "output_type": "display_data"
    },
    {
     "data": {
      "text/html": [
       "Find logs at: <code>./wandb/run-20240307_074520-7wvjejpc/logs</code>"
      ],
      "text/plain": [
       "<IPython.core.display.HTML object>"
      ]
     },
     "metadata": {},
     "output_type": "display_data"
    }
   ],
   "source": [
    "wandb.agent(sweep_id, function=train, count=6)"
   ]
  },
  {
   "cell_type": "code",
   "execution_count": 26,
   "id": "02bd67bd-28d8-4b37-8a58-8d266a5204c4",
   "metadata": {},
   "outputs": [
    {
     "name": "stdout",
     "output_type": "stream",
     "text": [
      "{'batch_size': 8, 'epochs': 2, 'learning_rate': 0.01, 'optimizer': 'sgd'} 0.9772\n",
      "{'batch_size': 64, 'epochs': 2, 'learning_rate': 0.01, 'optimizer': 'adam'} 0.9338\n",
      "{'batch_size': 8, 'epochs': 5, 'learning_rate': 0.01, 'optimizer': 'sgd'} 0.9817\n",
      "{'batch_size': 128, 'epochs': 2, 'learning_rate': 0.001, 'optimizer': 'sgd'} 0.9808\n",
      "{'batch_size': 32, 'epochs': 5, 'learning_rate': 0.1, 'optimizer': 'adam'} 0.0958\n",
      "{'batch_size': 8, 'epochs': 5, 'learning_rate': 0.001, 'optimizer': 'sgd'} 0.989\n"
     ]
    }
   ],
   "source": [
    "for i in range(6):\n",
    "    print(configs_sweep[i],accuracies_sweep[i])"
   ]
  },
  {
   "cell_type": "raw",
   "id": "c39e1e50-c17a-4169-982e-632d6c1849cd",
   "metadata": {},
   "source": [
    "{'batch_size': 8, 'epochs': 2, 'learning_rate': 0.01, 'optimizer': 'sgd'} 0.9772\n",
    "{'batch_size': 64, 'epochs': 2, 'learning_rate': 0.01, 'optimizer': 'adam'} 0.9338\n",
    "{'batch_size': 8, 'epochs': 5, 'learning_rate': 0.01, 'optimizer': 'sgd'} 0.9817\n",
    "{'batch_size': 128, 'epochs': 2, 'learning_rate': 0.001, 'optimizer': 'sgd'} 0.9808\n",
    "{'batch_size': 32, 'epochs': 5, 'learning_rate': 0.1, 'optimizer': 'adam'} 0.0958\n",
    "{'batch_size': 8, 'epochs': 5, 'learning_rate': 0.001, 'optimizer': 'sgd'} 0.989\n"
   ]
  },
  {
   "cell_type": "markdown",
   "id": "b266a8b9-386b-4031-9a48-e6520c2d8f08",
   "metadata": {},
   "source": [
    "## CNN vs SIFT-BoVW-SVM"
   ]
  },
  {
   "cell_type": "markdown",
   "id": "647713ca-f1ff-42a3-9679-5a2b65dd6759",
   "metadata": {},
   "source": [
    "## Double the number of convolution layers"
   ]
  },
  {
   "cell_type": "code",
   "execution_count": 32,
   "id": "eb06e344-fdec-46d8-b4ca-b46f9fd1738d",
   "metadata": {},
   "outputs": [],
   "source": [
    "import wandb\n",
    "from pprint import pprint"
   ]
  },
  {
   "cell_type": "code",
   "execution_count": 33,
   "id": "d91df8f5-0690-4de0-8ba8-fb7ba9d7e5ea",
   "metadata": {},
   "outputs": [
    {
     "name": "stderr",
     "output_type": "stream",
     "text": [
      "Failed to detect the name of this notebook, you can set it manually with the WANDB_NOTEBOOK_NAME environment variable to enable code saving.\n",
      "\u001b[34m\u001b[1mwandb\u001b[0m: Currently logged in as: \u001b[33msriharib128\u001b[0m. Use \u001b[1m`wandb login --relogin`\u001b[0m to force relogin\n"
     ]
    },
    {
     "data": {
      "text/plain": [
       "True"
      ]
     },
     "execution_count": 33,
     "metadata": {},
     "output_type": "execute_result"
    }
   ],
   "source": [
    "wandb.login()"
   ]
  },
  {
   "cell_type": "code",
   "execution_count": 34,
   "id": "9809273d-11a9-4d81-94dd-3aa94ad3b764",
   "metadata": {
    "scrolled": true
   },
   "outputs": [
    {
     "data": {
      "text/html": [
       "Tracking run with wandb version 0.16.4"
      ],
      "text/plain": [
       "<IPython.core.display.HTML object>"
      ]
     },
     "metadata": {},
     "output_type": "display_data"
    },
    {
     "data": {
      "text/html": [
       "Run data is saved locally in <code>/home2/surya_ravindra/CV_A2/wandb/run-20240307_123016-pb2mbmpz</code>"
      ],
      "text/plain": [
       "<IPython.core.display.HTML object>"
      ]
     },
     "metadata": {},
     "output_type": "display_data"
    },
    {
     "data": {
      "text/html": [
       "Syncing run <strong><a href='https://wandb.ai/sriharib128/CV_A1_Q2/runs/pb2mbmpz' target=\"_blank\">double conv layers</a></strong> to <a href='https://wandb.ai/sriharib128/CV_A1_Q2' target=\"_blank\">Weights & Biases</a> (<a href='https://wandb.me/run' target=\"_blank\">docs</a>)<br/>"
      ],
      "text/plain": [
       "<IPython.core.display.HTML object>"
      ]
     },
     "metadata": {},
     "output_type": "display_data"
    },
    {
     "data": {
      "text/html": [
       " View project at <a href='https://wandb.ai/sriharib128/CV_A1_Q2' target=\"_blank\">https://wandb.ai/sriharib128/CV_A1_Q2</a>"
      ],
      "text/plain": [
       "<IPython.core.display.HTML object>"
      ]
     },
     "metadata": {},
     "output_type": "display_data"
    },
    {
     "data": {
      "text/html": [
       " View run at <a href='https://wandb.ai/sriharib128/CV_A1_Q2/runs/pb2mbmpz' target=\"_blank\">https://wandb.ai/sriharib128/CV_A1_Q2/runs/pb2mbmpz</a>"
      ],
      "text/plain": [
       "<IPython.core.display.HTML object>"
      ]
     },
     "metadata": {},
     "output_type": "display_data"
    },
    {
     "name": "stdout",
     "output_type": "stream",
     "text": [
      "{'learning_rate': 0.001, 'batch_size': 8, 'epoch': 5, 'optimizer': 'sgd'}\n"
     ]
    }
   ],
   "source": [
    "run = wandb.init(project=\"CV_A1_Q2\",name = \"double conv layers\")\n",
    "wandb.config.learning_rate = 0.001\n",
    "wandb.config.batch_size = 8\n",
    "wandb.config.epoch = 5\n",
    "wandb.config.optimizer = \"sgd\"\n",
    "pprint(wandb.config)"
   ]
  },
  {
   "cell_type": "code",
   "execution_count": null,
   "id": "f81a3f6a-e120-4767-807d-a236896c5e77",
   "metadata": {},
   "outputs": [],
   "source": [
    "import torch.nn as nn\n",
    "import torch.nn.functional as F\n",
    "\n",
    "# PyTorch models inherit from torch.nn.Module\n",
    "class LeNet2(nn.Module):\n",
    "    def __init__(self):\n",
    "        super(LeNet, self).__init__()\n",
    "        self.conv1 = nn.Conv2d(1, 6, 5)\n",
    "        self.pool = nn.MaxPool2d(2, 2)\n",
    "        self.conv2 = nn.Conv2d(6, 16, 5)\n",
    "        self.conv3 = nn.Conv2d(16, 32, 5)\n",
    "        self.conv4 = nn.Conv2d(32, 64, 5)\n",
    "        self.fc1 = nn.Linear(64 * 4 * 4, 120)\n",
    "        self.fc2 = nn.Linear(120, 84)\n",
    "        self.fc3 = nn.Linear(84, 10)\n",
    "\n",
    "    def forward(self, x):\n",
    "        x = self.pool(F.relu(self.conv1(x)))\n",
    "        x = self.pool(F.relu(self.conv2(x)))\n",
    "        x = self.pool(F.relu(self.conv3(x)))\n",
    "        x = self.pool(F.relu(self.conv4(x)))\n",
    "        x = x.view(-1, 64 * 4 * 4)\n",
    "        x = F.relu(self.fc1(x))\n",
    "        x = F.relu(self.fc2(x))\n",
    "        x = self.fc3(x)\n",
    "        return x\n",
    "\n",
    "model = LeNet2()\n",
    "model.to(device)"
   ]
  },
  {
   "cell_type": "code",
   "execution_count": 18,
   "id": "d59cf5c2-0a38-459c-8475-e7e118985630",
   "metadata": {},
   "outputs": [],
   "source": [
    "model = LeNet()\n",
    "model.to(device)\n",
    "loss_fn = torch.nn.CrossEntropyLoss()\n",
    "optimizer = torch.optim.Adam(model.parameters(),lr=wandb.config.learning_rate)"
   ]
  },
  {
   "cell_type": "code",
   "execution_count": 19,
   "id": "6232f504-25b9-4677-9985-0eee68ce6e07",
   "metadata": {},
   "outputs": [
    {
     "name": "stdout",
     "output_type": "stream",
     "text": [
      "Training set has 60000 instances\n",
      "Validation set has 10000 instances\n"
     ]
    }
   ],
   "source": [
    "training_loader,validation_loader = data_get_load(wandb.config.batch_size)"
   ]
  },
  {
   "cell_type": "code",
   "execution_count": 31,
   "id": "869a3ea1-a235-42a3-aaed-331f2d327db6",
   "metadata": {
    "scrolled": true
   },
   "outputs": [],
   "source": [
    "# timestamp = datetime.now().strftime('%Y%m%d_%H%M%S')\n",
    "# best_vloss = 1_000_000.\n",
    "# # Training loop\n",
    "# for epoch_number in range(wandb.config.epoch):  # Number of epochs\n",
    "#     correct = 0\n",
    "#     total = 0\n",
    "#     print('EPOCH {}:'.format(epoch_number + 1))\n",
    "#     avg_loss = train_one_epoch(model,training_loader,loss_fn,optimizer,device,epoch_number,None,None,write=False)\n",
    "#     avg_vloss,v_acc = test_one_epoch(model,validation_loader,loss_fn,device,None)\n",
    "\n",
    "#     wandb.log({\"train_loss\":avg_loss,\"vloss\":avg_vloss,\"accuracy\":v_acc})\n",
    "    \n",
    "#     print('LOSS train {} valid {} ACC {}'.format(avg_loss, avg_vloss,v_acc))\n",
    "\n",
    "#     if avg_vloss < best_vloss:\n",
    "#         best_vloss = avg_vloss\n",
    "#         model_path = './models/model_{}_{}'.format(timestamp, epoch_number)\n",
    "#         torch.save(model.state_dict(), model_path)\n",
    "#         print(f\"saved model to {model_path}\")\n",
    "\n",
    "# # exort to ONNX and save in Netron for Vizualization\n",
    "# wandb.save(\"model.pth\")\n",
    "\n",
    "# # Finish the run\n",
    "# run.finish()"
   ]
  },
  {
   "cell_type": "code",
   "execution_count": null,
   "id": "f2baa1eb-113e-4dc5-aba7-55a320d41190",
   "metadata": {},
   "outputs": [],
   "source": []
  },
  {
   "cell_type": "markdown",
   "id": "4d01f7e8-aecd-4d76-8e82-c414027984e9",
   "metadata": {},
   "source": [
    "## Changing Training Size"
   ]
  },
  {
   "cell_type": "code",
   "execution_count": 17,
   "id": "9a0be25c-3f7b-44a7-8a5b-c6f0d85a6b8e",
   "metadata": {},
   "outputs": [],
   "source": [
    "from sklearn.model_selection import StratifiedShuffleSplit\n",
    "\n",
    "def data_get_load_num_samp(batch_size=64, num_training_samples=600):\n",
    "    transform = transforms.Compose([\n",
    "        transforms.ToTensor(),\n",
    "        transforms.Normalize((0.5,), (0.5,))\n",
    "    ])\n",
    "\n",
    "    # Create datasets for training & validation, download if necessary\n",
    "    training_set = datasets.MNIST('./data', train=True, transform=transform, download=True)\n",
    "    validation_set = datasets.MNIST('./data', train=False, transform=transform, download=True)\n",
    "\n",
    "    if num_training_samples == len(training_set):\n",
    "        subset_train_loader = torch.utils.data.DataLoader(training_set, batch_size=batch_size, shuffle=True)\n",
    "    else:\n",
    "        sss = StratifiedShuffleSplit(n_splits=1, train_size=num_training_samples, random_state=42)\n",
    "        indices = list(range(len(training_set)))\n",
    "\n",
    "        for _, subset_indices in sss.split(indices, training_set.targets):\n",
    "            subset_train_dataset = torch.utils.data.Subset(training_set, subset_indices)\n",
    "\n",
    "        subset_train_loader = torch.utils.data.DataLoader(subset_train_dataset, batch_size=batch_size, shuffle=True)\n",
    "\n",
    "    validation_loader = torch.utils.data.DataLoader(validation_set, batch_size=batch_size, shuffle=False)\n",
    "\n",
    "    # Report split sizes\n",
    "    print('Training set has {} instances'.format(len(training_loader)*batch_size))\n",
    "    print('Validation set has {} instances'.format(len(validation_set)))\n",
    "\n",
    "    return subset_train_loader, validation_loader"
   ]
  },
  {
   "cell_type": "code",
   "execution_count": 18,
   "id": "f4b432a2-4005-45a3-8487-5857b035b3f6",
   "metadata": {},
   "outputs": [
    {
     "name": "stdout",
     "output_type": "stream",
     "text": [
      "Training set has 60000 instances\n",
      "Validation set has 10000 instances\n"
     ]
    }
   ],
   "source": [
    "# Example usage\n",
    "batch_size = 8\n",
    "num_training_samples = 600\n",
    "training_loader, validation_loader = data_get_load_num_samp(batch_size, num_training_samples)"
   ]
  },
  {
   "cell_type": "code",
   "execution_count": 21,
   "id": "a2ab5685-a64b-4316-b1a9-224904f0bd94",
   "metadata": {
    "scrolled": true
   },
   "outputs": [
    {
     "data": {
      "text/html": [
       "Finishing last run (ID:njfikr1g) before initializing another..."
      ],
      "text/plain": [
       "<IPython.core.display.HTML object>"
      ]
     },
     "metadata": {},
     "output_type": "display_data"
    },
    {
     "name": "stderr",
     "output_type": "stream",
     "text": [
      "wandb: WARNING Source type is set to 'repo' but some required information is missing from the environment. A job will not be created from this run. See https://docs.wandb.ai/guides/launch/create-job\n"
     ]
    },
    {
     "data": {
      "application/vnd.jupyter.widget-view+json": {
       "model_id": "",
       "version_major": 2,
       "version_minor": 0
      },
      "text/plain": [
       "VBox(children=(Label(value='0.005 MB of 0.005 MB uploaded\\r'), FloatProgress(value=1.0, max=1.0)))"
      ]
     },
     "metadata": {},
     "output_type": "display_data"
    },
    {
     "data": {
      "text/html": [
       " View run <strong style=\"color:#cdcd00\">600_sz_run</strong> at: <a href='https://wandb.ai/sriharib128/CV_A1_Q2/runs/njfikr1g' target=\"_blank\">https://wandb.ai/sriharib128/CV_A1_Q2/runs/njfikr1g</a><br/>Synced 6 W&B file(s), 0 media file(s), 0 artifact file(s) and 0 other file(s)"
      ],
      "text/plain": [
       "<IPython.core.display.HTML object>"
      ]
     },
     "metadata": {},
     "output_type": "display_data"
    },
    {
     "data": {
      "text/html": [
       "Find logs at: <code>./wandb/run-20240307_085327-njfikr1g/logs</code>"
      ],
      "text/plain": [
       "<IPython.core.display.HTML object>"
      ]
     },
     "metadata": {},
     "output_type": "display_data"
    },
    {
     "data": {
      "text/html": [
       "Successfully finished last run (ID:njfikr1g). Initializing new run:<br/>"
      ],
      "text/plain": [
       "<IPython.core.display.HTML object>"
      ]
     },
     "metadata": {},
     "output_type": "display_data"
    },
    {
     "data": {
      "application/vnd.jupyter.widget-view+json": {
       "model_id": "974f769696b944e6a577fb98eeba214a",
       "version_major": 2,
       "version_minor": 0
      },
      "text/plain": [
       "VBox(children=(Label(value='Waiting for wandb.init()...\\r'), FloatProgress(value=0.01111361396809419, max=1.0)…"
      ]
     },
     "metadata": {},
     "output_type": "display_data"
    },
    {
     "data": {
      "text/html": [
       "Tracking run with wandb version 0.16.4"
      ],
      "text/plain": [
       "<IPython.core.display.HTML object>"
      ]
     },
     "metadata": {},
     "output_type": "display_data"
    },
    {
     "data": {
      "text/html": [
       "Run data is saved locally in <code>/home2/surya_ravindra/CV_A2/wandb/run-20240307_085434-494pbpoq</code>"
      ],
      "text/plain": [
       "<IPython.core.display.HTML object>"
      ]
     },
     "metadata": {},
     "output_type": "display_data"
    },
    {
     "data": {
      "text/html": [
       "Syncing run <strong><a href='https://wandb.ai/sriharib128/CV_A1_Q2/runs/494pbpoq' target=\"_blank\">600_sz_run</a></strong> to <a href='https://wandb.ai/sriharib128/CV_A1_Q2' target=\"_blank\">Weights & Biases</a> (<a href='https://wandb.me/run' target=\"_blank\">docs</a>)<br/>"
      ],
      "text/plain": [
       "<IPython.core.display.HTML object>"
      ]
     },
     "metadata": {},
     "output_type": "display_data"
    },
    {
     "data": {
      "text/html": [
       " View project at <a href='https://wandb.ai/sriharib128/CV_A1_Q2' target=\"_blank\">https://wandb.ai/sriharib128/CV_A1_Q2</a>"
      ],
      "text/plain": [
       "<IPython.core.display.HTML object>"
      ]
     },
     "metadata": {},
     "output_type": "display_data"
    },
    {
     "data": {
      "text/html": [
       " View run at <a href='https://wandb.ai/sriharib128/CV_A1_Q2/runs/494pbpoq' target=\"_blank\">https://wandb.ai/sriharib128/CV_A1_Q2/runs/494pbpoq</a>"
      ],
      "text/plain": [
       "<IPython.core.display.HTML object>"
      ]
     },
     "metadata": {},
     "output_type": "display_data"
    },
    {
     "name": "stdout",
     "output_type": "stream",
     "text": [
      "{'learning_rate': 0.001, 'batch_size': 8, 'epoch': 5, 'optimizer': 'sgd'}\n",
      "Training set has 59400 instances\n",
      "Validation set has 10000 instances\n",
      "EPOCH 1:\n",
      "991th batch => 19.716490553468464\n",
      "1991th batch => 4.283347495645285\n",
      "2991th batch => 2.266541637857445\n",
      "3991th batch => 1.6153097458177945\n",
      "4991th batch => 1.4292962787963917\n",
      "5991th batch => 1.2433192918397253\n",
      "6991th batch => 1.1153982854256173\n",
      "LOSS train 1.1153982854256173 valid 0.01042411605834859 ACC 0.9734\n",
      "EPOCH 2:\n",
      "991th batch => 0.8794164806067419\n",
      "1991th batch => 0.8936300629776087\n",
      "2991th batch => 0.8577824517313275\n",
      "3991th batch => 0.8126860227557335\n",
      "4991th batch => 0.7884754716328461\n",
      "5991th batch => 0.667460732046893\n",
      "6991th batch => 0.7423538828032906\n",
      "LOSS train 0.7423538828032906 valid 0.008188361717084263 ACC 0.9779\n",
      "EPOCH 3:\n",
      "991th batch => 0.6124047179418994\n",
      "1991th batch => 0.5940694429953146\n",
      "2991th batch => 0.4688924559580119\n",
      "3991th batch => 0.638485674167332\n",
      "4991th batch => 0.5231571778328725\n",
      "5991th batch => 0.5466046649817872\n",
      "6991th batch => 0.5032894946746092\n",
      "LOSS train 0.5032894946746092 valid 0.005402935029694709 ACC 0.9857\n",
      "EPOCH 4:\n",
      "991th batch => 0.4541596486940216\n",
      "1991th batch => 0.4064265371896181\n",
      "2991th batch => 0.4167181980787791\n",
      "3991th batch => 0.4116396222370713\n",
      "4991th batch => 0.41008222669498307\n",
      "5991th batch => 0.4192751991749492\n",
      "6991th batch => 0.47294685513985313\n",
      "LOSS train 0.47294685513985313 valid 0.005105379308430338 ACC 0.9868\n",
      "EPOCH 5:\n",
      "991th batch => 0.32690171983358596\n",
      "1991th batch => 0.3608391638665853\n",
      "2991th batch => 0.350080545413457\n",
      "3991th batch => 0.3860721122799623\n",
      "4991th batch => 0.359680171940081\n",
      "5991th batch => 0.39867886269242264\n",
      "6991th batch => 0.29344008478788963\n",
      "LOSS train 0.29344008478788963 valid 0.004885594342869763 ACC 0.9878\n"
     ]
    },
    {
     "name": "stderr",
     "output_type": "stream",
     "text": [
      "wandb: WARNING Source type is set to 'repo' but some required information is missing from the environment. A job will not be created from this run. See https://docs.wandb.ai/guides/launch/create-job\n"
     ]
    },
    {
     "data": {
      "application/vnd.jupyter.widget-view+json": {
       "model_id": "",
       "version_major": 2,
       "version_minor": 0
      },
      "text/plain": [
       "VBox(children=(Label(value='0.005 MB of 0.005 MB uploaded\\r'), FloatProgress(value=1.0, max=1.0)))"
      ]
     },
     "metadata": {},
     "output_type": "display_data"
    },
    {
     "data": {
      "text/html": [
       " View run <strong style=\"color:#cdcd00\">600_sz_run</strong> at: <a href='https://wandb.ai/sriharib128/CV_A1_Q2/runs/494pbpoq' target=\"_blank\">https://wandb.ai/sriharib128/CV_A1_Q2/runs/494pbpoq</a><br/>Synced 6 W&B file(s), 0 media file(s), 0 artifact file(s) and 0 other file(s)"
      ],
      "text/plain": [
       "<IPython.core.display.HTML object>"
      ]
     },
     "metadata": {},
     "output_type": "display_data"
    },
    {
     "data": {
      "text/html": [
       "Find logs at: <code>./wandb/run-20240307_085434-494pbpoq/logs</code>"
      ],
      "text/plain": [
       "<IPython.core.display.HTML object>"
      ]
     },
     "metadata": {},
     "output_type": "display_data"
    },
    {
     "data": {
      "application/vnd.jupyter.widget-view+json": {
       "model_id": "b2615dab3f1a4633b04cb1cd0b6af65b",
       "version_major": 2,
       "version_minor": 0
      },
      "text/plain": [
       "VBox(children=(Label(value='Waiting for wandb.init()...\\r'), FloatProgress(value=0.011113587684101528, max=1.0…"
      ]
     },
     "metadata": {},
     "output_type": "display_data"
    },
    {
     "data": {
      "text/html": [
       "Tracking run with wandb version 0.16.4"
      ],
      "text/plain": [
       "<IPython.core.display.HTML object>"
      ]
     },
     "metadata": {},
     "output_type": "display_data"
    },
    {
     "data": {
      "text/html": [
       "Run data is saved locally in <code>/home2/surya_ravindra/CV_A2/wandb/run-20240307_085814-vdxmmka7</code>"
      ],
      "text/plain": [
       "<IPython.core.display.HTML object>"
      ]
     },
     "metadata": {},
     "output_type": "display_data"
    },
    {
     "data": {
      "text/html": [
       "Syncing run <strong><a href='https://wandb.ai/sriharib128/CV_A1_Q2/runs/vdxmmka7' target=\"_blank\">1800_sz_run</a></strong> to <a href='https://wandb.ai/sriharib128/CV_A1_Q2' target=\"_blank\">Weights & Biases</a> (<a href='https://wandb.me/run' target=\"_blank\">docs</a>)<br/>"
      ],
      "text/plain": [
       "<IPython.core.display.HTML object>"
      ]
     },
     "metadata": {},
     "output_type": "display_data"
    },
    {
     "data": {
      "text/html": [
       " View project at <a href='https://wandb.ai/sriharib128/CV_A1_Q2' target=\"_blank\">https://wandb.ai/sriharib128/CV_A1_Q2</a>"
      ],
      "text/plain": [
       "<IPython.core.display.HTML object>"
      ]
     },
     "metadata": {},
     "output_type": "display_data"
    },
    {
     "data": {
      "text/html": [
       " View run at <a href='https://wandb.ai/sriharib128/CV_A1_Q2/runs/vdxmmka7' target=\"_blank\">https://wandb.ai/sriharib128/CV_A1_Q2/runs/vdxmmka7</a>"
      ],
      "text/plain": [
       "<IPython.core.display.HTML object>"
      ]
     },
     "metadata": {},
     "output_type": "display_data"
    },
    {
     "name": "stdout",
     "output_type": "stream",
     "text": [
      "{'learning_rate': 0.001, 'batch_size': 8, 'epoch': 5, 'optimizer': 'sgd'}\n",
      "Training set has 59400 instances\n",
      "Validation set has 10000 instances\n",
      "EPOCH 1:\n",
      "991th batch => 17.931882173418998\n",
      "1991th batch => 3.488474889723584\n",
      "2991th batch => 2.1237279360496903\n",
      "3991th batch => 1.7077965395327193\n",
      "4991th batch => 1.4056668718057335\n",
      "5991th batch => 1.0725005735235755\n",
      "6991th batch => 1.1057890340432641\n",
      "LOSS train 1.1057890340432641 valid 0.009885813512200548 ACC 0.9727\n",
      "EPOCH 2:\n",
      "991th batch => 0.8958692277227237\n",
      "1991th batch => 0.9376205147172731\n",
      "2991th batch => 0.7822756317045423\n",
      "3991th batch => 0.7619671013974585\n",
      "4991th batch => 0.7133534364160005\n",
      "5991th batch => 0.6701670838576683\n",
      "6991th batch => 0.6544091241045681\n",
      "LOSS train 0.6544091241045681 valid 0.008771998516387793 ACC 0.977\n",
      "EPOCH 3:\n",
      "991th batch => 0.6274574348742317\n",
      "1991th batch => 0.534560358030185\n",
      "2991th batch => 0.49623516275019935\n",
      "3991th batch => 0.6069044608745026\n",
      "4991th batch => 0.5250114362096064\n",
      "5991th batch => 0.597587725399535\n",
      "6991th batch => 0.5379004044332032\n",
      "LOSS train 0.5379004044332032 valid 0.006467882144675241 ACC 0.9833\n",
      "EPOCH 4:\n",
      "991th batch => 0.4250322092049464\n",
      "1991th batch => 0.4365839757176764\n",
      "2991th batch => 0.3586811444989507\n",
      "3991th batch => 0.43186102928875697\n",
      "4991th batch => 0.478002541834594\n",
      "5991th batch => 0.4300459610330472\n",
      "6991th batch => 0.45244232426284725\n",
      "LOSS train 0.45244232426284725 valid 0.005153264370631314 ACC 0.9873\n",
      "EPOCH 5:\n",
      "991th batch => 0.3212434899803702\n",
      "1991th batch => 0.35806565631885634\n",
      "2991th batch => 0.3522310828874652\n",
      "3991th batch => 0.3716299032391862\n",
      "4991th batch => 0.31964008302417823\n",
      "5991th batch => 0.31059016985836024\n",
      "6991th batch => 0.34477720094749204\n",
      "LOSS train 0.34477720094749204 valid 0.005332709738385301 ACC 0.9861\n"
     ]
    },
    {
     "name": "stderr",
     "output_type": "stream",
     "text": [
      "wandb: WARNING Source type is set to 'repo' but some required information is missing from the environment. A job will not be created from this run. See https://docs.wandb.ai/guides/launch/create-job\n"
     ]
    },
    {
     "data": {
      "application/vnd.jupyter.widget-view+json": {
       "model_id": "",
       "version_major": 2,
       "version_minor": 0
      },
      "text/plain": [
       "VBox(children=(Label(value='0.005 MB of 0.005 MB uploaded\\r'), FloatProgress(value=1.0, max=1.0)))"
      ]
     },
     "metadata": {},
     "output_type": "display_data"
    },
    {
     "data": {
      "text/html": [
       " View run <strong style=\"color:#cdcd00\">1800_sz_run</strong> at: <a href='https://wandb.ai/sriharib128/CV_A1_Q2/runs/vdxmmka7' target=\"_blank\">https://wandb.ai/sriharib128/CV_A1_Q2/runs/vdxmmka7</a><br/>Synced 6 W&B file(s), 0 media file(s), 0 artifact file(s) and 0 other file(s)"
      ],
      "text/plain": [
       "<IPython.core.display.HTML object>"
      ]
     },
     "metadata": {},
     "output_type": "display_data"
    },
    {
     "data": {
      "text/html": [
       "Find logs at: <code>./wandb/run-20240307_085814-vdxmmka7/logs</code>"
      ],
      "text/plain": [
       "<IPython.core.display.HTML object>"
      ]
     },
     "metadata": {},
     "output_type": "display_data"
    },
    {
     "data": {
      "application/vnd.jupyter.widget-view+json": {
       "model_id": "ac3a8ae600a342129caaa196eb6e0543",
       "version_major": 2,
       "version_minor": 0
      },
      "text/plain": [
       "VBox(children=(Label(value='Waiting for wandb.init()...\\r'), FloatProgress(value=0.011113436323487096, max=1.0…"
      ]
     },
     "metadata": {},
     "output_type": "display_data"
    },
    {
     "data": {
      "text/html": [
       "Tracking run with wandb version 0.16.4"
      ],
      "text/plain": [
       "<IPython.core.display.HTML object>"
      ]
     },
     "metadata": {},
     "output_type": "display_data"
    },
    {
     "data": {
      "text/html": [
       "Run data is saved locally in <code>/home2/surya_ravindra/CV_A2/wandb/run-20240307_090142-dm4mxnjj</code>"
      ],
      "text/plain": [
       "<IPython.core.display.HTML object>"
      ]
     },
     "metadata": {},
     "output_type": "display_data"
    },
    {
     "data": {
      "text/html": [
       "Syncing run <strong><a href='https://wandb.ai/sriharib128/CV_A1_Q2/runs/dm4mxnjj' target=\"_blank\">6000_sz_run</a></strong> to <a href='https://wandb.ai/sriharib128/CV_A1_Q2' target=\"_blank\">Weights & Biases</a> (<a href='https://wandb.me/run' target=\"_blank\">docs</a>)<br/>"
      ],
      "text/plain": [
       "<IPython.core.display.HTML object>"
      ]
     },
     "metadata": {},
     "output_type": "display_data"
    },
    {
     "data": {
      "text/html": [
       " View project at <a href='https://wandb.ai/sriharib128/CV_A1_Q2' target=\"_blank\">https://wandb.ai/sriharib128/CV_A1_Q2</a>"
      ],
      "text/plain": [
       "<IPython.core.display.HTML object>"
      ]
     },
     "metadata": {},
     "output_type": "display_data"
    },
    {
     "data": {
      "text/html": [
       " View run at <a href='https://wandb.ai/sriharib128/CV_A1_Q2/runs/dm4mxnjj' target=\"_blank\">https://wandb.ai/sriharib128/CV_A1_Q2/runs/dm4mxnjj</a>"
      ],
      "text/plain": [
       "<IPython.core.display.HTML object>"
      ]
     },
     "metadata": {},
     "output_type": "display_data"
    },
    {
     "name": "stdout",
     "output_type": "stream",
     "text": [
      "{'learning_rate': 0.001, 'batch_size': 8, 'epoch': 5, 'optimizer': 'sgd'}\n",
      "Training set has 58200 instances\n",
      "Validation set has 10000 instances\n",
      "EPOCH 1:\n",
      "991th batch => 18.77893069319427\n",
      "1991th batch => 3.5870828445395455\n",
      "2991th batch => 1.9477365525811912\n",
      "3991th batch => 1.5271843220689334\n",
      "4991th batch => 1.2028006419719894\n",
      "5991th batch => 1.0486058651804342\n",
      "LOSS train 1.0486058651804342 valid 0.010765049795598315 ACC 0.974\n",
      "EPOCH 2:\n",
      "991th batch => 0.8049659157040878\n",
      "1991th batch => 0.7744179477349826\n",
      "2991th batch => 0.721701927616814\n",
      "3991th batch => 0.7174861475732905\n",
      "4991th batch => 0.736957708865666\n",
      "5991th batch => 0.6663634901182377\n",
      "LOSS train 0.6663634901182377 valid 0.007648019589772411 ACC 0.9792\n",
      "EPOCH 3:\n",
      "991th batch => 0.52258401780844\n",
      "1991th batch => 0.5004806537099649\n",
      "2991th batch => 0.5026932452525944\n",
      "3991th batch => 0.5971520794451499\n",
      "4991th batch => 0.5540874966838237\n",
      "5991th batch => 0.4545160540309553\n",
      "LOSS train 0.4545160540309553 valid 0.006731712759686025 ACC 0.9826\n",
      "EPOCH 4:\n",
      "991th batch => 0.3987099553848384\n",
      "1991th batch => 0.3835619306708759\n",
      "2991th batch => 0.47794142742503026\n",
      "3991th batch => 0.38595077843113357\n",
      "4991th batch => 0.4169116842692165\n",
      "5991th batch => 0.3872994927216132\n",
      "LOSS train 0.3872994927216132 valid 0.005110949600485355 ACC 0.9865\n",
      "EPOCH 5:\n",
      "991th batch => 0.3832567575999565\n",
      "1991th batch => 0.37689743907752926\n",
      "2991th batch => 0.3272245496449523\n",
      "3991th batch => 0.31701687462651534\n",
      "4991th batch => 0.3194247592084548\n",
      "5991th batch => 0.3159672844293345\n",
      "LOSS train 0.3159672844293345 valid 0.004781627529738216 ACC 0.9865\n"
     ]
    },
    {
     "data": {
      "application/vnd.jupyter.widget-view+json": {
       "model_id": "",
       "version_major": 2,
       "version_minor": 0
      },
      "text/plain": [
       "VBox(children=(Label(value='0.005 MB of 0.005 MB uploaded\\r'), FloatProgress(value=1.0, max=1.0)))"
      ]
     },
     "metadata": {},
     "output_type": "display_data"
    },
    {
     "name": "stderr",
     "output_type": "stream",
     "text": [
      "wandb: WARNING Source type is set to 'repo' but some required information is missing from the environment. A job will not be created from this run. See https://docs.wandb.ai/guides/launch/create-job\n"
     ]
    },
    {
     "data": {
      "text/html": [
       " View run <strong style=\"color:#cdcd00\">6000_sz_run</strong> at: <a href='https://wandb.ai/sriharib128/CV_A1_Q2/runs/dm4mxnjj' target=\"_blank\">https://wandb.ai/sriharib128/CV_A1_Q2/runs/dm4mxnjj</a><br/>Synced 6 W&B file(s), 0 media file(s), 0 artifact file(s) and 0 other file(s)"
      ],
      "text/plain": [
       "<IPython.core.display.HTML object>"
      ]
     },
     "metadata": {},
     "output_type": "display_data"
    },
    {
     "data": {
      "text/html": [
       "Find logs at: <code>./wandb/run-20240307_090142-dm4mxnjj/logs</code>"
      ],
      "text/plain": [
       "<IPython.core.display.HTML object>"
      ]
     },
     "metadata": {},
     "output_type": "display_data"
    },
    {
     "data": {
      "application/vnd.jupyter.widget-view+json": {
       "model_id": "5336b94e26c34add85007823427f1ef8",
       "version_major": 2,
       "version_minor": 0
      },
      "text/plain": [
       "VBox(children=(Label(value='Waiting for wandb.init()...\\r'), FloatProgress(value=0.011113457930170828, max=1.0…"
      ]
     },
     "metadata": {},
     "output_type": "display_data"
    },
    {
     "data": {
      "text/html": [
       "Tracking run with wandb version 0.16.4"
      ],
      "text/plain": [
       "<IPython.core.display.HTML object>"
      ]
     },
     "metadata": {},
     "output_type": "display_data"
    },
    {
     "data": {
      "text/html": [
       "Run data is saved locally in <code>/home2/surya_ravindra/CV_A2/wandb/run-20240307_090459-bqmblqje</code>"
      ],
      "text/plain": [
       "<IPython.core.display.HTML object>"
      ]
     },
     "metadata": {},
     "output_type": "display_data"
    },
    {
     "data": {
      "text/html": [
       "Syncing run <strong><a href='https://wandb.ai/sriharib128/CV_A1_Q2/runs/bqmblqje' target=\"_blank\">18000_sz_run</a></strong> to <a href='https://wandb.ai/sriharib128/CV_A1_Q2' target=\"_blank\">Weights & Biases</a> (<a href='https://wandb.me/run' target=\"_blank\">docs</a>)<br/>"
      ],
      "text/plain": [
       "<IPython.core.display.HTML object>"
      ]
     },
     "metadata": {},
     "output_type": "display_data"
    },
    {
     "data": {
      "text/html": [
       " View project at <a href='https://wandb.ai/sriharib128/CV_A1_Q2' target=\"_blank\">https://wandb.ai/sriharib128/CV_A1_Q2</a>"
      ],
      "text/plain": [
       "<IPython.core.display.HTML object>"
      ]
     },
     "metadata": {},
     "output_type": "display_data"
    },
    {
     "data": {
      "text/html": [
       " View run at <a href='https://wandb.ai/sriharib128/CV_A1_Q2/runs/bqmblqje' target=\"_blank\">https://wandb.ai/sriharib128/CV_A1_Q2/runs/bqmblqje</a>"
      ],
      "text/plain": [
       "<IPython.core.display.HTML object>"
      ]
     },
     "metadata": {},
     "output_type": "display_data"
    },
    {
     "name": "stdout",
     "output_type": "stream",
     "text": [
      "{'learning_rate': 0.001, 'batch_size': 8, 'epoch': 5, 'optimizer': 'sgd'}\n",
      "Training set has 54000 instances\n",
      "Validation set has 10000 instances\n",
      "EPOCH 1:\n",
      "991th batch => 18.064601043313743\n",
      "1991th batch => 4.036260690200143\n",
      "2991th batch => 2.1042611017404123\n",
      "3991th batch => 1.5491846019320656\n",
      "4991th batch => 1.3320207431871678\n",
      "LOSS train 1.3320207431871678 valid 0.01119130895459166 ACC 0.9718\n",
      "EPOCH 2:\n",
      "991th batch => 0.9970751686237054\n",
      "1991th batch => 1.018966915748897\n",
      "2991th batch => 0.9639669638319174\n",
      "3991th batch => 0.8161329163158371\n",
      "4991th batch => 0.7015853467107082\n",
      "LOSS train 0.7015853467107082 valid 0.007951130247549737 ACC 0.9806\n",
      "EPOCH 3:\n",
      "991th batch => 0.6112134303327912\n",
      "1991th batch => 0.6799282913257048\n",
      "2991th batch => 0.6763220237097994\n",
      "3991th batch => 0.5794903275343313\n",
      "4991th batch => 0.5782596125367491\n",
      "LOSS train 0.5782596125367491 valid 0.0071260883230621404 ACC 0.9819\n",
      "EPOCH 4:\n",
      "991th batch => 0.4808832222081946\n",
      "1991th batch => 0.45750581416385105\n",
      "2991th batch => 0.5315824604152113\n",
      "3991th batch => 0.4609763463095078\n",
      "4991th batch => 0.4764575595407587\n",
      "LOSS train 0.4764575595407587 valid 0.006651456496484025 ACC 0.9834\n",
      "EPOCH 5:\n",
      "991th batch => 0.375354092804464\n",
      "1991th batch => 0.4253832796561801\n",
      "2991th batch => 0.4264057061672065\n",
      "3991th batch => 0.33411879330562444\n",
      "4991th batch => 0.4036794778901094\n",
      "LOSS train 0.4036794778901094 valid 0.0054543638177022334 ACC 0.9866\n"
     ]
    },
    {
     "name": "stderr",
     "output_type": "stream",
     "text": [
      "wandb: WARNING Source type is set to 'repo' but some required information is missing from the environment. A job will not be created from this run. See https://docs.wandb.ai/guides/launch/create-job\n"
     ]
    },
    {
     "data": {
      "application/vnd.jupyter.widget-view+json": {
       "model_id": "",
       "version_major": 2,
       "version_minor": 0
      },
      "text/plain": [
       "VBox(children=(Label(value='0.005 MB of 0.005 MB uploaded\\r'), FloatProgress(value=1.0, max=1.0)))"
      ]
     },
     "metadata": {},
     "output_type": "display_data"
    },
    {
     "data": {
      "text/html": [
       " View run <strong style=\"color:#cdcd00\">18000_sz_run</strong> at: <a href='https://wandb.ai/sriharib128/CV_A1_Q2/runs/bqmblqje' target=\"_blank\">https://wandb.ai/sriharib128/CV_A1_Q2/runs/bqmblqje</a><br/>Synced 6 W&B file(s), 0 media file(s), 0 artifact file(s) and 0 other file(s)"
      ],
      "text/plain": [
       "<IPython.core.display.HTML object>"
      ]
     },
     "metadata": {},
     "output_type": "display_data"
    },
    {
     "data": {
      "text/html": [
       "Find logs at: <code>./wandb/run-20240307_090459-bqmblqje/logs</code>"
      ],
      "text/plain": [
       "<IPython.core.display.HTML object>"
      ]
     },
     "metadata": {},
     "output_type": "display_data"
    },
    {
     "data": {
      "application/vnd.jupyter.widget-view+json": {
       "model_id": "3407cffc1d0340a2aea7c0fd5751b3fc",
       "version_major": 2,
       "version_minor": 0
      },
      "text/plain": [
       "VBox(children=(Label(value='Waiting for wandb.init()...\\r'), FloatProgress(value=0.011112941439367002, max=1.0…"
      ]
     },
     "metadata": {},
     "output_type": "display_data"
    },
    {
     "data": {
      "text/html": [
       "Tracking run with wandb version 0.16.4"
      ],
      "text/plain": [
       "<IPython.core.display.HTML object>"
      ]
     },
     "metadata": {},
     "output_type": "display_data"
    },
    {
     "data": {
      "text/html": [
       "Run data is saved locally in <code>/home2/surya_ravindra/CV_A2/wandb/run-20240307_090737-kihpcqlg</code>"
      ],
      "text/plain": [
       "<IPython.core.display.HTML object>"
      ]
     },
     "metadata": {},
     "output_type": "display_data"
    },
    {
     "data": {
      "text/html": [
       "Syncing run <strong><a href='https://wandb.ai/sriharib128/CV_A1_Q2/runs/kihpcqlg' target=\"_blank\">60000_sz_run</a></strong> to <a href='https://wandb.ai/sriharib128/CV_A1_Q2' target=\"_blank\">Weights & Biases</a> (<a href='https://wandb.me/run' target=\"_blank\">docs</a>)<br/>"
      ],
      "text/plain": [
       "<IPython.core.display.HTML object>"
      ]
     },
     "metadata": {},
     "output_type": "display_data"
    },
    {
     "data": {
      "text/html": [
       " View project at <a href='https://wandb.ai/sriharib128/CV_A1_Q2' target=\"_blank\">https://wandb.ai/sriharib128/CV_A1_Q2</a>"
      ],
      "text/plain": [
       "<IPython.core.display.HTML object>"
      ]
     },
     "metadata": {},
     "output_type": "display_data"
    },
    {
     "data": {
      "text/html": [
       " View run at <a href='https://wandb.ai/sriharib128/CV_A1_Q2/runs/kihpcqlg' target=\"_blank\">https://wandb.ai/sriharib128/CV_A1_Q2/runs/kihpcqlg</a>"
      ],
      "text/plain": [
       "<IPython.core.display.HTML object>"
      ]
     },
     "metadata": {},
     "output_type": "display_data"
    },
    {
     "name": "stdout",
     "output_type": "stream",
     "text": [
      "{'learning_rate': 0.001, 'batch_size': 8, 'epoch': 5, 'optimizer': 'sgd'}\n",
      "Training set has 42000 instances\n",
      "Validation set has 10000 instances\n",
      "EPOCH 1:\n",
      "991th batch => 21.61618161678314\n",
      "1991th batch => 4.918200996457599\n",
      "2991th batch => 2.027779280936811\n",
      "3991th batch => 1.5133260567381512\n",
      "4991th batch => 1.3129504362941953\n",
      "5991th batch => 1.1606016338180052\n",
      "6991th batch => 0.9585320368545944\n",
      "LOSS train 0.9585320368545944 valid 0.008910342039550597 ACC 0.9769\n",
      "EPOCH 2:\n",
      "991th batch => 0.8490426356942044\n",
      "1991th batch => 0.8951822807853751\n",
      "2991th batch => 0.785539933492837\n",
      "3991th batch => 0.7297704057794181\n",
      "4991th batch => 0.6696263434620778\n",
      "5991th batch => 0.6935060774383601\n",
      "6991th batch => 0.687125275011349\n",
      "LOSS train 0.687125275011349 valid 0.0062690844333683346 ACC 0.984\n",
      "EPOCH 3:\n",
      "991th batch => 0.5875784376903175\n",
      "1991th batch => 0.5283521004384238\n",
      "2991th batch => 0.5324774059837364\n",
      "3991th batch => 0.5468409317837722\n",
      "4991th batch => 0.5176831428250444\n",
      "5991th batch => 0.4901857120474233\n",
      "6991th batch => 0.5627912651983206\n",
      "LOSS train 0.5627912651983206 valid 0.00689693299337223 ACC 0.9814\n",
      "EPOCH 4:\n",
      "991th batch => 0.48173286543667926\n",
      "1991th batch => 0.39497950753586336\n",
      "2991th batch => 0.4432919878969915\n",
      "3991th batch => 0.4632764682350171\n",
      "4991th batch => 0.36877058083493464\n",
      "5991th batch => 0.3936006647974682\n",
      "6991th batch => 0.3845055682049315\n",
      "LOSS train 0.3845055682049315 valid 0.004713829334939055 ACC 0.9881\n",
      "EPOCH 5:\n",
      "991th batch => 0.32863239787284326\n",
      "1991th batch => 0.32124986999596333\n",
      "2991th batch => 0.3508051551049175\n",
      "3991th batch => 0.3677727493875136\n",
      "4991th batch => 0.35348610287342125\n",
      "5991th batch => 0.3788791382458112\n",
      "6991th batch => 0.35188070288958445\n",
      "LOSS train 0.35188070288958445 valid 0.003929588753733378 ACC 0.9893\n"
     ]
    },
    {
     "name": "stderr",
     "output_type": "stream",
     "text": [
      "wandb: WARNING Source type is set to 'repo' but some required information is missing from the environment. A job will not be created from this run. See https://docs.wandb.ai/guides/launch/create-job\n"
     ]
    },
    {
     "data": {
      "application/vnd.jupyter.widget-view+json": {
       "model_id": "",
       "version_major": 2,
       "version_minor": 0
      },
      "text/plain": [
       "VBox(children=(Label(value='0.005 MB of 0.005 MB uploaded\\r'), FloatProgress(value=1.0, max=1.0)))"
      ]
     },
     "metadata": {},
     "output_type": "display_data"
    },
    {
     "data": {
      "text/html": [
       " View run <strong style=\"color:#cdcd00\">60000_sz_run</strong> at: <a href='https://wandb.ai/sriharib128/CV_A1_Q2/runs/kihpcqlg' target=\"_blank\">https://wandb.ai/sriharib128/CV_A1_Q2/runs/kihpcqlg</a><br/>Synced 6 W&B file(s), 0 media file(s), 0 artifact file(s) and 0 other file(s)"
      ],
      "text/plain": [
       "<IPython.core.display.HTML object>"
      ]
     },
     "metadata": {},
     "output_type": "display_data"
    },
    {
     "data": {
      "text/html": [
       "Find logs at: <code>./wandb/run-20240307_090737-kihpcqlg/logs</code>"
      ],
      "text/plain": [
       "<IPython.core.display.HTML object>"
      ]
     },
     "metadata": {},
     "output_type": "display_data"
    }
   ],
   "source": [
    "training_szs = [600,1800,6000,18000,60000]\n",
    "accuracies_sz =[]\n",
    "for num_training_samples in training_szs:\n",
    "    # {'batch_size': 8, 'epochs': 5, 'learning_rate': 0.001, 'optimizer': 'sgd'} 0.989\n",
    "    run = wandb.init(project=\"CV_A1_Q2\",name = f\"{num_training_samples}_sz_run\")\n",
    "    wandb.config.learning_rate = 0.001\n",
    "    wandb.config.batch_size = 8\n",
    "    wandb.config.epoch = 5\n",
    "    wandb.config.optimizer = \"sgd\"\n",
    "    pprint(wandb.config)\n",
    "    \n",
    "    model = LeNet()\n",
    "    model.to(device)\n",
    "    loss_fn = torch.nn.CrossEntropyLoss()\n",
    "    optimizer = build_optimizer(model, wandb.config.optimizer, wandb.config.learning_rate)\n",
    "    training_loader, validation_loader = data_get_load_num_samp(wandb.config.batch_size, num_training_samples)\n",
    "    \n",
    "    # Training loop\n",
    "    for epoch_number in range(wandb.config.epoch):  # Number of epochs\n",
    "        correct = 0\n",
    "        total = 0\n",
    "        print('EPOCH {}:'.format(epoch_number + 1))\n",
    "        avg_loss = train_one_epoch(model,training_loader,loss_fn,optimizer,device,epoch_number,None,None,write=False)\n",
    "        avg_vloss,v_acc = test_one_epoch(model,validation_loader,loss_fn,device,None)\n",
    "        accuracies_sz.append(v_acc)\n",
    "        # wandb.log({\"train_loss\":avg_loss,\"vloss\":avg_vloss,\"accuracy\":v_acc})\n",
    "        \n",
    "        print('LOSS train {} valid {} ACC {}'.format(avg_loss, avg_vloss,v_acc))\n",
    "    \n",
    "        # if avg_vloss < best_vloss:\n",
    "        #     best_vloss = avg_vloss\n",
    "        #     model_path = './models/model_{}_{}'.format(timestamp, epoch_number)\n",
    "        #     torch.save(model.state_dict(), model_path)\n",
    "        #     print(f\"saved model to {model_path}\")\n",
    "    \n",
    "    # exort to ONNX and save in Netron for Vizualization\n",
    "    wandb.save(f\"model_sz_{num_training_samples}.pth\")\n",
    "    \n",
    "    # Finish the run\n",
    "    run.finish()"
   ]
  },
  {
   "cell_type": "code",
   "execution_count": 22,
   "id": "d2382e2a-e344-4a37-9a3f-9e55321c2e2f",
   "metadata": {},
   "outputs": [
    {
     "name": "stdout",
     "output_type": "stream",
     "text": [
      "[0.9734, 0.9779, 0.9857, 0.9868, 0.9878, 0.9727, 0.977, 0.9833, 0.9873, 0.9861, 0.974, 0.9792, 0.9826, 0.9865, 0.9865, 0.9718, 0.9806, 0.9819, 0.9834, 0.9866, 0.9769, 0.984, 0.9814, 0.9881, 0.9893]\n"
     ]
    }
   ],
   "source": [
    "print(accuracies_sz)\n",
    "with open(\"accuracies_sz.pkl\",\"wb\") as f:\n",
    "    pickle.dump(accuracies_sz,f)"
   ]
  },
  {
   "cell_type": "code",
   "execution_count": 15,
   "id": "476d40cd-af6f-4d05-ad8d-c8d1391333f4",
   "metadata": {},
   "outputs": [],
   "source": [
    "training_szs = [600,1800,6000,18000,60000]\n",
    "with open(\"accuracies_sz.pkl\",\"rb\") as f:\n",
    "    accuracies_sz = pickle.load(f)"
   ]
  },
  {
   "cell_type": "code",
   "execution_count": 21,
   "id": "e821caec-ab2e-4fd6-97c3-c8a1bec80524",
   "metadata": {},
   "outputs": [
    {
     "name": "stdout",
     "output_type": "stream",
     "text": [
      "[0.9734, 0.9779, 0.9857, 0.9868, 0.9878, 0.9727, 0.977, 0.9833, 0.9873, 0.9861, 0.974, 0.9792, 0.9826, 0.9865, 0.9865, 0.9718, 0.9806, 0.9819, 0.9834, 0.9866, 0.9769, 0.984, 0.9814, 0.9881, 0.9893]\n"
     ]
    }
   ],
   "source": [
    "print(accuracies_sz)"
   ]
  },
  {
   "cell_type": "code",
   "execution_count": 25,
   "id": "45b34a07-3b2b-4bca-b00c-99c0d3a5e47d",
   "metadata": {},
   "outputs": [],
   "source": [
    "acc_sz = accuracies_sz[4::5]"
   ]
  },
  {
   "cell_type": "code",
   "execution_count": 29,
   "id": "df16e5ba-078f-41c5-adb1-f428578aef6e",
   "metadata": {},
   "outputs": [
    {
     "data": {
      "image/png": "[encoded data removed]",
      "text/plain": [
       "<Figure size 640x480 with 1 Axes>"
      ]
     },
     "metadata": {},
     "output_type": "display_data"
    }
   ],
   "source": [
    "plt.plot(training_szs,acc_sz);"
   ]
  },
  {
   "cell_type": "code",
   "execution_count": null,
   "id": "3829f85a-023e-42bb-8d1a-d2010e10bdfc",
   "metadata": {},
   "outputs": [],
   "source": []
  }
 ],
 "metadata": {
  "kernelspec": {
   "display_name": "Python 3 (ipykernel)",
   "language": "python",
   "name": "python3"
  },
  "language_info": {
   "codemirror_mode": {
    "name": "ipython",
    "version": 3
   },
   "file_extension": ".py",
   "mimetype": "text/x-python",
   "name": "python",
   "nbconvert_exporter": "python",
   "pygments_lexer": "ipython3",
   "version": "3.8.18"
  }
 },
 "nbformat": 4,
 "nbformat_minor": 5
}
