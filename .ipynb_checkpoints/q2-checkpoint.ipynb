{
 "cells": [
  {
   "cell_type": "markdown",
   "id": "e384797e-5ee5-4b5a-8046-8b5989ef5614",
   "metadata": {},
   "source": [
    "# Q2 CNNs and Transformers [6 points]"
   ]
  },
  {
   "cell_type": "code",
   "execution_count": 1,
   "id": "5b2cb97a-4691-4cef-95f6-488a09921997",
   "metadata": {},
   "outputs": [],
   "source": [
    "# import cv2\n",
    "import numpy as np\n",
    "import matplotlib.pyplot as plt\n",
    "import pickle\n",
    "import os\n",
    "# import multiprocessing\n",
    "\n",
    "from sklearn.metrics import accuracy_score\n",
    "\n",
    "import torch\n",
    "import torchvision\n",
    "\n",
    "# PyTorch TensorBoard support\n",
    "# from torch.utils.tensorboard import SummaryWriter\n",
    "from datetime import datetime"
   ]
  },
  {
   "cell_type": "code",
   "execution_count": null,
   "id": "3ff1c3d9-2a43-4bed-8e2f-267a7aa1fb04",
   "metadata": {},
   "outputs": [],
   "source": []
  },
  {
   "cell_type": "code",
   "execution_count": 2,
   "id": "c8d05a0e-bac7-440b-9669-fbbd99bc51ef",
   "metadata": {},
   "outputs": [
    {
     "data": {
      "text/plain": [
       "('cuda', '1.13.1', 1)"
      ]
     },
     "execution_count": 2,
     "metadata": {},
     "output_type": "execute_result"
    }
   ],
   "source": [
    "device = \"cuda\" if torch.cuda.is_available() else \"cpu\"\n",
    "device,torch.__version__,torch.cuda.device_count()"
   ]
  },
  {
   "cell_type": "code",
   "execution_count": 3,
   "id": "501ce963-e54a-40a9-8285-3994b2a41dfe",
   "metadata": {},
   "outputs": [],
   "source": [
    "# GPU operations have a separate seed we also want to set\n",
    "if torch.cuda.is_available():\n",
    "    torch.cuda.manual_seed(42)\n",
    "    torch.cuda.manual_seed_all(42)\n",
    "\n",
    "# Additionally, some operations on a GPU are implemented stochastic for efficiency\n",
    "# We want to ensure that all operations are deterministic on GPU (if used) for reproducibility\n",
    "torch.backends.cudnn.deterministic = True\n",
    "torch.backends.cudnn.benchmark = False"
   ]
  },
  {
   "cell_type": "code",
   "execution_count": 4,
   "id": "29ac7902-dfc7-4d8e-9b1a-d6f792c4e43a",
   "metadata": {},
   "outputs": [],
   "source": [
    "# !nvidia-smi"
   ]
  },
  {
   "cell_type": "markdown",
   "id": "acccd668-db0f-4f26-93dd-1915988b75df",
   "metadata": {},
   "source": [
    "## CNN"
   ]
  },
  {
   "cell_type": "markdown",
   "id": "f7d02883-dabe-4deb-af92-ab216acf1297",
   "metadata": {},
   "source": [
    "### Dataset and Dataloader"
   ]
  },
  {
   "cell_type": "code",
   "execution_count": 5,
   "id": "6f09aa70-013a-4309-b436-9845c627c356",
   "metadata": {},
   "outputs": [],
   "source": [
    "import torchvision.transforms as transforms\n",
    "from torchvision import datasets\n",
    "\n",
    "def data_get_load(batch_size=64):\n",
    "    transform = transforms.Compose(\n",
    "        [transforms.ToTensor(),\n",
    "        transforms.Normalize((0.5,), (0.5,))])\n",
    "    \n",
    "    # Create datasets for training & validation, download if necessary\n",
    "    training_set = datasets.MNIST('./data', train=True, transform=transform, download=True)\n",
    "    validation_set = datasets.MNIST('./data', train=False, transform=transform, download=True)\n",
    "    \n",
    "    # Create data loaders for our datasets; shuffle for training, not for validation\n",
    "    training_loader = torch.utils.data.DataLoader(training_set, batch_size=batch_size, shuffle=True)\n",
    "    validation_loader = torch.utils.data.DataLoader(validation_set, batch_size=batch_size, shuffle=False)\n",
    "    \n",
    "    # Report split sizes\n",
    "    print('Training set has {} instances'.format(len(training_set)))\n",
    "    print('Validation set has {} instances'.format(len(validation_set)))\n",
    "\n",
    "    return training_loader,validation_loader"
   ]
  },
  {
   "cell_type": "code",
   "execution_count": 6,
   "id": "249586ab-eddb-4b82-9b4d-cbb0c01fdecb",
   "metadata": {},
   "outputs": [
    {
     "name": "stdout",
     "output_type": "stream",
     "text": [
      "Training set has 60000 instances\n",
      "Validation set has 10000 instances\n",
      "7  7  7  8  0  9  1  9\n"
     ]
    },
    {
     "data": {
      "image/png": "[encoded data removed]",
      "text/plain": [
       "<Figure size 640x480 with 1 Axes>"
      ]
     },
     "metadata": {},
     "output_type": "display_data"
    }
   ],
   "source": [
    "import matplotlib.pyplot as plt\n",
    "import numpy as np\n",
    "\n",
    "# Helper function for inline image display\n",
    "def matplotlib_imshow(img, one_channel=False):\n",
    "    if one_channel:\n",
    "        img = img.mean(dim=0)\n",
    "    img = img / 2 + 0.5     # unnormalize\n",
    "    npimg = img.numpy()\n",
    "    if one_channel:\n",
    "        plt.imshow(npimg, cmap=\"Greys\")\n",
    "    else:\n",
    "        plt.imshow(np.transpose(npimg, (1, 2, 0)))\n",
    "\n",
    "training_loader,validation_loader = data_get_load(8)\n",
    "\n",
    "dataiter = iter(training_loader)\n",
    "images, labels = next(dataiter)\n",
    "\n",
    "# Create a grid from the images and show them\n",
    "img_grid = torchvision.utils.make_grid(images)\n",
    "matplotlib_imshow(img_grid, one_channel=True)\n",
    "print('  '.join(str(labels[j].numpy()) for j in range(8)))"
   ]
  },
  {
   "cell_type": "code",
   "execution_count": null,
   "id": "8fd631d0-62aa-47a2-8cd2-0d24ca9d25a2",
   "metadata": {},
   "outputs": [],
   "source": []
  },
  {
   "cell_type": "markdown",
   "id": "9ff4c509-7280-4f46-b85f-6eeb3447a13d",
   "metadata": {},
   "source": [
    "### Model"
   ]
  },
  {
   "cell_type": "code",
   "execution_count": 7,
   "id": "e82946a1-d836-4eaf-a60b-1f44197f75fe",
   "metadata": {},
   "outputs": [
    {
     "data": {
      "text/plain": [
       "LeNet(\n",
       "  (conv1): Conv2d(1, 6, kernel_size=(5, 5), stride=(1, 1))\n",
       "  (pool): MaxPool2d(kernel_size=2, stride=2, padding=0, dilation=1, ceil_mode=False)\n",
       "  (conv2): Conv2d(6, 16, kernel_size=(5, 5), stride=(1, 1))\n",
       "  (fc1): Linear(in_features=256, out_features=120, bias=True)\n",
       "  (fc2): Linear(in_features=120, out_features=84, bias=True)\n",
       "  (fc3): Linear(in_features=84, out_features=10, bias=True)\n",
       ")"
      ]
     },
     "execution_count": 7,
     "metadata": {},
     "output_type": "execute_result"
    }
   ],
   "source": [
    "import torch.nn as nn\n",
    "import torch.nn.functional as F\n",
    "\n",
    "# PyTorch models inherit from torch.nn.Module\n",
    "class LeNet(nn.Module):\n",
    "    def __init__(self):\n",
    "        super(LeNet, self).__init__()\n",
    "        self.conv1 = nn.Conv2d(1, 6, 5)\n",
    "        self.pool = nn.MaxPool2d(2, 2)\n",
    "        self.conv2 = nn.Conv2d(6, 16, 5)\n",
    "        self.fc1 = nn.Linear(16 * 4 * 4, 120)\n",
    "        self.fc2 = nn.Linear(120, 84)\n",
    "        self.fc3 = nn.Linear(84, 10)\n",
    "\n",
    "    def forward(self, x):\n",
    "        x = self.pool(F.relu(self.conv1(x)))\n",
    "        x = self.pool(F.relu(self.conv2(x)))\n",
    "        x = x.view(-1, 16 * 4 * 4)\n",
    "        x = F.relu(self.fc1(x))\n",
    "        x = F.relu(self.fc2(x))\n",
    "        x = self.fc3(x)\n",
    "        return x\n",
    "\n",
    "model = LeNet()\n",
    "model.to(device)"
   ]
  },
  {
   "cell_type": "code",
   "execution_count": 8,
   "id": "2eefac2e-0f44-4a98-9015-dbe78b8ab9a2",
   "metadata": {},
   "outputs": [],
   "source": [
    "loss_fn = torch.nn.CrossEntropyLoss()"
   ]
  },
  {
   "cell_type": "code",
   "execution_count": 9,
   "id": "ff719b28-9097-4abf-9679-72962d42598b",
   "metadata": {},
   "outputs": [],
   "source": [
    "optimizer = torch.optim.Adam(model.parameters())"
   ]
  },
  {
   "cell_type": "markdown",
   "id": "8ff4df74-f3d2-48f6-9ab4-dcc003fd15fc",
   "metadata": {},
   "source": [
    "### Trainer"
   ]
  },
  {
   "cell_type": "code",
   "execution_count": 35,
   "id": "c780668f-daac-4ade-8c0c-74afa3563c18",
   "metadata": {},
   "outputs": [],
   "source": [
    "# train One epoch\n",
    "\n",
    "def train_one_epoch(model,train_loader,loss_fn,optimizer,device,epoch_index,tb_writer,wandb=None,write = True):\n",
    "\n",
    "    # Make sure gradient tracking is on, and do a pass over the data\n",
    "    model.train(True)\n",
    "    running_loss =0\n",
    "    last_loss = 0\n",
    "    losses=[]\n",
    "    for i,data in enumerate(training_loader):\n",
    "        inputs,labels = data\n",
    "        inputs,labels = inputs.to(device), labels.to(device)\n",
    "        optimizer.zero_grad()        \n",
    "        outputs=model(inputs)\n",
    "        loss = loss_fn(outputs,labels)\n",
    "        loss.backward()\n",
    "        optimizer.step()\n",
    "        if wandb != None:\n",
    "            wandb.log({\"train_loss\": loss.item()})\n",
    "        running_loss +=loss.item()\n",
    "        losses.append(loss.item())\n",
    "        if i%1000 == 990:\n",
    "            last_loss = running_loss/100\n",
    "            print(f\"{i+1}th batch => {last_loss}\")\n",
    "            if(write):\n",
    "                tb_x = epoch_index * len(training_loader)\n",
    "                tb_writer.add_scalar('Loss/train', last_loss, tb_x)\n",
    "            running_loss = 0.\n",
    "    if last_loss==0:\n",
    "        return np.mean(np.array(losses))\n",
    "    return last_loss"
   ]
  },
  {
   "cell_type": "code",
   "execution_count": 11,
   "id": "0d84144d-e92b-43b1-8256-b1f146edf00d",
   "metadata": {},
   "outputs": [],
   "source": [
    "# test one epoch\n",
    "def test_one_epoch(model,test_loader,loss_fn,device,wandb=None):\n",
    "\n",
    "    # Set the model to evaluation mode, disabling dropout and using population\n",
    "    # statistics for batch normalization.\n",
    "    model.eval()\n",
    "    running_loss =0\n",
    "    last_loss = 0\n",
    "    correct = 0\n",
    "    with torch.no_grad():\n",
    "        for i,data in enumerate(test_loader):\n",
    "            inputs,labels = data\n",
    "            inputs,labels = inputs.to(device), labels.to(device)\n",
    "\n",
    "            outputs=model(inputs)\n",
    "            \n",
    "            loss = loss_fn(outputs,labels)\n",
    "            running_loss +=loss.item()\n",
    "            _,preds = torch.max(outputs,1)\n",
    "            correct += (preds == labels).sum().item()\n",
    "            # if wandb!=None:\n",
    "                \n",
    "                # Accuracy(preds, labels)\n",
    "                # # precision(preds, labels)\n",
    "                # # recall(preds, labels)\n",
    "                # # f1(preds, labels)\n",
    "                # # wandb.log({\"accuracy\": accuracy.compute(), \"precision\": precision.compute(), \"recall\": recall.compute(), \"f1\": f1.compute()})\n",
    "                # wandb.log({\"vloss\":loss.item(),\"accuracy\": ((preds == labels).sum())/len(labels).compute()})\n",
    "    \n",
    "                # # Reset metrics\n",
    "                # Accuracy.reset()\n",
    "                # # precision.reset()\n",
    "                # # recall.reset()\n",
    "                # # f1.reset()\n",
    "    accuracy = correct/len(test_loader.dataset)\n",
    "    return running_loss/len(test_loader.dataset) , accuracy    "
   ]
  },
  {
   "cell_type": "code",
   "execution_count": 12,
   "id": "5de2445f-7bd0-40e1-8065-0223e76fbef7",
   "metadata": {},
   "outputs": [],
   "source": [
    "# # Initializing in a separate cell so we can easily add more epochs to the same run\n",
    "# timestamp = datetime.now().strftime('%Y%m%d_%H%M%S')\n",
    "# writer = SummaryWriter('runs/mnist_trainer_{}'.format(timestamp))\n",
    "# epoch_number = 0\n",
    "\n",
    "# EPOCHS = 2\n",
    "\n",
    "# best_vloss = 1_000_000.\n",
    "\n",
    "# for epoch in range(EPOCHS):\n",
    "    \n",
    "#     print('EPOCH {}:'.format(epoch_number + 1))\n",
    "    \n",
    "#     avg_loss = train_one_epoch(model,training_loader,loss_fn,optimizer,device,epoch_number, writer)\n",
    "#     avg_vloss,v_acc = test_one_epoch(model,validation_loader,loss_fn,device)\n",
    "    \n",
    "#     print('LOSS train {} valid {}'.format(avg_loss, avg_vloss))\n",
    "\n",
    "#     # Log the running loss averaged per batch\n",
    "#     # for both training and validation\n",
    "#     writer.add_scalars('Training vs. Validation Loss',\n",
    "#                     { 'Training' : avg_loss, 'Validation' : avg_vloss },\n",
    "#                     epoch_number + 1)\n",
    "#     writer.flush()\n",
    "\n",
    "#     # Track best performance, and save the model's state\n",
    "#     if avg_vloss < best_vloss:\n",
    "#         best_vloss = avg_vloss\n",
    "#         model_path = './models/model_{}_{}'.format(timestamp, epoch_number)\n",
    "#         torch.save(model.state_dict(), model_path)\n",
    "\n",
    "#     epoch_number += 1"
   ]
  },
  {
   "cell_type": "code",
   "execution_count": 13,
   "id": "bc07d593-9712-4552-8602-cd837151ecb0",
   "metadata": {},
   "outputs": [
    {
     "data": {
      "text/plain": [
       "LeNet(\n",
       "  (conv1): Conv2d(1, 6, kernel_size=(5, 5), stride=(1, 1))\n",
       "  (pool): MaxPool2d(kernel_size=2, stride=2, padding=0, dilation=1, ceil_mode=False)\n",
       "  (conv2): Conv2d(6, 16, kernel_size=(5, 5), stride=(1, 1))\n",
       "  (fc1): Linear(in_features=256, out_features=120, bias=True)\n",
       "  (fc2): Linear(in_features=120, out_features=84, bias=True)\n",
       "  (fc3): Linear(in_features=84, out_features=10, bias=True)\n",
       ")"
      ]
     },
     "execution_count": 13,
     "metadata": {},
     "output_type": "execute_result"
    }
   ],
   "source": [
    "saved_model = LeNet()\n",
    "saved_model.load_state_dict(torch.load(\"./models/model_20240306_121901_0\", map_location=device))\n",
    "saved_model.to(device)"
   ]
  },
  {
   "cell_type": "code",
   "execution_count": 14,
   "id": "9c2ab5f9-b5d3-4cc6-909a-b72f0056c280",
   "metadata": {},
   "outputs": [
    {
     "name": "stdout",
     "output_type": "stream",
     "text": [
      "0.987\n"
     ]
    }
   ],
   "source": [
    "saved_model.eval()\n",
    "\n",
    "correct =0\n",
    "# Disable gradient computation and reduce memory consumption.\n",
    "with torch.no_grad():\n",
    "    for i, vdata in enumerate(validation_loader):\n",
    "        vinputs, vlabels = vdata\n",
    "        vinputs,vlabels=vinputs.to(device),vlabels.to(device)\n",
    "        voutputs = saved_model(vinputs)\n",
    "\n",
    "        _,predicted = torch.max(voutputs,1)\n",
    "        correct += (predicted == vlabels).sum().item()\n",
    "accuracy = correct/len(validation_loader.dataset)\n",
    "print(accuracy)"
   ]
  },
  {
   "cell_type": "markdown",
   "id": "720f2ba0-14a1-40d2-99fa-37dfbef96e65",
   "metadata": {},
   "source": [
    "### wandb"
   ]
  },
  {
   "cell_type": "code",
   "execution_count": 15,
   "id": "351df866-985a-4f60-8740-fedb77e1105a",
   "metadata": {},
   "outputs": [],
   "source": [
    "import wandb\n",
    "from pprint import pprint"
   ]
  },
  {
   "cell_type": "code",
   "execution_count": 16,
   "id": "cfd9626f-b1ed-461f-bfd0-30d807d96399",
   "metadata": {},
   "outputs": [
    {
     "name": "stderr",
     "output_type": "stream",
     "text": [
      "Failed to detect the name of this notebook, you can set it manually with the WANDB_NOTEBOOK_NAME environment variable to enable code saving.\n",
      "\u001b[34m\u001b[1mwandb\u001b[0m: Currently logged in as: \u001b[33msriharib128\u001b[0m. Use \u001b[1m`wandb login --relogin`\u001b[0m to force relogin\n"
     ]
    },
    {
     "data": {
      "text/plain": [
       "True"
      ]
     },
     "execution_count": 16,
     "metadata": {},
     "output_type": "execute_result"
    }
   ],
   "source": [
    "wandb.login()"
   ]
  },
  {
   "cell_type": "code",
   "execution_count": 17,
   "id": "5159602c-3897-4202-ac25-16d6b92fa475",
   "metadata": {},
   "outputs": [
    {
     "data": {
      "text/html": [
       "Tracking run with wandb version 0.16.4"
      ],
      "text/plain": [
       "<IPython.core.display.HTML object>"
      ]
     },
     "metadata": {},
     "output_type": "display_data"
    },
    {
     "data": {
      "text/html": [
       "Run data is saved locally in <code>/home2/surya_ravindra/CV_A2/wandb/run-20240307_005445-0mx4xqk9</code>"
      ],
      "text/plain": [
       "<IPython.core.display.HTML object>"
      ]
     },
     "metadata": {},
     "output_type": "display_data"
    },
    {
     "data": {
      "text/html": [
       "Syncing run <strong><a href='https://wandb.ai/sriharib128/CV_A1_Q2/runs/0mx4xqk9' target=\"_blank\">1st run</a></strong> to <a href='https://wandb.ai/sriharib128/CV_A1_Q2' target=\"_blank\">Weights & Biases</a> (<a href='https://wandb.me/run' target=\"_blank\">docs</a>)<br/>"
      ],
      "text/plain": [
       "<IPython.core.display.HTML object>"
      ]
     },
     "metadata": {},
     "output_type": "display_data"
    },
    {
     "data": {
      "text/html": [
       " View project at <a href='https://wandb.ai/sriharib128/CV_A1_Q2' target=\"_blank\">https://wandb.ai/sriharib128/CV_A1_Q2</a>"
      ],
      "text/plain": [
       "<IPython.core.display.HTML object>"
      ]
     },
     "metadata": {},
     "output_type": "display_data"
    },
    {
     "data": {
      "text/html": [
       " View run at <a href='https://wandb.ai/sriharib128/CV_A1_Q2/runs/0mx4xqk9' target=\"_blank\">https://wandb.ai/sriharib128/CV_A1_Q2/runs/0mx4xqk9</a>"
      ],
      "text/plain": [
       "<IPython.core.display.HTML object>"
      ]
     },
     "metadata": {},
     "output_type": "display_data"
    },
    {
     "name": "stdout",
     "output_type": "stream",
     "text": [
      "{'learning_rate': 0.001, 'batch_size': 64, 'epoch': 10, 'optimizer': 'adam'}\n"
     ]
    }
   ],
   "source": [
    "run = wandb.init(project=\"CV_A1_Q2\",name = \"1st run\")\n",
    "wandb.config.learning_rate = 0.001\n",
    "wandb.config.batch_size = 64\n",
    "wandb.config.epoch = 10\n",
    "wandb.config.optimizer = \"adam\"\n",
    "pprint(wandb.config)"
   ]
  },
  {
   "cell_type": "code",
   "execution_count": 18,
   "id": "88529caf-8115-47fd-93ae-ee35fbe63b1a",
   "metadata": {},
   "outputs": [],
   "source": [
    "model = LeNet()\n",
    "model.to(device)\n",
    "loss_fn = torch.nn.CrossEntropyLoss()\n",
    "optimizer = torch.optim.Adam(model.parameters(),lr=wandb.config.learning_rate)"
   ]
  },
  {
   "cell_type": "code",
   "execution_count": 19,
   "id": "45986e65-ab18-452e-882f-9544d5a29bb5",
   "metadata": {},
   "outputs": [
    {
     "name": "stdout",
     "output_type": "stream",
     "text": [
      "Training set has 60000 instances\n",
      "Validation set has 10000 instances\n"
     ]
    }
   ],
   "source": [
    "training_loader,validation_loader = data_get_load(wandb.config.batch_size)"
   ]
  },
  {
   "cell_type": "code",
   "execution_count": 20,
   "id": "af0facb2-2cc9-476b-9fc4-5d6a8b51e982",
   "metadata": {},
   "outputs": [
    {
     "data": {
      "text/plain": [
       "157"
      ]
     },
     "execution_count": 20,
     "metadata": {},
     "output_type": "execute_result"
    }
   ],
   "source": [
    "len(validation_loader)"
   ]
  },
  {
   "cell_type": "code",
   "execution_count": 21,
   "id": "0af116e7-c477-484a-a7b9-d563434416b6",
   "metadata": {},
   "outputs": [],
   "source": [
    "# from torchmetrics import Accuracy, Precision, Recall, F1Score\n",
    "# # Initialize metrics\n",
    "# num_classes = 10\n",
    "# accuracy = Accuracy(task='multiclass',num_classes=num_classes).to(device)\n",
    "# precision = Precision(task='multiclass', average='macro', num_classes=num_classes).to(device)\n",
    "# recall = Recall(task='multiclass', average='macro', num_classes=num_classes).to(device)\n",
    "# f1 = F1Score(task='multiclass', average='macro', num_classes=num_classes).to(device)"
   ]
  },
  {
   "cell_type": "code",
   "execution_count": 22,
   "id": "fcb208d3-46bf-4e03-97ec-19ebf2b1ca3a",
   "metadata": {
    "scrolled": true
   },
   "outputs": [
    {
     "name": "stdout",
     "output_type": "stream",
     "text": [
      "EPOCH 1:\n",
      "100th batch => 1.0806842792034148\n",
      "200th batch => 0.278742106705904\n",
      "300th batch => 0.18545835487544537\n",
      "400th batch => 0.14566997803747653\n",
      "500th batch => 0.13438145775347948\n",
      "600th batch => 0.12050811596214771\n",
      "700th batch => 0.10242413160391152\n",
      "800th batch => 0.09857013694010675\n",
      "900th batch => 0.07522635676898062\n",
      "LOSS train 0.07522635676898062 valid 0.0011488795249490068 ACC 0.9773\n",
      "saved model to ./models/model_20240307_005452_0\n",
      "EPOCH 2:\n",
      "100th batch => 0.07315306286327541\n",
      "200th batch => 0.0692412838852033\n",
      "300th batch => 0.07584246435202659\n",
      "400th batch => 0.06203115314245224\n",
      "500th batch => 0.05894677390344441\n",
      "600th batch => 0.06735840604756958\n",
      "700th batch => 0.06499053363222629\n",
      "800th batch => 0.05043961589224637\n",
      "900th batch => 0.05441587164299563\n",
      "LOSS train 0.05441587164299563 valid 0.0006031600922862708 ACC 0.9875\n",
      "saved model to ./models/model_20240307_005452_1\n",
      "EPOCH 3:\n",
      "100th batch => 0.04953925197711215\n",
      "200th batch => 0.04277902920497581\n",
      "300th batch => 0.047060423730872575\n",
      "400th batch => 0.050112640890292826\n",
      "500th batch => 0.04921356723061763\n",
      "600th batch => 0.04804431633092463\n",
      "700th batch => 0.04559210575185716\n",
      "800th batch => 0.045744238218758254\n",
      "900th batch => 0.04957385607762262\n",
      "LOSS train 0.04957385607762262 valid 0.0006373461486466113 ACC 0.9867\n",
      "EPOCH 4:\n",
      "100th batch => 0.041501562644261865\n",
      "200th batch => 0.035342449942836536\n",
      "300th batch => 0.040666455181781205\n",
      "400th batch => 0.026963507924228906\n",
      "500th batch => 0.038618263983516955\n",
      "600th batch => 0.03658815311617218\n",
      "700th batch => 0.04200099469991983\n",
      "800th batch => 0.04037315160734579\n",
      "900th batch => 0.04039193350588903\n",
      "LOSS train 0.04039193350588903 valid 0.000556967630636791 ACC 0.9891\n",
      "saved model to ./models/model_20240307_005452_3\n",
      "EPOCH 5:\n",
      "100th batch => 0.029779715249314904\n",
      "200th batch => 0.02958809327916242\n",
      "300th batch => 0.03289693955070106\n",
      "400th batch => 0.029721929390216246\n",
      "500th batch => 0.031577791229356084\n",
      "600th batch => 0.03326537270564586\n",
      "700th batch => 0.026227957928786055\n",
      "800th batch => 0.029052968479227274\n",
      "900th batch => 0.041706203952198845\n",
      "LOSS train 0.041706203952198845 valid 0.0005829974255015259 ACC 0.9881\n",
      "EPOCH 6:\n",
      "100th batch => 0.02394347518318682\n",
      "200th batch => 0.025245543562923557\n",
      "300th batch => 0.025452126353629864\n",
      "400th batch => 0.027232928211742547\n",
      "500th batch => 0.025104002834996208\n",
      "600th batch => 0.026831148330238648\n",
      "700th batch => 0.022383243995718657\n",
      "800th batch => 0.03188643878791481\n",
      "900th batch => 0.030003490957606117\n",
      "LOSS train 0.030003490957606117 valid 0.0005089329073649423 ACC 0.9902\n",
      "saved model to ./models/model_20240307_005452_5\n",
      "EPOCH 7:\n",
      "100th batch => 0.0146178188174963\n",
      "200th batch => 0.02285477012526826\n",
      "300th batch => 0.01780804051537416\n",
      "400th batch => 0.02344394206185825\n",
      "500th batch => 0.023272965565847698\n",
      "600th batch => 0.019978840225667226\n",
      "700th batch => 0.0243521542972303\n",
      "800th batch => 0.02616809210710926\n",
      "900th batch => 0.024292778473463842\n",
      "LOSS train 0.024292778473463842 valid 0.0006769239096813863 ACC 0.9859\n",
      "EPOCH 8:\n",
      "100th batch => 0.014285356395703275\n",
      "200th batch => 0.016153448617696995\n",
      "300th batch => 0.01768790515823639\n",
      "400th batch => 0.021795592312992086\n",
      "500th batch => 0.026784162430558353\n",
      "600th batch => 0.017895941608585417\n",
      "700th batch => 0.0224620886874618\n",
      "800th batch => 0.018434233612642858\n",
      "900th batch => 0.02508223578595789\n",
      "LOSS train 0.02508223578595789 valid 0.0006178392633700242 ACC 0.9888\n",
      "EPOCH 9:\n",
      "100th batch => 0.011523913509809063\n",
      "200th batch => 0.01816022731254634\n",
      "300th batch => 0.018368499268835877\n",
      "400th batch => 0.012892301012179815\n",
      "500th batch => 0.01815614751103567\n",
      "600th batch => 0.020386460278823505\n",
      "700th batch => 0.0169969653392036\n",
      "800th batch => 0.020206842198967935\n",
      "900th batch => 0.01937909243395552\n",
      "LOSS train 0.01937909243395552 valid 0.0005488996852256605 ACC 0.9907\n",
      "EPOCH 10:\n",
      "100th batch => 0.011555877961509396\n",
      "200th batch => 0.017742109104437985\n",
      "300th batch => 0.010086576569738099\n",
      "400th batch => 0.013399425078750938\n",
      "500th batch => 0.01648278219392523\n",
      "600th batch => 0.019791832459468424\n",
      "700th batch => 0.020497193938936106\n",
      "800th batch => 0.015867773562349613\n",
      "900th batch => 0.018336129262315808\n",
      "LOSS train 0.018336129262315808 valid 0.0005751876987380456 ACC 0.9906\n"
     ]
    },
    {
     "name": "stderr",
     "output_type": "stream",
     "text": [
      "wandb: WARNING Source type is set to 'repo' but some required information is missing from the environment. A job will not be created from this run. See https://docs.wandb.ai/guides/launch/create-job\n"
     ]
    },
    {
     "data": {
      "application/vnd.jupyter.widget-view+json": {
       "model_id": "",
       "version_major": 2,
       "version_minor": 0
      },
      "text/plain": [
       "VBox(children=(Label(value='0.005 MB of 0.005 MB uploaded\\r'), FloatProgress(value=1.0, max=1.0)))"
      ]
     },
     "metadata": {},
     "output_type": "display_data"
    },
    {
     "data": {
      "text/html": [
       "<style>\n",
       "    table.wandb td:nth-child(1) { padding: 0 10px; text-align: left ; width: auto;} td:nth-child(2) {text-align: left ; width: 100%}\n",
       "    .wandb-row { display: flex; flex-direction: row; flex-wrap: wrap; justify-content: flex-start; width: 100% }\n",
       "    .wandb-col { display: flex; flex-direction: column; flex-basis: 100%; flex: 1; padding: 10px; }\n",
       "    </style>\n",
       "<div class=\"wandb-row\"><div class=\"wandb-col\"><h3>Run history:</h3><br/><table class=\"wandb\"><tr><td>accuracy</td><td>▁▆▆▇▇█▅▇██</td></tr><tr><td>train_loss</td><td>█▅▅▄▄▂▂▂▁▁</td></tr><tr><td>vloss</td><td>█▂▂▂▂▁▃▂▁▂</td></tr></table><br/></div><div class=\"wandb-col\"><h3>Run summary:</h3><br/><table class=\"wandb\"><tr><td>accuracy</td><td>0.9906</td></tr><tr><td>train_loss</td><td>0.01834</td></tr><tr><td>vloss</td><td>0.00058</td></tr></table><br/></div></div>"
      ],
      "text/plain": [
       "<IPython.core.display.HTML object>"
      ]
     },
     "metadata": {},
     "output_type": "display_data"
    },
    {
     "data": {
      "text/html": [
       " View run <strong style=\"color:#cdcd00\">1st run</strong> at: <a href='https://wandb.ai/sriharib128/CV_A1_Q2/runs/0mx4xqk9' target=\"_blank\">https://wandb.ai/sriharib128/CV_A1_Q2/runs/0mx4xqk9</a><br/>Synced 6 W&B file(s), 0 media file(s), 0 artifact file(s) and 0 other file(s)"
      ],
      "text/plain": [
       "<IPython.core.display.HTML object>"
      ]
     },
     "metadata": {},
     "output_type": "display_data"
    },
    {
     "data": {
      "text/html": [
       "Find logs at: <code>./wandb/run-20240307_005445-0mx4xqk9/logs</code>"
      ],
      "text/plain": [
       "<IPython.core.display.HTML object>"
      ]
     },
     "metadata": {},
     "output_type": "display_data"
    }
   ],
   "source": [
    "timestamp = datetime.now().strftime('%Y%m%d_%H%M%S')\n",
    "best_vloss = 1_000_000.\n",
    "# Training loop\n",
    "for epoch_number in range(wandb.config.epoch):  # Number of epochs\n",
    "    correct = 0\n",
    "    total = 0\n",
    "    print('EPOCH {}:'.format(epoch_number + 1))\n",
    "    avg_loss = train_one_epoch(model,training_loader,loss_fn,optimizer,device,epoch_number,None,None,write=False)\n",
    "    avg_vloss,v_acc = test_one_epoch(model,validation_loader,loss_fn,device,None)\n",
    "\n",
    "    wandb.log({\"train_loss\":avg_loss,\"vloss\":avg_vloss,\"accuracy\":v_acc})\n",
    "    \n",
    "    print('LOSS train {} valid {} ACC {}'.format(avg_loss, avg_vloss,v_acc))\n",
    "\n",
    "    if avg_vloss < best_vloss:\n",
    "        best_vloss = avg_vloss\n",
    "        model_path = './models/model_{}_{}'.format(timestamp, epoch_number)\n",
    "        torch.save(model.state_dict(), model_path)\n",
    "        print(f\"saved model to {model_path}\")\n",
    "\n",
    "# exort to ONNX and save in Netron for Vizualization\n",
    "wandb.save(\"model.pth\")\n",
    "\n",
    "# Finish the run\n",
    "run.finish()"
   ]
  },
  {
   "cell_type": "markdown",
   "id": "b66509d4-1b6c-4bae-b223-58b1722178ac",
   "metadata": {},
   "source": [
    "## Hyperparameter tuning"
   ]
  },
  {
   "cell_type": "code",
   "execution_count": 34,
   "id": "31a1128a-1b02-4b5d-95f2-c692d8aa7063",
   "metadata": {},
   "outputs": [],
   "source": [
    "def build_optimizer(model, optimizer, learning_rate):\n",
    "    if optimizer == \"sgd\":\n",
    "        optimizer = torch.optim.SGD(model.parameters(),\n",
    "                              lr=learning_rate, momentum=0.9)\n",
    "    elif optimizer == \"adam\":\n",
    "        optimizer = torch.optim.Adam(model.parameters(),\n",
    "                               lr=learning_rate)\n",
    "    return optimizer"
   ]
  },
  {
   "cell_type": "code",
   "execution_count": 37,
   "id": "253ef343-8cc9-43db-8268-c3a372df04ef",
   "metadata": {},
   "outputs": [],
   "source": [
    "configs_sweep=[]\n",
    "accuracies_sweep=[]\n",
    "def train(config=None):\n",
    "    # Initialize a new wandb run\n",
    "    with wandb.init(config=config):\n",
    "        # If called by wandb.agent, as below,\n",
    "        # this config will be set by Sweep Controller\n",
    "        config = wandb.config\n",
    "        pprint(wandb.config)\n",
    "        \n",
    "        device = torch.device(\"cuda\" if torch.cuda.is_available() else \"cpu\")\n",
    "        training_loader,validation_loader = data_get_load(wandb.config.batch_size)\n",
    "        \n",
    "        model = LeNet()\n",
    "        model.to(device)\n",
    "        loss_fn = torch.nn.CrossEntropyLoss()\n",
    "        optimizer = build_optimizer(model, config.optimizer, config.learning_rate)\n",
    "\n",
    "        for epoch_number in range(config.epochs):\n",
    "            avg_loss = train_one_epoch(model,training_loader,loss_fn,optimizer,device,epoch_number,None,None,write=False)\n",
    "            avg_vloss,v_acc = test_one_epoch(model,validation_loader,loss_fn,device,None)\n",
    "            print('EPOCH {}  LOSS train {} valid {} ACC {}'.format(epoch_number,avg_loss, avg_vloss,v_acc))\n",
    "        \n",
    "            wandb.log({\"train_loss\":avg_loss,\"vloss\":avg_vloss,\"accuracy\":v_acc})\n",
    "        configs_sweep.append(wandb.config)\n",
    "        accuracies_sweep.append(v_acc)"
   ]
  },
  {
   "cell_type": "code",
   "execution_count": 38,
   "id": "a3545231-bf00-46f3-8e4a-3f6f15b1fb1a",
   "metadata": {},
   "outputs": [],
   "source": [
    "# Sweep Configuration\n",
    "sweep_config = {\n",
    "    'method': 'random', # Use random search strategy\n",
    "    'metric': { # The metric that you want to optimize\n",
    "        'name': 'v_loss',\n",
    "        'goal': 'minimize'\n",
    "    },\n",
    "    'parameters': { # The hyperparameters to tune\n",
    "        'learning_rate': {  # Learning rate for the optimizer\n",
    "            'values': [0.001,  0.01,  0.1]\n",
    "        },\n",
    "        'optimizer': {  # The optimizer to use\n",
    "            'values': ['sgd', 'adam']\n",
    "        },\n",
    "        # 'dropout': {    # The dropout to use\n",
    "        #     'values': [0.2,  0.3,  0.5]\n",
    "        # },\n",
    "        'batch_size': {    # The batch size\n",
    "            'values': [8, 32,  64,  128]\n",
    "        },\n",
    "        'epochs': {    # The number of epochs\n",
    "            'values': [1, 2, 5]}\n",
    "    }\n",
    "}"
   ]
  },
  {
   "cell_type": "code",
   "execution_count": 39,
   "id": "20da1acb-db5a-40e9-aca5-08308f3b02fb",
   "metadata": {},
   "outputs": [
    {
     "name": "stdout",
     "output_type": "stream",
     "text": [
      "Create sweep with ID: 1hbued44\n",
      "Sweep URL: https://wandb.ai/sriharib128/CV_A1_Q2/sweeps/1hbued44\n"
     ]
    }
   ],
   "source": [
    "# Initialize the sweep\n",
    "sweep_id = wandb.sweep(sweep_config, project=\"CV_A1_Q2\")"
   ]
  },
  {
   "cell_type": "code",
   "execution_count": null,
   "id": "38f1c9c6-7b27-471b-9f8b-d71ca755616f",
   "metadata": {},
   "outputs": [
    {
     "name": "stderr",
     "output_type": "stream",
     "text": [
      "\u001b[34m\u001b[1mwandb\u001b[0m: Agent Starting Run: r8mzvl3p with config:\n",
      "\u001b[34m\u001b[1mwandb\u001b[0m: \tbatch_size: 32\n",
      "\u001b[34m\u001b[1mwandb\u001b[0m: \tepochs: 5\n",
      "\u001b[34m\u001b[1mwandb\u001b[0m: \tlearning_rate: 0.01\n",
      "\u001b[34m\u001b[1mwandb\u001b[0m: \toptimizer: sgd\n",
      "Failed to detect the name of this notebook, you can set it manually with the WANDB_NOTEBOOK_NAME environment variable to enable code saving.\n"
     ]
    },
    {
     "data": {
      "application/vnd.jupyter.widget-view+json": {
       "model_id": "ebb866d500f2414795fc8fb19fecb6e1",
       "version_major": 2,
       "version_minor": 0
      },
      "text/plain": [
       "VBox(children=(Label(value='Waiting for wandb.init()...\\r'), FloatProgress(value=0.011113826827042633, max=1.0…"
      ]
     },
     "metadata": {},
     "output_type": "display_data"
    },
    {
     "data": {
      "text/html": [
       "Tracking run with wandb version 0.16.4"
      ],
      "text/plain": [
       "<IPython.core.display.HTML object>"
      ]
     },
     "metadata": {},
     "output_type": "display_data"
    },
    {
     "data": {
      "text/html": [
       "Run data is saved locally in <code>/home2/surya_ravindra/CV_A2/wandb/run-20240307_012931-r8mzvl3p</code>"
      ],
      "text/plain": [
       "<IPython.core.display.HTML object>"
      ]
     },
     "metadata": {},
     "output_type": "display_data"
    },
    {
     "data": {
      "text/html": [
       "Syncing run <strong><a href='https://wandb.ai/sriharib128/CV_A1_Q2/runs/r8mzvl3p' target=\"_blank\">dry-sweep-1</a></strong> to <a href='https://wandb.ai/sriharib128/CV_A1_Q2' target=\"_blank\">Weights & Biases</a> (<a href='https://wandb.me/run' target=\"_blank\">docs</a>)<br/>Sweep page: <a href='https://wandb.ai/sriharib128/CV_A1_Q2/sweeps/1hbued44' target=\"_blank\">https://wandb.ai/sriharib128/CV_A1_Q2/sweeps/1hbued44</a>"
      ],
      "text/plain": [
       "<IPython.core.display.HTML object>"
      ]
     },
     "metadata": {},
     "output_type": "display_data"
    },
    {
     "data": {
      "text/html": [
       " View project at <a href='https://wandb.ai/sriharib128/CV_A1_Q2' target=\"_blank\">https://wandb.ai/sriharib128/CV_A1_Q2</a>"
      ],
      "text/plain": [
       "<IPython.core.display.HTML object>"
      ]
     },
     "metadata": {},
     "output_type": "display_data"
    },
    {
     "data": {
      "text/html": [
       " View sweep at <a href='https://wandb.ai/sriharib128/CV_A1_Q2/sweeps/1hbued44' target=\"_blank\">https://wandb.ai/sriharib128/CV_A1_Q2/sweeps/1hbued44</a>"
      ],
      "text/plain": [
       "<IPython.core.display.HTML object>"
      ]
     },
     "metadata": {},
     "output_type": "display_data"
    },
    {
     "data": {
      "text/html": [
       " View run at <a href='https://wandb.ai/sriharib128/CV_A1_Q2/runs/r8mzvl3p' target=\"_blank\">https://wandb.ai/sriharib128/CV_A1_Q2/runs/r8mzvl3p</a>"
      ],
      "text/plain": [
       "<IPython.core.display.HTML object>"
      ]
     },
     "metadata": {},
     "output_type": "display_data"
    },
    {
     "name": "stdout",
     "output_type": "stream",
     "text": [
      "{'batch_size': 32, 'epochs': 5, 'learning_rate': 0.01, 'optimizer': 'sgd'}\n",
      "Training set has 60000 instances\n",
      "Validation set has 10000 instances\n",
      "EPOCH 0  LOSS train 0.4051535150305783 valid 0.001920465204273205 ACC 0.9802\n",
      "EPOCH 1  LOSS train 0.0638324920428611 valid 0.001225734752864082 ACC 0.9869\n",
      "EPOCH 2  LOSS train 0.04592551284994402 valid 0.0012369859336737136 ACC 0.9867\n",
      "EPOCH 3  LOSS train 0.0361083566025247 valid 0.0011162928870013275 ACC 0.9871\n",
      "EPOCH 4  LOSS train 0.03076710914242278 valid 0.0010693193128947314 ACC 0.9879\n"
     ]
    },
    {
     "data": {
      "application/vnd.jupyter.widget-view+json": {
       "model_id": "",
       "version_major": 2,
       "version_minor": 0
      },
      "text/plain": [
       "VBox(children=(Label(value='0.005 MB of 0.005 MB uploaded\\r'), FloatProgress(value=1.0, max=1.0)))"
      ]
     },
     "metadata": {},
     "output_type": "display_data"
    },
    {
     "data": {
      "text/html": [
       "<style>\n",
       "    table.wandb td:nth-child(1) { padding: 0 10px; text-align: left ; width: auto;} td:nth-child(2) {text-align: left ; width: 100%}\n",
       "    .wandb-row { display: flex; flex-direction: row; flex-wrap: wrap; justify-content: flex-start; width: 100% }\n",
       "    .wandb-col { display: flex; flex-direction: column; flex-basis: 100%; flex: 1; padding: 10px; }\n",
       "    </style>\n",
       "<div class=\"wandb-row\"><div class=\"wandb-col\"><h3>Run history:</h3><br/><table class=\"wandb\"><tr><td>accuracy</td><td>▁▇▇▇█</td></tr><tr><td>train_loss</td><td>█▂▁▁▁</td></tr><tr><td>vloss</td><td>█▂▂▁▁</td></tr></table><br/></div><div class=\"wandb-col\"><h3>Run summary:</h3><br/><table class=\"wandb\"><tr><td>accuracy</td><td>0.9879</td></tr><tr><td>train_loss</td><td>0.03077</td></tr><tr><td>vloss</td><td>0.00107</td></tr></table><br/></div></div>"
      ],
      "text/plain": [
       "<IPython.core.display.HTML object>"
      ]
     },
     "metadata": {},
     "output_type": "display_data"
    },
    {
     "data": {
      "text/html": [
       " View run <strong style=\"color:#cdcd00\">dry-sweep-1</strong> at: <a href='https://wandb.ai/sriharib128/CV_A1_Q2/runs/r8mzvl3p' target=\"_blank\">https://wandb.ai/sriharib128/CV_A1_Q2/runs/r8mzvl3p</a><br/>Synced 6 W&B file(s), 0 media file(s), 0 artifact file(s) and 0 other file(s)"
      ],
      "text/plain": [
       "<IPython.core.display.HTML object>"
      ]
     },
     "metadata": {},
     "output_type": "display_data"
    },
    {
     "data": {
      "text/html": [
       "Find logs at: <code>./wandb/run-20240307_012931-r8mzvl3p/logs</code>"
      ],
      "text/plain": [
       "<IPython.core.display.HTML object>"
      ]
     },
     "metadata": {},
     "output_type": "display_data"
    },
    {
     "name": "stderr",
     "output_type": "stream",
     "text": [
      "Run r8mzvl3p errored:\n",
      "Traceback (most recent call last):\n",
      "  File \"/home2/surya_ravindra/miniconda3/envs/pytorch_conda/lib/python3.8/site-packages/wandb/agents/pyagent.py\", line 308, in _run_job\n",
      "    self._function()\n",
      "  File \"/tmp/ipykernel_13354/1277487335.py\", line 28, in train\n",
      "    pickle.dump(configs_sweep,f)\n",
      "AttributeError: Can't pickle local object 'Settings._validator_factory.<locals>.helper'\n",
      "\n",
      "\u001b[34m\u001b[1mwandb\u001b[0m: \u001b[32m\u001b[41mERROR\u001b[0m Run r8mzvl3p errored:\n",
      "\u001b[34m\u001b[1mwandb\u001b[0m: \u001b[32m\u001b[41mERROR\u001b[0m Traceback (most recent call last):\n",
      "\u001b[34m\u001b[1mwandb\u001b[0m: \u001b[32m\u001b[41mERROR\u001b[0m   File \"/home2/surya_ravindra/miniconda3/envs/pytorch_conda/lib/python3.8/site-packages/wandb/agents/pyagent.py\", line 308, in _run_job\n",
      "\u001b[34m\u001b[1mwandb\u001b[0m: \u001b[32m\u001b[41mERROR\u001b[0m     self._function()\n",
      "\u001b[34m\u001b[1mwandb\u001b[0m: \u001b[32m\u001b[41mERROR\u001b[0m   File \"/tmp/ipykernel_13354/1277487335.py\", line 28, in train\n",
      "\u001b[34m\u001b[1mwandb\u001b[0m: \u001b[32m\u001b[41mERROR\u001b[0m     pickle.dump(configs_sweep,f)\n",
      "\u001b[34m\u001b[1mwandb\u001b[0m: \u001b[32m\u001b[41mERROR\u001b[0m AttributeError: Can't pickle local object 'Settings._validator_factory.<locals>.helper'\n",
      "\u001b[34m\u001b[1mwandb\u001b[0m: \u001b[32m\u001b[41mERROR\u001b[0m \n",
      "\u001b[34m\u001b[1mwandb\u001b[0m: Sweep Agent: Waiting for job.\n",
      "\u001b[34m\u001b[1mwandb\u001b[0m: Job received.\n",
      "\u001b[34m\u001b[1mwandb\u001b[0m: Agent Starting Run: agxt1qfc with config:\n",
      "\u001b[34m\u001b[1mwandb\u001b[0m: \tbatch_size: 128\n",
      "\u001b[34m\u001b[1mwandb\u001b[0m: \tepochs: 5\n",
      "\u001b[34m\u001b[1mwandb\u001b[0m: \tlearning_rate: 0.001\n",
      "\u001b[34m\u001b[1mwandb\u001b[0m: \toptimizer: adam\n",
      "Failed to detect the name of this notebook, you can set it manually with the WANDB_NOTEBOOK_NAME environment variable to enable code saving.\n"
     ]
    },
    {
     "data": {
      "application/vnd.jupyter.widget-view+json": {
       "model_id": "9368361da5d64518adcd82068de51135",
       "version_major": 2,
       "version_minor": 0
      },
      "text/plain": [
       "VBox(children=(Label(value='Waiting for wandb.init()...\\r'), FloatProgress(value=0.01111371610313654, max=1.0)…"
      ]
     },
     "metadata": {},
     "output_type": "display_data"
    },
    {
     "data": {
      "text/html": [
       "Tracking run with wandb version 0.16.4"
      ],
      "text/plain": [
       "<IPython.core.display.HTML object>"
      ]
     },
     "metadata": {},
     "output_type": "display_data"
    },
    {
     "data": {
      "text/html": [
       "Run data is saved locally in <code>/home2/surya_ravindra/CV_A2/wandb/run-20240307_013124-agxt1qfc</code>"
      ],
      "text/plain": [
       "<IPython.core.display.HTML object>"
      ]
     },
     "metadata": {},
     "output_type": "display_data"
    },
    {
     "data": {
      "text/html": [
       "Syncing run <strong><a href='https://wandb.ai/sriharib128/CV_A1_Q2/runs/agxt1qfc' target=\"_blank\">ruby-sweep-2</a></strong> to <a href='https://wandb.ai/sriharib128/CV_A1_Q2' target=\"_blank\">Weights & Biases</a> (<a href='https://wandb.me/run' target=\"_blank\">docs</a>)<br/>Sweep page: <a href='https://wandb.ai/sriharib128/CV_A1_Q2/sweeps/1hbued44' target=\"_blank\">https://wandb.ai/sriharib128/CV_A1_Q2/sweeps/1hbued44</a>"
      ],
      "text/plain": [
       "<IPython.core.display.HTML object>"
      ]
     },
     "metadata": {},
     "output_type": "display_data"
    },
    {
     "data": {
      "text/html": [
       " View project at <a href='https://wandb.ai/sriharib128/CV_A1_Q2' target=\"_blank\">https://wandb.ai/sriharib128/CV_A1_Q2</a>"
      ],
      "text/plain": [
       "<IPython.core.display.HTML object>"
      ]
     },
     "metadata": {},
     "output_type": "display_data"
    },
    {
     "data": {
      "text/html": [
       " View sweep at <a href='https://wandb.ai/sriharib128/CV_A1_Q2/sweeps/1hbued44' target=\"_blank\">https://wandb.ai/sriharib128/CV_A1_Q2/sweeps/1hbued44</a>"
      ],
      "text/plain": [
       "<IPython.core.display.HTML object>"
      ]
     },
     "metadata": {},
     "output_type": "display_data"
    },
    {
     "data": {
      "text/html": [
       " View run at <a href='https://wandb.ai/sriharib128/CV_A1_Q2/runs/agxt1qfc' target=\"_blank\">https://wandb.ai/sriharib128/CV_A1_Q2/runs/agxt1qfc</a>"
      ],
      "text/plain": [
       "<IPython.core.display.HTML object>"
      ]
     },
     "metadata": {},
     "output_type": "display_data"
    },
    {
     "name": "stdout",
     "output_type": "stream",
     "text": [
      "{'batch_size': 128, 'epochs': 5, 'learning_rate': 0.001, 'optimizer': 'adam'}\n",
      "Training set has 60000 instances\n",
      "Validation set has 10000 instances\n",
      "EPOCH 0  LOSS train 0.23858426408921637 valid 0.0005773691710666754 ACC 0.9766\n",
      "EPOCH 1  LOSS train 0.07399145206823739 valid 0.000399200307414867 ACC 0.9831\n",
      "EPOCH 2  LOSS train 0.049558617339319565 valid 0.0002518690549899475 ACC 0.9889\n",
      "EPOCH 3  LOSS train 0.039837294915464644 valid 0.00028420540833176347 ACC 0.9877\n",
      "EPOCH 4  LOSS train 0.031925202032253554 valid 0.00023889922742382624 ACC 0.9902\n"
     ]
    },
    {
     "data": {
      "application/vnd.jupyter.widget-view+json": {
       "model_id": "",
       "version_major": 2,
       "version_minor": 0
      },
      "text/plain": [
       "VBox(children=(Label(value='0.005 MB of 0.009 MB uploaded\\r'), FloatProgress(value=0.572670412382063, max=1.0)…"
      ]
     },
     "metadata": {},
     "output_type": "display_data"
    },
    {
     "data": {
      "text/html": [
       "<style>\n",
       "    table.wandb td:nth-child(1) { padding: 0 10px; text-align: left ; width: auto;} td:nth-child(2) {text-align: left ; width: 100%}\n",
       "    .wandb-row { display: flex; flex-direction: row; flex-wrap: wrap; justify-content: flex-start; width: 100% }\n",
       "    .wandb-col { display: flex; flex-direction: column; flex-basis: 100%; flex: 1; padding: 10px; }\n",
       "    </style>\n",
       "<div class=\"wandb-row\"><div class=\"wandb-col\"><h3>Run history:</h3><br/><table class=\"wandb\"><tr><td>accuracy</td><td>▁▄▇▇█</td></tr><tr><td>train_loss</td><td>█▂▂▁▁</td></tr><tr><td>vloss</td><td>█▄▁▂▁</td></tr></table><br/></div><div class=\"wandb-col\"><h3>Run summary:</h3><br/><table class=\"wandb\"><tr><td>accuracy</td><td>0.9902</td></tr><tr><td>train_loss</td><td>0.03193</td></tr><tr><td>vloss</td><td>0.00024</td></tr></table><br/></div></div>"
      ],
      "text/plain": [
       "<IPython.core.display.HTML object>"
      ]
     },
     "metadata": {},
     "output_type": "display_data"
    },
    {
     "data": {
      "text/html": [
       " View run <strong style=\"color:#cdcd00\">ruby-sweep-2</strong> at: <a href='https://wandb.ai/sriharib128/CV_A1_Q2/runs/agxt1qfc' target=\"_blank\">https://wandb.ai/sriharib128/CV_A1_Q2/runs/agxt1qfc</a><br/>Synced 6 W&B file(s), 0 media file(s), 0 artifact file(s) and 0 other file(s)"
      ],
      "text/plain": [
       "<IPython.core.display.HTML object>"
      ]
     },
     "metadata": {},
     "output_type": "display_data"
    },
    {
     "data": {
      "text/html": [
       "Find logs at: <code>./wandb/run-20240307_013124-agxt1qfc/logs</code>"
      ],
      "text/plain": [
       "<IPython.core.display.HTML object>"
      ]
     },
     "metadata": {},
     "output_type": "display_data"
    },
    {
     "name": "stderr",
     "output_type": "stream",
     "text": [
      "Run agxt1qfc errored:\n",
      "Traceback (most recent call last):\n",
      "  File \"/home2/surya_ravindra/miniconda3/envs/pytorch_conda/lib/python3.8/site-packages/wandb/agents/pyagent.py\", line 308, in _run_job\n",
      "    self._function()\n",
      "  File \"/tmp/ipykernel_13354/1277487335.py\", line 28, in train\n",
      "    pickle.dump(configs_sweep,f)\n",
      "AttributeError: Can't pickle local object 'Settings._validator_factory.<locals>.helper'\n",
      "\n",
      "\u001b[34m\u001b[1mwandb\u001b[0m: \u001b[32m\u001b[41mERROR\u001b[0m Run agxt1qfc errored:\n",
      "\u001b[34m\u001b[1mwandb\u001b[0m: \u001b[32m\u001b[41mERROR\u001b[0m Traceback (most recent call last):\n",
      "\u001b[34m\u001b[1mwandb\u001b[0m: \u001b[32m\u001b[41mERROR\u001b[0m   File \"/home2/surya_ravindra/miniconda3/envs/pytorch_conda/lib/python3.8/site-packages/wandb/agents/pyagent.py\", line 308, in _run_job\n",
      "\u001b[34m\u001b[1mwandb\u001b[0m: \u001b[32m\u001b[41mERROR\u001b[0m     self._function()\n",
      "\u001b[34m\u001b[1mwandb\u001b[0m: \u001b[32m\u001b[41mERROR\u001b[0m   File \"/tmp/ipykernel_13354/1277487335.py\", line 28, in train\n",
      "\u001b[34m\u001b[1mwandb\u001b[0m: \u001b[32m\u001b[41mERROR\u001b[0m     pickle.dump(configs_sweep,f)\n",
      "\u001b[34m\u001b[1mwandb\u001b[0m: \u001b[32m\u001b[41mERROR\u001b[0m AttributeError: Can't pickle local object 'Settings._validator_factory.<locals>.helper'\n",
      "\u001b[34m\u001b[1mwandb\u001b[0m: \u001b[32m\u001b[41mERROR\u001b[0m \n",
      "\u001b[34m\u001b[1mwandb\u001b[0m: Agent Starting Run: h3shm513 with config:\n",
      "\u001b[34m\u001b[1mwandb\u001b[0m: \tbatch_size: 8\n",
      "\u001b[34m\u001b[1mwandb\u001b[0m: \tepochs: 2\n",
      "\u001b[34m\u001b[1mwandb\u001b[0m: \tlearning_rate: 0.01\n",
      "\u001b[34m\u001b[1mwandb\u001b[0m: \toptimizer: sgd\n",
      "Failed to detect the name of this notebook, you can set it manually with the WANDB_NOTEBOOK_NAME environment variable to enable code saving.\n"
     ]
    },
    {
     "data": {
      "text/html": [
       "Tracking run with wandb version 0.16.4"
      ],
      "text/plain": [
       "<IPython.core.display.HTML object>"
      ]
     },
     "metadata": {},
     "output_type": "display_data"
    },
    {
     "data": {
      "text/html": [
       "Run data is saved locally in <code>/home2/surya_ravindra/CV_A2/wandb/run-20240307_013308-h3shm513</code>"
      ],
      "text/plain": [
       "<IPython.core.display.HTML object>"
      ]
     },
     "metadata": {},
     "output_type": "display_data"
    },
    {
     "data": {
      "text/html": [
       "Syncing run <strong><a href='https://wandb.ai/sriharib128/CV_A1_Q2/runs/h3shm513' target=\"_blank\">confused-sweep-3</a></strong> to <a href='https://wandb.ai/sriharib128/CV_A1_Q2' target=\"_blank\">Weights & Biases</a> (<a href='https://wandb.me/run' target=\"_blank\">docs</a>)<br/>Sweep page: <a href='https://wandb.ai/sriharib128/CV_A1_Q2/sweeps/1hbued44' target=\"_blank\">https://wandb.ai/sriharib128/CV_A1_Q2/sweeps/1hbued44</a>"
      ],
      "text/plain": [
       "<IPython.core.display.HTML object>"
      ]
     },
     "metadata": {},
     "output_type": "display_data"
    },
    {
     "data": {
      "text/html": [
       " View project at <a href='https://wandb.ai/sriharib128/CV_A1_Q2' target=\"_blank\">https://wandb.ai/sriharib128/CV_A1_Q2</a>"
      ],
      "text/plain": [
       "<IPython.core.display.HTML object>"
      ]
     },
     "metadata": {},
     "output_type": "display_data"
    },
    {
     "data": {
      "text/html": [
       " View sweep at <a href='https://wandb.ai/sriharib128/CV_A1_Q2/sweeps/1hbued44' target=\"_blank\">https://wandb.ai/sriharib128/CV_A1_Q2/sweeps/1hbued44</a>"
      ],
      "text/plain": [
       "<IPython.core.display.HTML object>"
      ]
     },
     "metadata": {},
     "output_type": "display_data"
    },
    {
     "data": {
      "text/html": [
       " View run at <a href='https://wandb.ai/sriharib128/CV_A1_Q2/runs/h3shm513' target=\"_blank\">https://wandb.ai/sriharib128/CV_A1_Q2/runs/h3shm513</a>"
      ],
      "text/plain": [
       "<IPython.core.display.HTML object>"
      ]
     },
     "metadata": {},
     "output_type": "display_data"
    },
    {
     "name": "stdout",
     "output_type": "stream",
     "text": [
      "{'batch_size': 8, 'epochs': 2, 'learning_rate': 0.01, 'optimizer': 'sgd'}\n",
      "Training set has 60000 instances\n",
      "Validation set has 10000 instances\n",
      "EPOCH 0  LOSS train 0.444261339533804 valid 0.008849998796528962 ACC 0.9771\n",
      "EPOCH 1  LOSS train 0.07138126234048361 valid 0.009165250037251462 ACC 0.9756\n"
     ]
    },
    {
     "data": {
      "application/vnd.jupyter.widget-view+json": {
       "model_id": "",
       "version_major": 2,
       "version_minor": 0
      },
      "text/plain": [
       "VBox(children=(Label(value='0.005 MB of 0.005 MB uploaded\\r'), FloatProgress(value=1.0, max=1.0)))"
      ]
     },
     "metadata": {},
     "output_type": "display_data"
    },
    {
     "data": {
      "text/html": [
       "<style>\n",
       "    table.wandb td:nth-child(1) { padding: 0 10px; text-align: left ; width: auto;} td:nth-child(2) {text-align: left ; width: 100%}\n",
       "    .wandb-row { display: flex; flex-direction: row; flex-wrap: wrap; justify-content: flex-start; width: 100% }\n",
       "    .wandb-col { display: flex; flex-direction: column; flex-basis: 100%; flex: 1; padding: 10px; }\n",
       "    </style>\n",
       "<div class=\"wandb-row\"><div class=\"wandb-col\"><h3>Run history:</h3><br/><table class=\"wandb\"><tr><td>accuracy</td><td>█▁</td></tr><tr><td>train_loss</td><td>█▁</td></tr><tr><td>vloss</td><td>▁█</td></tr></table><br/></div><div class=\"wandb-col\"><h3>Run summary:</h3><br/><table class=\"wandb\"><tr><td>accuracy</td><td>0.9756</td></tr><tr><td>train_loss</td><td>0.07138</td></tr><tr><td>vloss</td><td>0.00917</td></tr></table><br/></div></div>"
      ],
      "text/plain": [
       "<IPython.core.display.HTML object>"
      ]
     },
     "metadata": {},
     "output_type": "display_data"
    },
    {
     "data": {
      "text/html": [
       " View run <strong style=\"color:#cdcd00\">confused-sweep-3</strong> at: <a href='https://wandb.ai/sriharib128/CV_A1_Q2/runs/h3shm513' target=\"_blank\">https://wandb.ai/sriharib128/CV_A1_Q2/runs/h3shm513</a><br/>Synced 6 W&B file(s), 0 media file(s), 0 artifact file(s) and 0 other file(s)"
      ],
      "text/plain": [
       "<IPython.core.display.HTML object>"
      ]
     },
     "metadata": {},
     "output_type": "display_data"
    },
    {
     "data": {
      "text/html": [
       "Find logs at: <code>./wandb/run-20240307_013308-h3shm513/logs</code>"
      ],
      "text/plain": [
       "<IPython.core.display.HTML object>"
      ]
     },
     "metadata": {},
     "output_type": "display_data"
    },
    {
     "name": "stderr",
     "output_type": "stream",
     "text": [
      "Run h3shm513 errored:\n",
      "Traceback (most recent call last):\n",
      "  File \"/home2/surya_ravindra/miniconda3/envs/pytorch_conda/lib/python3.8/site-packages/wandb/agents/pyagent.py\", line 308, in _run_job\n",
      "    self._function()\n",
      "  File \"/tmp/ipykernel_13354/1277487335.py\", line 28, in train\n",
      "    pickle.dump(configs_sweep,f)\n",
      "AttributeError: Can't pickle local object 'Settings._validator_factory.<locals>.helper'\n",
      "\n",
      "\u001b[34m\u001b[1mwandb\u001b[0m: \u001b[32m\u001b[41mERROR\u001b[0m Run h3shm513 errored:\n",
      "\u001b[34m\u001b[1mwandb\u001b[0m: \u001b[32m\u001b[41mERROR\u001b[0m Traceback (most recent call last):\n",
      "\u001b[34m\u001b[1mwandb\u001b[0m: \u001b[32m\u001b[41mERROR\u001b[0m   File \"/home2/surya_ravindra/miniconda3/envs/pytorch_conda/lib/python3.8/site-packages/wandb/agents/pyagent.py\", line 308, in _run_job\n",
      "\u001b[34m\u001b[1mwandb\u001b[0m: \u001b[32m\u001b[41mERROR\u001b[0m     self._function()\n",
      "\u001b[34m\u001b[1mwandb\u001b[0m: \u001b[32m\u001b[41mERROR\u001b[0m   File \"/tmp/ipykernel_13354/1277487335.py\", line 28, in train\n",
      "\u001b[34m\u001b[1mwandb\u001b[0m: \u001b[32m\u001b[41mERROR\u001b[0m     pickle.dump(configs_sweep,f)\n",
      "\u001b[34m\u001b[1mwandb\u001b[0m: \u001b[32m\u001b[41mERROR\u001b[0m AttributeError: Can't pickle local object 'Settings._validator_factory.<locals>.helper'\n",
      "\u001b[34m\u001b[1mwandb\u001b[0m: \u001b[32m\u001b[41mERROR\u001b[0m \n",
      "\u001b[34m\u001b[1mwandb\u001b[0m: Agent Starting Run: 729nyn2e with config:\n",
      "\u001b[34m\u001b[1mwandb\u001b[0m: \tbatch_size: 128\n",
      "\u001b[34m\u001b[1mwandb\u001b[0m: \tepochs: 2\n",
      "\u001b[34m\u001b[1mwandb\u001b[0m: \tlearning_rate: 0.1\n",
      "\u001b[34m\u001b[1mwandb\u001b[0m: \toptimizer: sgd\n",
      "Failed to detect the name of this notebook, you can set it manually with the WANDB_NOTEBOOK_NAME environment variable to enable code saving.\n"
     ]
    },
    {
     "data": {
      "text/html": [
       "Tracking run with wandb version 0.16.4"
      ],
      "text/plain": [
       "<IPython.core.display.HTML object>"
      ]
     },
     "metadata": {},
     "output_type": "display_data"
    },
    {
     "data": {
      "text/html": [
       "Run data is saved locally in <code>/home2/surya_ravindra/CV_A2/wandb/run-20240307_013401-729nyn2e</code>"
      ],
      "text/plain": [
       "<IPython.core.display.HTML object>"
      ]
     },
     "metadata": {},
     "output_type": "display_data"
    },
    {
     "data": {
      "text/html": [
       "Syncing run <strong><a href='https://wandb.ai/sriharib128/CV_A1_Q2/runs/729nyn2e' target=\"_blank\">vocal-sweep-4</a></strong> to <a href='https://wandb.ai/sriharib128/CV_A1_Q2' target=\"_blank\">Weights & Biases</a> (<a href='https://wandb.me/run' target=\"_blank\">docs</a>)<br/>Sweep page: <a href='https://wandb.ai/sriharib128/CV_A1_Q2/sweeps/1hbued44' target=\"_blank\">https://wandb.ai/sriharib128/CV_A1_Q2/sweeps/1hbued44</a>"
      ],
      "text/plain": [
       "<IPython.core.display.HTML object>"
      ]
     },
     "metadata": {},
     "output_type": "display_data"
    },
    {
     "data": {
      "text/html": [
       " View project at <a href='https://wandb.ai/sriharib128/CV_A1_Q2' target=\"_blank\">https://wandb.ai/sriharib128/CV_A1_Q2</a>"
      ],
      "text/plain": [
       "<IPython.core.display.HTML object>"
      ]
     },
     "metadata": {},
     "output_type": "display_data"
    },
    {
     "data": {
      "text/html": [
       " View sweep at <a href='https://wandb.ai/sriharib128/CV_A1_Q2/sweeps/1hbued44' target=\"_blank\">https://wandb.ai/sriharib128/CV_A1_Q2/sweeps/1hbued44</a>"
      ],
      "text/plain": [
       "<IPython.core.display.HTML object>"
      ]
     },
     "metadata": {},
     "output_type": "display_data"
    },
    {
     "data": {
      "text/html": [
       " View run at <a href='https://wandb.ai/sriharib128/CV_A1_Q2/runs/729nyn2e' target=\"_blank\">https://wandb.ai/sriharib128/CV_A1_Q2/runs/729nyn2e</a>"
      ],
      "text/plain": [
       "<IPython.core.display.HTML object>"
      ]
     },
     "metadata": {},
     "output_type": "display_data"
    },
    {
     "name": "stdout",
     "output_type": "stream",
     "text": [
      "{'batch_size': 128, 'epochs': 2, 'learning_rate': 0.1, 'optimizer': 'sgd'}\n",
      "Training set has 60000 instances\n",
      "Validation set has 10000 instances\n",
      "EPOCH 0  LOSS train 0.48248802324328055 valid 0.0015386942947516217 ACC 0.9559\n",
      "EPOCH 1  LOSS train 1.0301877310418133 valid 0.018200163459777832 ACC 0.1135\n"
     ]
    },
    {
     "data": {
      "application/vnd.jupyter.widget-view+json": {
       "model_id": "",
       "version_major": 2,
       "version_minor": 0
      },
      "text/plain": [
       "VBox(children=(Label(value='0.005 MB of 0.005 MB uploaded\\r'), FloatProgress(value=1.0, max=1.0)))"
      ]
     },
     "metadata": {},
     "output_type": "display_data"
    },
    {
     "data": {
      "text/html": [
       "<style>\n",
       "    table.wandb td:nth-child(1) { padding: 0 10px; text-align: left ; width: auto;} td:nth-child(2) {text-align: left ; width: 100%}\n",
       "    .wandb-row { display: flex; flex-direction: row; flex-wrap: wrap; justify-content: flex-start; width: 100% }\n",
       "    .wandb-col { display: flex; flex-direction: column; flex-basis: 100%; flex: 1; padding: 10px; }\n",
       "    </style>\n",
       "<div class=\"wandb-row\"><div class=\"wandb-col\"><h3>Run history:</h3><br/><table class=\"wandb\"><tr><td>accuracy</td><td>█▁</td></tr><tr><td>train_loss</td><td>▁█</td></tr><tr><td>vloss</td><td>▁█</td></tr></table><br/></div><div class=\"wandb-col\"><h3>Run summary:</h3><br/><table class=\"wandb\"><tr><td>accuracy</td><td>0.1135</td></tr><tr><td>train_loss</td><td>1.03019</td></tr><tr><td>vloss</td><td>0.0182</td></tr></table><br/></div></div>"
      ],
      "text/plain": [
       "<IPython.core.display.HTML object>"
      ]
     },
     "metadata": {},
     "output_type": "display_data"
    },
    {
     "data": {
      "text/html": [
       " View run <strong style=\"color:#cdcd00\">vocal-sweep-4</strong> at: <a href='https://wandb.ai/sriharib128/CV_A1_Q2/runs/729nyn2e' target=\"_blank\">https://wandb.ai/sriharib128/CV_A1_Q2/runs/729nyn2e</a><br/>Synced 6 W&B file(s), 0 media file(s), 0 artifact file(s) and 0 other file(s)"
      ],
      "text/plain": [
       "<IPython.core.display.HTML object>"
      ]
     },
     "metadata": {},
     "output_type": "display_data"
    },
    {
     "data": {
      "text/html": [
       "Find logs at: <code>./wandb/run-20240307_013401-729nyn2e/logs</code>"
      ],
      "text/plain": [
       "<IPython.core.display.HTML object>"
      ]
     },
     "metadata": {},
     "output_type": "display_data"
    },
    {
     "name": "stderr",
     "output_type": "stream",
     "text": [
      "Run 729nyn2e errored:\n",
      "Traceback (most recent call last):\n",
      "  File \"/home2/surya_ravindra/miniconda3/envs/pytorch_conda/lib/python3.8/site-packages/wandb/agents/pyagent.py\", line 308, in _run_job\n",
      "    self._function()\n",
      "  File \"/tmp/ipykernel_13354/1277487335.py\", line 28, in train\n",
      "    pickle.dump(configs_sweep,f)\n",
      "AttributeError: Can't pickle local object 'Settings._validator_factory.<locals>.helper'\n",
      "\n",
      "\u001b[34m\u001b[1mwandb\u001b[0m: \u001b[32m\u001b[41mERROR\u001b[0m Run 729nyn2e errored:\n",
      "\u001b[34m\u001b[1mwandb\u001b[0m: \u001b[32m\u001b[41mERROR\u001b[0m Traceback (most recent call last):\n",
      "\u001b[34m\u001b[1mwandb\u001b[0m: \u001b[32m\u001b[41mERROR\u001b[0m   File \"/home2/surya_ravindra/miniconda3/envs/pytorch_conda/lib/python3.8/site-packages/wandb/agents/pyagent.py\", line 308, in _run_job\n",
      "\u001b[34m\u001b[1mwandb\u001b[0m: \u001b[32m\u001b[41mERROR\u001b[0m     self._function()\n",
      "\u001b[34m\u001b[1mwandb\u001b[0m: \u001b[32m\u001b[41mERROR\u001b[0m   File \"/tmp/ipykernel_13354/1277487335.py\", line 28, in train\n",
      "\u001b[34m\u001b[1mwandb\u001b[0m: \u001b[32m\u001b[41mERROR\u001b[0m     pickle.dump(configs_sweep,f)\n",
      "\u001b[34m\u001b[1mwandb\u001b[0m: \u001b[32m\u001b[41mERROR\u001b[0m AttributeError: Can't pickle local object 'Settings._validator_factory.<locals>.helper'\n",
      "\u001b[34m\u001b[1mwandb\u001b[0m: \u001b[32m\u001b[41mERROR\u001b[0m \n",
      "\u001b[34m\u001b[1mwandb\u001b[0m: Agent Starting Run: qumsfyrz with config:\n",
      "\u001b[34m\u001b[1mwandb\u001b[0m: \tbatch_size: 128\n",
      "\u001b[34m\u001b[1mwandb\u001b[0m: \tepochs: 5\n",
      "\u001b[34m\u001b[1mwandb\u001b[0m: \tlearning_rate: 0.001\n",
      "\u001b[34m\u001b[1mwandb\u001b[0m: \toptimizer: adam\n",
      "Failed to detect the name of this notebook, you can set it manually with the WANDB_NOTEBOOK_NAME environment variable to enable code saving.\n"
     ]
    },
    {
     "data": {
      "application/vnd.jupyter.widget-view+json": {
       "model_id": "2129feb3c4e04d1db685eef0287cdca1",
       "version_major": 2,
       "version_minor": 0
      },
      "text/plain": [
       "VBox(children=(Label(value='Waiting for wandb.init()...\\r'), FloatProgress(value=0.011129518432749643, max=1.0…"
      ]
     },
     "metadata": {},
     "output_type": "display_data"
    },
    {
     "data": {
      "text/html": [
       "Tracking run with wandb version 0.16.4"
      ],
      "text/plain": [
       "<IPython.core.display.HTML object>"
      ]
     },
     "metadata": {},
     "output_type": "display_data"
    },
    {
     "data": {
      "text/html": [
       "Run data is saved locally in <code>/home2/surya_ravindra/CV_A2/wandb/run-20240307_013450-qumsfyrz</code>"
      ],
      "text/plain": [
       "<IPython.core.display.HTML object>"
      ]
     },
     "metadata": {},
     "output_type": "display_data"
    },
    {
     "data": {
      "text/html": [
       "Syncing run <strong><a href='https://wandb.ai/sriharib128/CV_A1_Q2/runs/qumsfyrz' target=\"_blank\">twilight-sweep-5</a></strong> to <a href='https://wandb.ai/sriharib128/CV_A1_Q2' target=\"_blank\">Weights & Biases</a> (<a href='https://wandb.me/run' target=\"_blank\">docs</a>)<br/>Sweep page: <a href='https://wandb.ai/sriharib128/CV_A1_Q2/sweeps/1hbued44' target=\"_blank\">https://wandb.ai/sriharib128/CV_A1_Q2/sweeps/1hbued44</a>"
      ],
      "text/plain": [
       "<IPython.core.display.HTML object>"
      ]
     },
     "metadata": {},
     "output_type": "display_data"
    },
    {
     "data": {
      "text/html": [
       " View project at <a href='https://wandb.ai/sriharib128/CV_A1_Q2' target=\"_blank\">https://wandb.ai/sriharib128/CV_A1_Q2</a>"
      ],
      "text/plain": [
       "<IPython.core.display.HTML object>"
      ]
     },
     "metadata": {},
     "output_type": "display_data"
    },
    {
     "data": {
      "text/html": [
       " View sweep at <a href='https://wandb.ai/sriharib128/CV_A1_Q2/sweeps/1hbued44' target=\"_blank\">https://wandb.ai/sriharib128/CV_A1_Q2/sweeps/1hbued44</a>"
      ],
      "text/plain": [
       "<IPython.core.display.HTML object>"
      ]
     },
     "metadata": {},
     "output_type": "display_data"
    },
    {
     "data": {
      "text/html": [
       " View run at <a href='https://wandb.ai/sriharib128/CV_A1_Q2/runs/qumsfyrz' target=\"_blank\">https://wandb.ai/sriharib128/CV_A1_Q2/runs/qumsfyrz</a>"
      ],
      "text/plain": [
       "<IPython.core.display.HTML object>"
      ]
     },
     "metadata": {},
     "output_type": "display_data"
    },
    {
     "name": "stdout",
     "output_type": "stream",
     "text": [
      "{'batch_size': 128, 'epochs': 5, 'learning_rate': 0.001, 'optimizer': 'adam'}\n",
      "Training set has 60000 instances\n",
      "Validation set has 10000 instances\n",
      "EPOCH 0  LOSS train 0.2658993592664504 valid 0.0005976908897282556 ACC 0.9741\n",
      "EPOCH 1  LOSS train 0.06918489278208759 valid 0.0003895148655923549 ACC 0.9845\n",
      "EPOCH 2  LOSS train 0.05024655158373355 valid 0.0003202671031758655 ACC 0.9871\n",
      "EPOCH 3  LOSS train 0.04015618679386728 valid 0.0002837814381287899 ACC 0.9887\n"
     ]
    }
   ],
   "source": [
    "wandb.agent(sweep_id, function=train, count=6)"
   ]
  },
  {
   "cell_type": "code",
   "execution_count": null,
   "id": "600dd79b-44d1-433a-8846-a9c8aef1ec8e",
   "metadata": {},
   "outputs": [],
   "source": [
    "with open(\"./configs_sweep.pkl\",\"wb\") as f:\n",
    "        pickle.dump(configs_sweep,f)\n",
    "with open(\"./accuracies_sweep.pkl\",\"wb\") as f:\n",
    "    pickle.dump(accuracies_sweep,f)"
   ]
  },
  {
   "cell_type": "code",
   "execution_count": null,
   "id": "2d178dcf-99f0-4298-b9d5-e73de71d41a4",
   "metadata": {},
   "outputs": [],
   "source": []
  }
 ],
 "metadata": {
  "kernelspec": {
   "display_name": "Python 3 (ipykernel)",
   "language": "python",
   "name": "python3"
  },
  "language_info": {
   "codemirror_mode": {
    "name": "ipython",
    "version": 3
   },
   "file_extension": ".py",
   "mimetype": "text/x-python",
   "name": "python",
   "nbconvert_exporter": "python",
   "pygments_lexer": "ipython3",
   "version": "3.8.18"
  }
 },
 "nbformat": 4,
 "nbformat_minor": 5
}
