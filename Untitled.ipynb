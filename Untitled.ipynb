{
 "cells": [
  {
   "cell_type": "markdown",
   "id": "e384797e-5ee5-4b5a-8046-8b5989ef5614",
   "metadata": {},
   "source": [
    "# Q2 CNNs and Transformers [6 points]"
   ]
  },
  {
   "cell_type": "code",
   "execution_count": 1,
   "id": "5b2cb97a-4691-4cef-95f6-488a09921997",
   "metadata": {},
   "outputs": [
    {
     "name": "stderr",
     "output_type": "stream",
     "text": [
      "/home/srihari/miniconda3/envs/conda_cv/lib/python3.11/site-packages/torchvision/io/image.py:13: UserWarning: Failed to load image Python extension: 'libc10_cuda.so: cannot open shared object file: No such file or directory'If you don't plan on using image functionality from `torchvision.io`, you can ignore this warning. Otherwise, there might be something wrong with your environment. Did you have `libjpeg` or `libpng` installed before building `torchvision` from source?\n",
      "  warn(\n"
     ]
    }
   ],
   "source": [
    "import cv2\n",
    "import numpy as np\n",
    "import matplotlib.pyplot as plt\n",
    "import pickle\n",
    "import os\n",
    "import multiprocessing\n",
    "\n",
    "from sklearn.metrics import accuracy_score\n",
    "\n",
    "import torch\n",
    "import torchvision\n",
    "\n",
    "# PyTorch TensorBoard support\n",
    "from torch.utils.tensorboard import SummaryWriter\n",
    "from datetime import datetime"
   ]
  },
  {
   "cell_type": "code",
   "execution_count": null,
   "id": "3ff1c3d9-2a43-4bed-8e2f-267a7aa1fb04",
   "metadata": {},
   "outputs": [],
   "source": []
  },
  {
   "cell_type": "code",
   "execution_count": 2,
   "id": "c8d05a0e-bac7-440b-9669-fbbd99bc51ef",
   "metadata": {},
   "outputs": [
    {
     "data": {
      "text/plain": [
       "('cpu', '2.2.0', 0)"
      ]
     },
     "execution_count": 2,
     "metadata": {},
     "output_type": "execute_result"
    }
   ],
   "source": [
    "device = \"cuda\" if torch.cuda.is_available() else \"cpu\"\n",
    "device,torch.__version__,torch.cuda.device_count()"
   ]
  },
  {
   "cell_type": "code",
   "execution_count": 3,
   "id": "501ce963-e54a-40a9-8285-3994b2a41dfe",
   "metadata": {},
   "outputs": [],
   "source": [
    "# GPU operations have a separate seed we also want to set\n",
    "if torch.cuda.is_available():\n",
    "    torch.cuda.manual_seed(42)\n",
    "    torch.cuda.manual_seed_all(42)\n",
    "\n",
    "# Additionally, some operations on a GPU are implemented stochastic for efficiency\n",
    "# We want to ensure that all operations are deterministic on GPU (if used) for reproducibility\n",
    "torch.backends.cudnn.deterministic = True\n",
    "torch.backends.cudnn.benchmark = False"
   ]
  },
  {
   "cell_type": "code",
   "execution_count": 4,
   "id": "29ac7902-dfc7-4d8e-9b1a-d6f792c4e43a",
   "metadata": {},
   "outputs": [],
   "source": [
    "# !nvidia-smi"
   ]
  },
  {
   "cell_type": "markdown",
   "id": "acccd668-db0f-4f26-93dd-1915988b75df",
   "metadata": {},
   "source": [
    "## CNN"
   ]
  },
  {
   "cell_type": "markdown",
   "id": "f7d02883-dabe-4deb-af92-ab216acf1297",
   "metadata": {},
   "source": [
    "### Dataset and Dataloader"
   ]
  },
  {
   "cell_type": "code",
   "execution_count": 5,
   "id": "6f09aa70-013a-4309-b436-9845c627c356",
   "metadata": {},
   "outputs": [],
   "source": [
    "import torchvision.transforms as transforms\n",
    "from torchvision import datasets\n",
    "\n",
    "def data_get_load(batch_size=64):\n",
    "    transform = transforms.Compose(\n",
    "        [transforms.ToTensor(),\n",
    "        transforms.Normalize((0.5,), (0.5,))])\n",
    "    \n",
    "    # Create datasets for training & validation, download if necessary\n",
    "    training_set = datasets.MNIST('./data', train=True, transform=transform, download=True)\n",
    "    validation_set = datasets.MNIST('./data', train=False, transform=transform, download=True)\n",
    "    \n",
    "    # Create data loaders for our datasets; shuffle for training, not for validation\n",
    "    training_loader = torch.utils.data.DataLoader(training_set, batch_size=batch_size, shuffle=True)\n",
    "    validation_loader = torch.utils.data.DataLoader(validation_set, batch_size=batch_size, shuffle=False)\n",
    "    \n",
    "    # Report split sizes\n",
    "    print('Training set has {} instances'.format(len(training_set)))\n",
    "    print('Validation set has {} instances'.format(len(validation_set)))\n",
    "\n",
    "    return training_loader,validation_loader"
   ]
  },
  {
   "cell_type": "code",
   "execution_count": 6,
   "id": "249586ab-eddb-4b82-9b4d-cbb0c01fdecb",
   "metadata": {},
   "outputs": [
    {
     "name": "stdout",
     "output_type": "stream",
     "text": [
      "Training set has 60000 instances\n",
      "Validation set has 10000 instances\n",
      "5  1  9  7  1  2  4  8\n"
     ]
    },
    {
     "data": {
      "image/png": "[encoded data removed]",
      "text/plain": [
       "<Figure size 640x480 with 1 Axes>"
      ]
     },
     "metadata": {},
     "output_type": "display_data"
    }
   ],
   "source": [
    "import matplotlib.pyplot as plt\n",
    "import numpy as np\n",
    "\n",
    "# Helper function for inline image display\n",
    "def matplotlib_imshow(img, one_channel=False):\n",
    "    if one_channel:\n",
    "        img = img.mean(dim=0)\n",
    "    img = img / 2 + 0.5     # unnormalize\n",
    "    npimg = img.numpy()\n",
    "    if one_channel:\n",
    "        plt.imshow(npimg, cmap=\"Greys\")\n",
    "    else:\n",
    "        plt.imshow(np.transpose(npimg, (1, 2, 0)))\n",
    "\n",
    "training_loader,validation_loader = data_get_load(8)\n",
    "\n",
    "dataiter = iter(training_loader)\n",
    "images, labels = next(dataiter)\n",
    "\n",
    "# Create a grid from the images and show them\n",
    "img_grid = torchvision.utils.make_grid(images)\n",
    "matplotlib_imshow(img_grid, one_channel=True)\n",
    "print('  '.join(str(labels[j].numpy()) for j in range(8)))"
   ]
  },
  {
   "cell_type": "code",
   "execution_count": null,
   "id": "8fd631d0-62aa-47a2-8cd2-0d24ca9d25a2",
   "metadata": {},
   "outputs": [],
   "source": []
  },
  {
   "cell_type": "markdown",
   "id": "9ff4c509-7280-4f46-b85f-6eeb3447a13d",
   "metadata": {},
   "source": [
    "### Model"
   ]
  },
  {
   "cell_type": "code",
   "execution_count": 7,
   "id": "e82946a1-d836-4eaf-a60b-1f44197f75fe",
   "metadata": {},
   "outputs": [
    {
     "data": {
      "text/plain": [
       "LeNet(\n",
       "  (conv1): Conv2d(1, 6, kernel_size=(5, 5), stride=(1, 1))\n",
       "  (pool): MaxPool2d(kernel_size=2, stride=2, padding=0, dilation=1, ceil_mode=False)\n",
       "  (conv2): Conv2d(6, 16, kernel_size=(5, 5), stride=(1, 1))\n",
       "  (fc1): Linear(in_features=256, out_features=120, bias=True)\n",
       "  (fc2): Linear(in_features=120, out_features=84, bias=True)\n",
       "  (fc3): Linear(in_features=84, out_features=10, bias=True)\n",
       ")"
      ]
     },
     "execution_count": 7,
     "metadata": {},
     "output_type": "execute_result"
    }
   ],
   "source": [
    "import torch.nn as nn\n",
    "import torch.nn.functional as F\n",
    "\n",
    "# PyTorch models inherit from torch.nn.Module\n",
    "class LeNet(nn.Module):\n",
    "    def __init__(self):\n",
    "        super(LeNet, self).__init__()\n",
    "        self.conv1 = nn.Conv2d(1, 6, 5)\n",
    "        self.pool = nn.MaxPool2d(2, 2)\n",
    "        self.conv2 = nn.Conv2d(6, 16, 5)\n",
    "        self.fc1 = nn.Linear(16 * 4 * 4, 120)\n",
    "        self.fc2 = nn.Linear(120, 84)\n",
    "        self.fc3 = nn.Linear(84, 10)\n",
    "\n",
    "    def forward(self, x):\n",
    "        x = self.pool(F.relu(self.conv1(x)))\n",
    "        x = self.pool(F.relu(self.conv2(x)))\n",
    "        x = x.view(-1, 16 * 4 * 4)\n",
    "        x = F.relu(self.fc1(x))\n",
    "        x = F.relu(self.fc2(x))\n",
    "        x = self.fc3(x)\n",
    "        return x\n",
    "\n",
    "model = LeNet()\n",
    "model.to(device)"
   ]
  },
  {
   "cell_type": "code",
   "execution_count": 8,
   "id": "2eefac2e-0f44-4a98-9015-dbe78b8ab9a2",
   "metadata": {},
   "outputs": [],
   "source": [
    "loss_fn = torch.nn.CrossEntropyLoss()"
   ]
  },
  {
   "cell_type": "code",
   "execution_count": 9,
   "id": "ff719b28-9097-4abf-9679-72962d42598b",
   "metadata": {},
   "outputs": [],
   "source": [
    "optimizer = torch.optim.Adam(model.parameters())"
   ]
  },
  {
   "cell_type": "markdown",
   "id": "8ff4df74-f3d2-48f6-9ab4-dcc003fd15fc",
   "metadata": {},
   "source": [
    "### Trainer"
   ]
  },
  {
   "cell_type": "code",
   "execution_count": 28,
   "id": "c780668f-daac-4ade-8c0c-74afa3563c18",
   "metadata": {},
   "outputs": [],
   "source": [
    "# train One epoch\n",
    "\n",
    "def train_one_epoch(model,train_loader,loss_fn,optimizer,device,epoch_index,tb_writer,wandb=None,write = True):\n",
    "\n",
    "    # Make sure gradient tracking is on, and do a pass over the data\n",
    "    model.train(True)\n",
    "    running_loss =0\n",
    "    last_loss = 0\n",
    "    for i,data in enumerate(training_loader):\n",
    "        inputs,labels = data\n",
    "        inputs,labels = inputs.to(device), labels.to(device)\n",
    "        optimizer.zero_grad()        \n",
    "        outputs=model(inputs)\n",
    "        loss = loss_fn(outputs,labels)\n",
    "        loss.backward()\n",
    "        optimizer.step()\n",
    "        running_loss +=loss.item()\n",
    "\n",
    "        if i%1000 == 999:\n",
    "            last_loss = running_loss/1000\n",
    "            print(f\"{i+1}th batch => {last_loss}\")\n",
    "            if(write):\n",
    "                tb_x = epoch_index * len(training_loader)\n",
    "                tb_writer.add_scalar('Loss/train', last_loss, tb_x)\n",
    "            i\n",
    "            running_loss = 0.\n",
    "    return last_loss        "
   ]
  },
  {
   "cell_type": "code",
   "execution_count": 11,
   "id": "0d84144d-e92b-43b1-8256-b1f146edf00d",
   "metadata": {},
   "outputs": [],
   "source": [
    "# test one epoch\n",
    "def test_one_epoch(model,test_loader,loss_fn,device):\n",
    "\n",
    "    # Set the model to evaluation mode, disabling dropout and using population\n",
    "    # statistics for batch normalization.\n",
    "    model.eval()\n",
    "    running_loss =0\n",
    "    last_loss = 0\n",
    "    correct = 0\n",
    "    with torch.no_grad():\n",
    "        for i,data in enumerate(test_loader):\n",
    "            inputs,labels = data\n",
    "            inputs,labels = inputs.to(device), labels.to(device)\n",
    "\n",
    "            outputs=model(inputs)\n",
    "            \n",
    "            loss = loss_fn(outputs,labels)\n",
    "            running_loss +=loss.item()\n",
    "            _,predicted = torch.max(outputs,1)\n",
    "            correct += (predicted == labels).sum().item()\n",
    "    accuracy = correct/len(test_loader.dataset)\n",
    "    return running_loss/len(test_loader.dataset) , accuracy    "
   ]
  },
  {
   "cell_type": "code",
   "execution_count": 12,
   "id": "5de2445f-7bd0-40e1-8065-0223e76fbef7",
   "metadata": {},
   "outputs": [],
   "source": [
    "# # Initializing in a separate cell so we can easily add more epochs to the same run\n",
    "# timestamp = datetime.now().strftime('%Y%m%d_%H%M%S')\n",
    "# writer = SummaryWriter('runs/mnist_trainer_{}'.format(timestamp))\n",
    "# epoch_number = 0\n",
    "\n",
    "# EPOCHS = 2\n",
    "\n",
    "# best_vloss = 1_000_000.\n",
    "\n",
    "# for epoch in range(EPOCHS):\n",
    "    \n",
    "#     print('EPOCH {}:'.format(epoch_number + 1))\n",
    "    \n",
    "#     avg_loss = train_one_epoch(model,training_loader,loss_fn,optimizer,device,epoch_number, writer)\n",
    "#     avg_vloss,v_acc = test_one_epoch(model,validation_loader,loss_fn,device)\n",
    "    \n",
    "#     print('LOSS train {} valid {}'.format(avg_loss, avg_vloss))\n",
    "\n",
    "#     # Log the running loss averaged per batch\n",
    "#     # for both training and validation\n",
    "#     writer.add_scalars('Training vs. Validation Loss',\n",
    "#                     { 'Training' : avg_loss, 'Validation' : avg_vloss },\n",
    "#                     epoch_number + 1)\n",
    "#     writer.flush()\n",
    "\n",
    "#     # Track best performance, and save the model's state\n",
    "#     if avg_vloss < best_vloss:\n",
    "#         best_vloss = avg_vloss\n",
    "#         model_path = './models/model_{}_{}'.format(timestamp, epoch_number)\n",
    "#         torch.save(model.state_dict(), model_path)\n",
    "\n",
    "#     epoch_number += 1"
   ]
  },
  {
   "cell_type": "code",
   "execution_count": 13,
   "id": "bc07d593-9712-4552-8602-cd837151ecb0",
   "metadata": {},
   "outputs": [
    {
     "data": {
      "text/plain": [
       "LeNet(\n",
       "  (conv1): Conv2d(1, 6, kernel_size=(5, 5), stride=(1, 1))\n",
       "  (pool): MaxPool2d(kernel_size=2, stride=2, padding=0, dilation=1, ceil_mode=False)\n",
       "  (conv2): Conv2d(6, 16, kernel_size=(5, 5), stride=(1, 1))\n",
       "  (fc1): Linear(in_features=256, out_features=120, bias=True)\n",
       "  (fc2): Linear(in_features=120, out_features=84, bias=True)\n",
       "  (fc3): Linear(in_features=84, out_features=10, bias=True)\n",
       ")"
      ]
     },
     "execution_count": 13,
     "metadata": {},
     "output_type": "execute_result"
    }
   ],
   "source": [
    "saved_model = LeNet()\n",
    "saved_model.load_state_dict(torch.load(\"./models/model_20240306_121901_0\", map_location=device))\n",
    "saved_model.to(device)"
   ]
  },
  {
   "cell_type": "code",
   "execution_count": 14,
   "id": "9c2ab5f9-b5d3-4cc6-909a-b72f0056c280",
   "metadata": {},
   "outputs": [
    {
     "name": "stdout",
     "output_type": "stream",
     "text": [
      "0.987\n"
     ]
    }
   ],
   "source": [
    "saved_model.eval()\n",
    "\n",
    "correct =0\n",
    "# Disable gradient computation and reduce memory consumption.\n",
    "with torch.no_grad():\n",
    "    for i, vdata in enumerate(validation_loader):\n",
    "        vinputs, vlabels = vdata\n",
    "        vinputs,vlabels=vinputs.to(device),vlabels.to(device)\n",
    "        voutputs = saved_model(vinputs)\n",
    "\n",
    "        _,predicted = torch.max(voutputs,1)\n",
    "        correct += (predicted == vlabels).sum().item()\n",
    "accuracy = correct/len(validation_loader.dataset)\n",
    "print(accuracy)"
   ]
  },
  {
   "cell_type": "code",
   "execution_count": 15,
   "id": "351df866-985a-4f60-8740-fedb77e1105a",
   "metadata": {},
   "outputs": [],
   "source": [
    "import wandb\n",
    "from pprint import pprint"
   ]
  },
  {
   "cell_type": "code",
   "execution_count": 20,
   "id": "cfd9626f-b1ed-461f-bfd0-30d807d96399",
   "metadata": {},
   "outputs": [
    {
     "data": {
      "text/plain": [
       "True"
      ]
     },
     "execution_count": 20,
     "metadata": {},
     "output_type": "execute_result"
    }
   ],
   "source": [
    "wandb.login()"
   ]
  },
  {
   "cell_type": "code",
   "execution_count": 21,
   "id": "5159602c-3897-4202-ac25-16d6b92fa475",
   "metadata": {},
   "outputs": [
    {
     "ename": "Error",
     "evalue": "You must call wandb.init() before wandb.config.learning_rate",
     "output_type": "error",
     "traceback": [
      "\u001b[0;31m---------------------------------------------------------------------------\u001b[0m",
      "\u001b[0;31mError\u001b[0m                                     Traceback (most recent call last)",
      "Cell \u001b[0;32mIn[21], line 2\u001b[0m\n\u001b[1;32m      1\u001b[0m \u001b[38;5;66;03m# run = wandb.init(project=\"CV_A1_Q2\")\u001b[39;00m\n\u001b[0;32m----> 2\u001b[0m wandb\u001b[38;5;241m.\u001b[39mconfig\u001b[38;5;241m.\u001b[39mlearning_rate \u001b[38;5;241m=\u001b[39m \u001b[38;5;241m0.001\u001b[39m\n\u001b[1;32m      3\u001b[0m wandb\u001b[38;5;241m.\u001b[39mconfig\u001b[38;5;241m.\u001b[39mbatch_size \u001b[38;5;241m=\u001b[39m \u001b[38;5;241m64\u001b[39m\n\u001b[1;32m      4\u001b[0m wandb\u001b[38;5;241m.\u001b[39mconfig\u001b[38;5;241m.\u001b[39mepoch \u001b[38;5;241m=\u001b[39m \u001b[38;5;241m2\u001b[39m\n",
      "File \u001b[0;32m~/miniconda3/envs/conda_cv/lib/python3.11/site-packages/wandb/sdk/lib/preinit.py:21\u001b[0m, in \u001b[0;36mPreInitObject.__setattr__\u001b[0;34m(self, key, value)\u001b[0m\n\u001b[1;32m     19\u001b[0m \u001b[38;5;28;01mdef\u001b[39;00m \u001b[38;5;21m__setattr__\u001b[39m(\u001b[38;5;28mself\u001b[39m, key: \u001b[38;5;28mstr\u001b[39m, value: Any) \u001b[38;5;241m-\u001b[39m\u001b[38;5;241m>\u001b[39m Any:\n\u001b[1;32m     20\u001b[0m     \u001b[38;5;28;01mif\u001b[39;00m \u001b[38;5;129;01mnot\u001b[39;00m key\u001b[38;5;241m.\u001b[39mstartswith(\u001b[38;5;124m\"\u001b[39m\u001b[38;5;124m_\u001b[39m\u001b[38;5;124m\"\u001b[39m):\n\u001b[0;32m---> 21\u001b[0m         \u001b[38;5;28;01mraise\u001b[39;00m wandb\u001b[38;5;241m.\u001b[39mError(\u001b[38;5;124mf\u001b[39m\u001b[38;5;124m\"\u001b[39m\u001b[38;5;124mYou must call wandb.init() before \u001b[39m\u001b[38;5;132;01m{\u001b[39;00m\u001b[38;5;28mself\u001b[39m\u001b[38;5;241m.\u001b[39m_name\u001b[38;5;132;01m}\u001b[39;00m\u001b[38;5;124m.\u001b[39m\u001b[38;5;132;01m{\u001b[39;00mkey\u001b[38;5;132;01m}\u001b[39;00m\u001b[38;5;124m\"\u001b[39m)\n\u001b[1;32m     22\u001b[0m     \u001b[38;5;28;01melse\u001b[39;00m:\n\u001b[1;32m     23\u001b[0m         \u001b[38;5;28;01mreturn\u001b[39;00m \u001b[38;5;28mobject\u001b[39m\u001b[38;5;241m.\u001b[39m\u001b[38;5;21m__setattr__\u001b[39m(\u001b[38;5;28mself\u001b[39m, key, value)\n",
      "\u001b[0;31mError\u001b[0m: You must call wandb.init() before wandb.config.learning_rate"
     ]
    }
   ],
   "source": [
    "# run = wandb.init(project=\"CV_A1_Q2\")\n",
    "wandb.config.learning_rate = 0.001\n",
    "wandb.config.batch_size = 64\n",
    "wandb.config.epoch = 2\n",
    "wandb.config.optimizer = \"adam\"\n",
    "# pprint(wandb.config)"
   ]
  },
  {
   "cell_type": "code",
   "execution_count": null,
   "id": "88529caf-8115-47fd-93ae-ee35fbe63b1a",
   "metadata": {},
   "outputs": [],
   "source": [
    "model = LeNet()\n",
    "model.to(device)\n",
    "loss_fn = torch.nn.CrossEntropyLoss()\n",
    "optimizer = torch.optim.Adam(model.parameters(),lr=wandb.config.learning_rate)"
   ]
  },
  {
   "cell_type": "code",
   "execution_count": 22,
   "id": "45986e65-ab18-452e-882f-9544d5a29bb5",
   "metadata": {},
   "outputs": [
    {
     "ename": "Error",
     "evalue": "You must call wandb.init() before wandb.config.batch_size",
     "output_type": "error",
     "traceback": [
      "\u001b[0;31m---------------------------------------------------------------------------\u001b[0m",
      "\u001b[0;31mError\u001b[0m                                     Traceback (most recent call last)",
      "Cell \u001b[0;32mIn[22], line 1\u001b[0m\n\u001b[0;32m----> 1\u001b[0m training_loader,validation_loader \u001b[38;5;241m=\u001b[39m data_get_load(wandb\u001b[38;5;241m.\u001b[39mconfig\u001b[38;5;241m.\u001b[39mbatch_size)\n",
      "File \u001b[0;32m~/miniconda3/envs/conda_cv/lib/python3.11/site-packages/wandb/sdk/lib/preinit.py:27\u001b[0m, in \u001b[0;36mPreInitObject.__getattr__\u001b[0;34m(self, key)\u001b[0m\n\u001b[1;32m     25\u001b[0m \u001b[38;5;28;01mdef\u001b[39;00m \u001b[38;5;21m__getattr__\u001b[39m(\u001b[38;5;28mself\u001b[39m, key: \u001b[38;5;28mstr\u001b[39m) \u001b[38;5;241m-\u001b[39m\u001b[38;5;241m>\u001b[39m Any:\n\u001b[1;32m     26\u001b[0m     \u001b[38;5;28;01mif\u001b[39;00m \u001b[38;5;129;01mnot\u001b[39;00m key\u001b[38;5;241m.\u001b[39mstartswith(\u001b[38;5;124m\"\u001b[39m\u001b[38;5;124m_\u001b[39m\u001b[38;5;124m\"\u001b[39m):\n\u001b[0;32m---> 27\u001b[0m         \u001b[38;5;28;01mraise\u001b[39;00m wandb\u001b[38;5;241m.\u001b[39mError(\u001b[38;5;124mf\u001b[39m\u001b[38;5;124m\"\u001b[39m\u001b[38;5;124mYou must call wandb.init() before \u001b[39m\u001b[38;5;132;01m{\u001b[39;00m\u001b[38;5;28mself\u001b[39m\u001b[38;5;241m.\u001b[39m_name\u001b[38;5;132;01m}\u001b[39;00m\u001b[38;5;124m.\u001b[39m\u001b[38;5;132;01m{\u001b[39;00mkey\u001b[38;5;132;01m}\u001b[39;00m\u001b[38;5;124m\"\u001b[39m)\n\u001b[1;32m     28\u001b[0m     \u001b[38;5;28;01melse\u001b[39;00m:\n\u001b[1;32m     29\u001b[0m         \u001b[38;5;28;01mraise\u001b[39;00m \u001b[38;5;167;01mAttributeError\u001b[39;00m\n",
      "\u001b[0;31mError\u001b[0m: You must call wandb.init() before wandb.config.batch_size"
     ]
    }
   ],
   "source": [
    "training_loader,validation_loader = data_get_load(wandb.config.batch_size)"
   ]
  },
  {
   "cell_type": "code",
   "execution_count": 26,
   "id": "0af116e7-c477-484a-a7b9-d563434416b6",
   "metadata": {},
   "outputs": [],
   "source": [
    "from torchmetrics import Accuracy, Precision, Recall, F1Score\n",
    "# Initialize metrics\n",
    "num_classes = 10\n",
    "accuracy = Accuracy(task='multiclass',num_classes=num_classes).to(device)\n",
    "precision = Precision(task='multiclass', average='macro', num_classes=num_classes).to(device)\n",
    "recall = Recall(task='multiclass', average='macro', num_classes=num_classes).to(device)\n",
    "f1 = F1Score(task='multiclass', average='macro', num_classes=num_classes).to(device)"
   ]
  },
  {
   "cell_type": "code",
   "execution_count": null,
   "id": "fcb208d3-46bf-4e03-97ec-19ebf2b1ca3a",
   "metadata": {},
   "outputs": [],
   "source": [
    "# Training loop\n",
    "for epoch_number in range(wandb.config.epoch):  # Number of epochs\n",
    "    correct = 0\n",
    "    total = 0\n",
    "    print('EPOCH {}:'.format(epoch_number + 1))\n",
    "    avg_loss = train_one_epoch(model,train_loader,loss_fn,optimizer,device,epoch_number,None,wandb,write=False)\n",
    "    acg\n",
    "    for images, labels in training_loader:\n",
    "        images, labels = images.to(device), labels.to(device) # Move to GPU\n",
    "\n",
    "        # Forward pass\n",
    "        outputs = model(images)\n",
    "        loss = loss_fn(outputs, labels)   # Calculate the loss\n",
    "\n",
    "        # Backward and optimize\n",
    "        optimizer.zero_grad()\n",
    "        loss.backward()\n",
    "        optimizer.step()\n",
    "\n",
    "        # Log metrics\n",
    "        wandb.log({\"loss\": loss.item()}) # what + when to track\n",
    "\n",
    "\n",
    "    # Validation loop\n",
    "    with torch.no_grad():\n",
    "        for i, (inputs, labels) in enumerate(validation_loader):\n",
    "            inputs, labels = inputs.to(device), labels.to(device)\n",
    "\n",
    "            # Calculate metrics\n",
    "            preds = torch.argmax(model(inputs), dim=1)\n",
    "            accuracy(preds, labels)\n",
    "            precision(preds, labels)\n",
    "            recall(preds, labels)\n",
    "            f1(preds, labels)\n",
    "            wandb.log({\"accuracy\": accuracy.compute(), \"precision\": precision.compute(), \"recall\": recall.compute(), \"f1\": f1.compute()})\n",
    "\n",
    "            # Reset metrics\n",
    "            accuracy.reset()\n",
    "            precision.reset()\n",
    "            recall.reset()\n",
    "            f1.reset()"
   ]
  }
 ],
 "metadata": {
  "kernelspec": {
   "display_name": "Python 3 (ipykernel)",
   "language": "python",
   "name": "python3"
  },
  "language_info": {
   "codemirror_mode": {
    "name": "ipython",
    "version": 3
   },
   "file_extension": ".py",
   "mimetype": "text/x-python",
   "name": "python",
   "nbconvert_exporter": "python",
   "pygments_lexer": "ipython3",
   "version": "3.11.7"
  }
 },
 "nbformat": 4,
 "nbformat_minor": 5
}
